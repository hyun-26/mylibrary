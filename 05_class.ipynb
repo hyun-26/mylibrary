{
 "cells": [
  {
   "cell_type": "markdown",
   "id": "cc90f8a1",
   "metadata": {},
   "source": [
    "\n",
    "### 은행 계좌 class 생성\n",
    "\n",
    "- 클래스 변수 생성(동일한 class를 생성하였을때 서로 공유하는 변수)\n",
    "    - total_cost = 0\n",
    "    - total_cnt = 0\n",
    "\n",
    "- 생성자 함수 (class간의 독립적인 변수 생성)\n",
    "    - 유저의 이름 : name       (type : str)\n",
    "    - 유저의 생년월일 : birth   (str)\n",
    "    - 계좌의 잔액 : cost        (int)\n",
    "    - 계좌의 기록(입/출금) :log   (list)\n",
    "    - 유저의 숫자(user_cnt)를 1 증가\n",
    "\n",
    "- 함수 생성\n",
    "    - 입/출금 함수\n",
    "        - 매개변수\n",
    "            - 입금과 출금을 확인하는 변수(_type) : 0이면 입금 1이면 출금\n",
    "            - 금액 (_cost)\n",
    "        - _type이 0이라면 계좌의 잔액(독립적인 변수) 증가, 은행이 가지고있는 총 금액(클래스 변수) 증가\n",
    "\n",
    "        - _type이 1이라면 계좌의 잔액을 감소, 은행이 가지고있는 총 금액 감소\n",
    "            - _cost가 self.cost보다 작거나 같은 경우\n",
    "                - 계좌의 잔액 감소, 은행의 총액 감소\n",
    "            - 위의 조건이 거짓이라면\n",
    "                - 계좌는 그대로 유지\n",
    "                - '잔액 부족' 메세지 출력\n",
    "\n",
    "            - 입/출금 내역을 self.log에 추가(append())\n",
    "\n",
    "\n",
    "    - 계좌의 입/출금 내역을 보여주는 함수\n",
    "        - 매개변수\n",
    "            - 입금 or 출금 or 전체내역을 확인할 수 있는 변수 (_mode)\n",
    "                - 기본값은 9 (모든 데이터를 보여준다는 의미)\n",
    "                - 입금 내역은 0, 출금 내역은 1\n",
    "        - _mode에 따라서 self.log에 있는 데이터를 필터해서 되돌려준다"
   ]
  },
  {
   "cell_type": "code",
   "execution_count": 52,
   "id": "df73dd49",
   "metadata": {},
   "outputs": [],
   "source": [
    "#class 선언\n",
    "\n",
    "class Bank:\n",
    "    #class 변수 선언\n",
    "    total_cost = 0 #유저가 입금시 증가, 출금시 감소\n",
    "    user_cnt = 0 #class 생성이 될때( 유저가 계좌를 생성할때 ) : 1씩 증가\n",
    "\n",
    "    #생성자 함수(__init__) 선언\n",
    "    def __init__(self, _name, _birth):  #매개변수 3가지\n",
    "        #독립적인 변수를 선언\n",
    "        self.name = _name\n",
    "        self.birth = _birth\n",
    "        self.cost = 0 \n",
    "        self.log = []\n",
    "\n",
    "        #유저의 수(class 변수)를 1 증가시킨다\n",
    "        Bank.user_cnt += 1\n",
    "\n",
    "    #입/출금 함수 선언\n",
    "    def change_cost(self,_type,_cost):\n",
    "        #_type이 0이라면 -> 입금\n",
    "        if _type == 0 :\n",
    "            #self.cost에 _cost만큼 증가\n",
    "            #self.cost = self.cost + _cost\n",
    "            self.cost += _cost\n",
    "\n",
    "            #Bank.total_cost에 _cost만큼 증가\n",
    "            Bank.total_cost += _cost\n",
    "\n",
    "            #log를 추가 -> dict 형태의 데이터를 추가\n",
    "            dict_data = {\n",
    "                \"타입\" : \"입금\",\n",
    "                \"금액\" : _cost,\n",
    "                \"잔액\" : self.cost\n",
    "            }\n",
    "            #self.log에 dict_data를 추가 -> self.log는 2차원 데이터 생성 \n",
    "            self.log.append(dict_data)\n",
    "            print(f\"입금완료 : 잔액은 {self.cost}입니다\")\n",
    "\n",
    "        elif _type == 1:\n",
    "            #출금\n",
    "            #slef.cost가 _cost보다 크거나 같은 경우\n",
    "            if self.cost >= _cost:\n",
    "                #출금이 가능\n",
    "                #self.cost를 _cost만큼 감소\n",
    "                self.cost -= _cost\n",
    "                #Bank.cost를 _cost만큼 감소\n",
    "                Bank.total_cost -= _cost\n",
    "                #dict_data 생성 -> self.log 추가\n",
    "                dict_data = {\n",
    "                    \"타입\" : \"출금\",\n",
    "                    \"금액\" : _cost,\n",
    "                    \"잔액\" : self.cost\n",
    "                }\n",
    "                self.log.append(dict_data)\n",
    "                print(f\"출금완료 : 잔액은 {self.cost}입니다\")  #str기법 : f-string ( {변수}의 값을 문자로 바꿔줌) , r-string(경로)\n",
    "\n",
    "            else : \n",
    "                print(\"현재 잔액이 부족합니다.\")\n",
    "        else :\n",
    "            #_type에 데이터가 잘못 들어왔을때\n",
    "            print(('_type이 잘못되었습니다'))\n",
    "\n",
    "\n",
    "    def view_log(self, _mode = 9 ):\n",
    "        #입/출금 내역(self.log)을 출력\n",
    "        #_mode =9인 경우 : 전체 내역 출력\n",
    "        if _mode == 9 : \n",
    "            #self.log를 기준으로 반복문을 생성\n",
    "            for log_data in self.log: #특정 데이터를 이용할때는 i 보다 그 데이터 이름 활용\n",
    "                print(log_data)\n",
    "\n",
    "        #입금내역만 출력한다. _mode가 0이라면\n",
    "        elif _mode == 0 :\n",
    "            for log_data in self.log:\n",
    "                #log_data의 type -> dict { \"타입\" : \"xx\", \"금액\" : xxxx, \"잔액\" : xxxx }\n",
    "                #log_data에서 key가 '타입'인 value의 값이 '입금'이라면\n",
    "                if log_data['타입'] == '입금' :\n",
    "                    print(log_data)\n",
    "        \n",
    "        elif _mode == 1 :\n",
    "            for log_data in self.log:\n",
    "                if log_data['타입'] == '출금' :\n",
    "                    print(log_data)\n",
    "        \n",
    "        else :\n",
    "            print(\"mode의 값이 잘못되었습니다\")\n",
    "\n",
    "\n"
   ]
  },
  {
   "cell_type": "code",
   "execution_count": 53,
   "id": "a4ab0572",
   "metadata": {},
   "outputs": [],
   "source": [
    "#class 생성 -> 은행의 계좌 생성\n",
    "user1 = Bank('kim','900101')\n",
    "user2 = Bank('park','001020')\n",
    "# 두명의 유저 등록 \n",
    "# user_cnt = 2 가 되어있어야함\n"
   ]
  },
  {
   "cell_type": "code",
   "execution_count": 54,
   "id": "36220b18",
   "metadata": {},
   "outputs": [
    {
     "name": "stdout",
     "output_type": "stream",
     "text": [
      "2\n",
      "2\n"
     ]
    }
   ],
   "source": [
    "print(user1.user_cnt)\n",
    "print(user2.user_cnt)\n",
    "# 생성자함수까지 만듬"
   ]
  },
  {
   "cell_type": "code",
   "execution_count": 55,
   "id": "052e4f14",
   "metadata": {},
   "outputs": [
    {
     "name": "stdout",
     "output_type": "stream",
     "text": [
      "입금완료 : 잔액은 10000입니다\n"
     ]
    }
   ],
   "source": [
    "#user1이 입금 함수를 호출\n",
    "user1.change_cost(_cost = 10000, _type = 0)"
   ]
  },
  {
   "cell_type": "code",
   "execution_count": 56,
   "id": "2c1367df",
   "metadata": {},
   "outputs": [
    {
     "name": "stdout",
     "output_type": "stream",
     "text": [
      "현재 잔액이 부족합니다.\n"
     ]
    }
   ],
   "source": [
    "#user2에서 출금 함수를 호출 -> user2의 잔액은 0 -> 출금하면 잔액부족\n",
    "user2.change_cost(1,10000)"
   ]
  },
  {
   "cell_type": "code",
   "execution_count": 57,
   "id": "f2935f8f",
   "metadata": {},
   "outputs": [
    {
     "name": "stdout",
     "output_type": "stream",
     "text": [
      "10000\n",
      "10000\n",
      "10000\n",
      "0\n"
     ]
    }
   ],
   "source": [
    "print(user1.total_cost)\n",
    "print(user1.cost)\n",
    "print(user2.total_cost)\n",
    "print(user2.cost)"
   ]
  },
  {
   "cell_type": "code",
   "execution_count": 58,
   "id": "5d50a112",
   "metadata": {},
   "outputs": [
    {
     "name": "stdout",
     "output_type": "stream",
     "text": [
      "출금완료 : 잔액은 0입니다\n"
     ]
    }
   ],
   "source": [
    "user1.change_cost(1,10000)"
   ]
  },
  {
   "cell_type": "code",
   "execution_count": 59,
   "id": "df38a1c1",
   "metadata": {},
   "outputs": [
    {
     "name": "stdout",
     "output_type": "stream",
     "text": [
      "{'타입': '입금', '금액': 10000, '잔액': 10000}\n",
      "{'타입': '출금', '금액': 10000, '잔액': 0}\n"
     ]
    }
   ],
   "source": [
    "#Bank class에 있는 view_log 함수 호출\n",
    "user1.view_log()"
   ]
  },
  {
   "cell_type": "code",
   "execution_count": 60,
   "id": "b349a203",
   "metadata": {},
   "outputs": [
    {
     "name": "stdout",
     "output_type": "stream",
     "text": [
      "{'타입': '입금', '금액': 10000, '잔액': 10000}\n"
     ]
    }
   ],
   "source": [
    "user1.view_log(_mode = 0)"
   ]
  },
  {
   "cell_type": "code",
   "execution_count": 61,
   "id": "522bb5e0",
   "metadata": {},
   "outputs": [
    {
     "name": "stdout",
     "output_type": "stream",
     "text": [
      "{'타입': '출금', '금액': 10000, '잔액': 0}\n"
     ]
    }
   ],
   "source": [
    "user1.view_log(_mode = 1)"
   ]
  },
  {
   "cell_type": "markdown",
   "id": "57181ae8",
   "metadata": {},
   "source": [
    "### class의 상속\n",
    "\n",
    "- 상속? -> 물려받다\n",
    "    - class간의 상속은 부모 클래스에 있는 기능(변수,함수)을 자식 클래스에서 사용이 가능하게 만드는 기능\n",
    "\n",
    "    - 부모 클래스의 기능은 그대로 유지한 상태에서 자식 클래스에서 해당 기능을 그대로 사용하거나 약간의 변형을하여 사용이 가능\n",
    "\n",
    "    - 자식 클래스에서 부모 클래스에 접근하는 방법 : super() -> 부모 클래스 의미"
   ]
  },
  {
   "cell_type": "code",
   "execution_count": null,
   "id": "eb4c0730",
   "metadata": {},
   "outputs": [],
   "source": [
    "# 부모 클래스 선언\n",
    "\n",
    "class A:\n",
    "    def __init__(self, _name, _birth):\n",
    "        self.name = _name\n",
    "        self.birth = _birth\n",
    "    #class에 저장된 유저의 정보를 출력하는 함수\n",
    "    def view_info(self):\n",
    "        print(f\"이름은{self.name}이고, 나이는 {self.birth}입니다.\")\n",
    "\n",
    "    "
   ]
  },
  {
   "cell_type": "code",
   "execution_count": 104,
   "id": "5149480c",
   "metadata": {},
   "outputs": [],
   "source": [
    "test_user = A('kim',20)"
   ]
  },
  {
   "cell_type": "code",
   "execution_count": 105,
   "id": "9b0b5fd1",
   "metadata": {},
   "outputs": [
    {
     "name": "stdout",
     "output_type": "stream",
     "text": [
      "이름은kim이고, 나이는 20입니다.\n"
     ]
    }
   ],
   "source": [
    "test_user.view_info()"
   ]
  },
  {
   "cell_type": "code",
   "execution_count": null,
   "id": "1cccab7e",
   "metadata": {},
   "outputs": [],
   "source": [
    "#자식 클래스 선언 -> A 클래스의 기능을 상속받는다\n",
    "class B(A): \n",
    "    #B class는 A의 변수 2개와 view_info()라는 함수 사용이 가능\n",
    "    #생성자 함수\n",
    "    def __init__(self,_name,_birth,_loc):\n",
    "        # 부모클래스에서 저장하는 부분\n",
    "        # self.name = _name\n",
    "        # self.age = _age\n",
    "        # 간단하게 저장이 되지 않는 경우\n",
    "        #부모클래스(super())에 안에(.) 생성자함수(__init__()) 호출\n",
    "        super().__init__(_name,_birth)\n",
    "        self.loc = _loc\n",
    "    \n",
    "    def view_info2(self):\n",
    "        print(f\"이름은 {self.name}이고 나이는 {self.birth}, 지역은  {self.loc}입니다\")\n",
    "        #print(f\"지역은 {self.loc}입니다\")"
   ]
  },
  {
   "cell_type": "code",
   "execution_count": 124,
   "id": "7352ca78",
   "metadata": {},
   "outputs": [],
   "source": [
    "test_user2 = B('park','30','seoul')"
   ]
  },
  {
   "cell_type": "code",
   "execution_count": 125,
   "id": "d4eafb3d",
   "metadata": {},
   "outputs": [
    {
     "name": "stdout",
     "output_type": "stream",
     "text": [
      "이름은 park이고 나이는 30, 지역은  seoul입니다\n",
      "None\n"
     ]
    }
   ],
   "source": [
    "#test_user2에 사용 가능한 함수는 2개 -> view_info(), view_info2()\n",
    "print(test_user2.view_info2()) #return이 없어서 None이 나옴"
   ]
  },
  {
   "cell_type": "code",
   "execution_count": 126,
   "id": "25a2fa31",
   "metadata": {},
   "outputs": [
    {
     "name": "stdout",
     "output_type": "stream",
     "text": [
      "이름은 park이고 나이는 30, 지역은  seoul입니다\n",
      "None\n"
     ]
    }
   ],
   "source": [
    "#test_user2에 사용 가능한 함수는 2개 -> view_info(), view_info2()\n",
    "print(test_user2.view_info2())"
   ]
  },
  {
   "cell_type": "code",
   "execution_count": 127,
   "id": "85a68b9d",
   "metadata": {},
   "outputs": [
    {
     "name": "stdout",
     "output_type": "stream",
     "text": [
      "이름은 park이고 나이는 30, 지역은  seoul입니다\n",
      "None\n"
     ]
    }
   ],
   "source": [
    "print(test_user2.view_info2())\n",
    "\n",
    "#github 코드 확인 필요"
   ]
  },
  {
   "cell_type": "markdown",
   "id": "57465260",
   "metadata": {},
   "source": [
    "### User class 선언\n",
    "- Bank 클래스의 기능을 상속받는다\n",
    "- 일의 종류와 금액을 나타내는 dict 형태의 데이터를 클래스 변수에 저장\n",
    "- 구매할 상품의 종류와 금액을 나타내는  dict 형태의 데이터를 클래스에 저장\n",
    "\n",
    "- 생성자 함수 선언\n",
    "    - Bank 클래스 안에 변수 _name, _age 데이터를 받는다\n",
    "    - 구매한 물건의 목록을 저장하기 위해 비어있는 리스트를 생성\n",
    "\n",
    "- 일을한다 -> work() 함수 선언\n",
    "    - 매개변수\n",
    "        - 일의 종류(_type)\n",
    "    - _type에 따라서 금액이 지정\n",
    "        - dict을 이용하여 금액을 지정\n",
    "    - 유저의 잔액을 금액만큼 증가\n",
    "        - Bank(부모 클래스) 안에 있는 change_cost() 함수를 이용\n",
    "- 지출, 구매하는 함수 선언 -> buy()\n",
    "    - 매개변수\n",
    "        - 물건의 종류(_type)\n",
    "    - _type에 따라서 금액 지정\n",
    "        - dict을 이용하여 금액을 지정\n",
    "    - 구매하려는 물건의 금액과 유저의 잔액(self.cost)을 비교\n",
    "        - 유저의 잔액이 크거나 같다면\n",
    "            - 부모클래스의 change_cost 함수를 이용\n",
    "            - 구매한 물건의 종류를 목록에 추가\n",
    "        - 작다면 \n",
    "            - \"잔액이 부족합니다\" 메세지 출력"
   ]
  },
  {
   "cell_type": "code",
   "execution_count": 253,
   "id": "c554693c",
   "metadata": {},
   "outputs": [],
   "source": [
    "#User class 선언하고 Bank class의 기능을 상속받는다\n",
    "class User(Bank):\n",
    "    #클래스 변수 생성\n",
    "    work_types = {\n",
    "        'A' : 10000,\n",
    "        'B' : 20000,\n",
    "        'C' : 30000\n",
    "    }\n",
    "\n",
    "    item_list = {\n",
    "        \"돈까스\" : 7000,\n",
    "        \"학식\" : 6000,\n",
    "        \"햄버거\" : 8000,\n",
    "        \"탕수육\" : 19000\n",
    "    }\n",
    "\n",
    "    #생성자함수 -> 변수들을 저장\n",
    "    def __init__(self, _name, birth):\n",
    "        #_name,_age는 부모클래스의 생성자 함수를 이용하여 저장\n",
    "        super().__init__(_name,birth)\n",
    "        #유저가 구매한 물건의 목록을 생성하여 비어있는 리스트를 대임\n",
    "        self.items = []\n",
    "    \n",
    "    # work() 함수생성\n",
    "    def work(self,_type):\n",
    "        #_type에 따라 금액이 지정 -> work_types에 저장\n",
    "        #work_type에 없는 key를 지정하면 error발생 -> 예외처리\n",
    "        try:\n",
    "            # 실행할 코드를 작성\n",
    "            cost = User.work_types[_type]\n",
    "            # 잔액을 증가시킨다\n",
    "            # 부모클래스에 있는 change_cost() 함수를 호출\n",
    "            super().change_cost(_type=0, _cost = cost)\n",
    "\n",
    "        except:\n",
    "            #try 영역에 있는 코드들이 실행되다가 문제가 발생했을때\n",
    "            print(\"work_types에 존재하지않는 _type을 입력하였습니다.\")\n",
    "        \n",
    "    \n",
    "    #buy 함수를 생성\n",
    "    def buy(self, _type, _cnt = 1):\n",
    "        #_type에 따라 금액 지정\n",
    "        try:\n",
    "            #i tem_list에 있는 물건의 금액을 불러온다\n",
    "            cost = User.item_list[_type] * _cnt\n",
    "            #현재 잔액과 cost를 비교\n",
    "\n",
    "            if self.cost >= cost :\n",
    "                #구매가 성공하는 조건\n",
    "                #부모클래스에서 change_cost함수 호출\n",
    "                super().change_cost(_type =1, _cost = cost)\n",
    "                #self.items에 구매한 물건(개수)를 추가\n",
    "                self.items.append(\n",
    "                    f\"{_type} X {_cnt}\"\n",
    "                )   \n",
    "            else:\n",
    "                #구매가 실패하는 조건\n",
    "                print(\"구매실패 : 잔액이 부족합니다\")\n",
    "\n",
    "        except:\n",
    "            print(\"구매 실패 : 구매하려는 물건의 정보가 존재하지 않습니다\")\n",
    "\n",
    "    #유저의 정보를 출력해주는 함수를 생성\n",
    "    def user_info(self):\n",
    "        print(f\"\"\"\n",
    "              이름 : {self.name},\n",
    "              나이 : {self.birth},\n",
    "              잔액 : {self.cost},\n",
    "              구매한 물건의 목록 : {self.items}\n",
    "              \"\"\")\n",
    "    \n",
    "    #함수생성 -> 매개변수 3개 (_select, _key, _value)\n",
    "    def add_type(self,_select,_key,_value):\n",
    "        #_select가 \"work라면\"\n",
    "        if _select == \"work\" :\n",
    "            #클래스변수 work_type에 _key : _value를 추가\n",
    "            User.work_types[_key] = _value\n",
    "\n",
    "        #_select가 \"item이라면\"\n",
    "        if _select == \"item_list\" :\n",
    "            #클래스변수 item_list에 _key : _value를 추가\n",
    "            User.item_list[_key] = _value\n",
    "\n",
    "\n",
    "        #그 외의 경우\n",
    "        else:\n",
    "            #\"_select에는 work / item만 사용이 가능합니다\" 메세지 출력\n",
    "            print(\"_select에는 work / item만 사용이 가능합니다\")\n",
    "\n",
    "\n"
   ]
  },
  {
   "cell_type": "code",
   "execution_count": 254,
   "id": "76df50d0",
   "metadata": {},
   "outputs": [],
   "source": [
    "user1 = User('kim',20)"
   ]
  },
  {
   "cell_type": "code",
   "execution_count": 255,
   "id": "22d45326",
   "metadata": {},
   "outputs": [
    {
     "name": "stdout",
     "output_type": "stream",
     "text": [
      "입금완료 : 잔액은 10000입니다\n"
     ]
    }
   ],
   "source": [
    "user1.work('A')"
   ]
  },
  {
   "cell_type": "code",
   "execution_count": 256,
   "id": "3bb9562e",
   "metadata": {},
   "outputs": [
    {
     "name": "stdout",
     "output_type": "stream",
     "text": [
      "work_types에 존재하지않는 _type을 입력하였습니다.\n"
     ]
    }
   ],
   "source": [
    "user1.work('D')"
   ]
  },
  {
   "cell_type": "code",
   "execution_count": 257,
   "id": "2ee6c647",
   "metadata": {},
   "outputs": [
    {
     "name": "stdout",
     "output_type": "stream",
     "text": [
      "입금완료 : 잔액은 30000입니다\n"
     ]
    }
   ],
   "source": [
    "user1.work('B')"
   ]
  },
  {
   "cell_type": "code",
   "execution_count": 258,
   "id": "05ce0e3f",
   "metadata": {},
   "outputs": [
    {
     "name": "stdout",
     "output_type": "stream",
     "text": [
      "입금완료 : 잔액은 60000입니다\n"
     ]
    }
   ],
   "source": [
    "user1.work('C')"
   ]
  },
  {
   "cell_type": "code",
   "execution_count": 259,
   "id": "bc2c255e",
   "metadata": {},
   "outputs": [
    {
     "name": "stdout",
     "output_type": "stream",
     "text": [
      "출금완료 : 잔액은 53000입니다\n"
     ]
    }
   ],
   "source": [
    "#구매함수 호출\n",
    "user1.buy('돈까스')"
   ]
  },
  {
   "cell_type": "code",
   "execution_count": 260,
   "id": "24579be4",
   "metadata": {},
   "outputs": [
    {
     "name": "stdout",
     "output_type": "stream",
     "text": [
      "출금완료 : 잔액은 21000입니다\n"
     ]
    }
   ],
   "source": [
    "user1.buy('햄버거',4)"
   ]
  },
  {
   "cell_type": "code",
   "execution_count": 261,
   "id": "3e2a15fd",
   "metadata": {},
   "outputs": [
    {
     "name": "stdout",
     "output_type": "stream",
     "text": [
      "구매실패 : 잔액이 부족합니다\n"
     ]
    }
   ],
   "source": [
    "user1.buy('탕수육',2)"
   ]
  },
  {
   "cell_type": "code",
   "execution_count": 262,
   "id": "ce76dffd",
   "metadata": {},
   "outputs": [
    {
     "name": "stdout",
     "output_type": "stream",
     "text": [
      "구매 실패 : 구매하려는 물건의 정보가 존재하지 않습니다\n"
     ]
    }
   ],
   "source": [
    "user1.buy('크림새우')"
   ]
  },
  {
   "cell_type": "code",
   "execution_count": 263,
   "id": "237a3f1a",
   "metadata": {},
   "outputs": [
    {
     "data": {
      "text/plain": [
       "['돈까스 X 1', '햄버거 X 4']"
      ]
     },
     "execution_count": 263,
     "metadata": {},
     "output_type": "execute_result"
    }
   ],
   "source": [
    "user1.items"
   ]
  },
  {
   "cell_type": "code",
   "execution_count": 264,
   "id": "e19df80c",
   "metadata": {},
   "outputs": [
    {
     "name": "stdout",
     "output_type": "stream",
     "text": [
      "_select에는 work / item만 사용이 가능합니다\n"
     ]
    }
   ],
   "source": [
    "#add_type() 함수 호출\n",
    "user1.add_type('work','D',50000)"
   ]
  },
  {
   "cell_type": "code",
   "execution_count": 265,
   "id": "440f42f0",
   "metadata": {},
   "outputs": [
    {
     "data": {
      "text/plain": [
       "{'A': 10000, 'B': 20000, 'C': 30000, 'D': 50000}"
      ]
     },
     "execution_count": 265,
     "metadata": {},
     "output_type": "execute_result"
    }
   ],
   "source": [
    "user1.work_types"
   ]
  },
  {
   "cell_type": "code",
   "execution_count": 266,
   "id": "cd728458",
   "metadata": {},
   "outputs": [],
   "source": [
    "user1.add_type('item_list','크림새우',20000)"
   ]
  },
  {
   "cell_type": "code",
   "execution_count": 267,
   "id": "5426f5e9",
   "metadata": {},
   "outputs": [
    {
     "name": "stdout",
     "output_type": "stream",
     "text": [
      "\n",
      "              이름 : kim,\n",
      "              나이 : 20,\n",
      "              잔액 : 21000,\n",
      "              구매한 물건의 목록 : ['돈까스 X 1', '햄버거 X 4']\n",
      "              \n"
     ]
    }
   ],
   "source": [
    "user1.user_info()"
   ]
  },
  {
   "cell_type": "code",
   "execution_count": 268,
   "id": "3a5ea8f7",
   "metadata": {},
   "outputs": [],
   "source": [
    "user2 = User('park',30)"
   ]
  },
  {
   "cell_type": "code",
   "execution_count": 269,
   "id": "80e59690",
   "metadata": {},
   "outputs": [
    {
     "name": "stdout",
     "output_type": "stream",
     "text": [
      "입금완료 : 잔액은 50000입니다\n"
     ]
    }
   ],
   "source": [
    "user2.work('D')"
   ]
  },
  {
   "cell_type": "code",
   "execution_count": null,
   "id": "7109e4be",
   "metadata": {},
   "outputs": [],
   "source": []
  },
  {
   "cell_type": "code",
   "execution_count": null,
   "id": "a23875f3",
   "metadata": {},
   "outputs": [],
   "source": []
  },
  {
   "cell_type": "code",
   "execution_count": null,
   "id": "d5b19735",
   "metadata": {},
   "outputs": [],
   "source": []
  },
  {
   "cell_type": "code",
   "execution_count": null,
   "id": "7890af48",
   "metadata": {},
   "outputs": [],
   "source": []
  },
  {
   "cell_type": "code",
   "execution_count": null,
   "id": "df35aa3a",
   "metadata": {},
   "outputs": [],
   "source": []
  }
 ],
 "metadata": {
  "kernelspec": {
   "display_name": "Python 3",
   "language": "python",
   "name": "python3"
  },
  "language_info": {
   "codemirror_mode": {
    "name": "ipython",
    "version": 3
   },
   "file_extension": ".py",
   "mimetype": "text/x-python",
   "name": "python",
   "nbconvert_exporter": "python",
   "pygments_lexer": "ipython3",
   "version": "3.13.7"
  }
 },
 "nbformat": 4,
 "nbformat_minor": 5
}
