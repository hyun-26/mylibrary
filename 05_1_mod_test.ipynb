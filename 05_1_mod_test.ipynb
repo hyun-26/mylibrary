{
 "cells": [
  {
   "cell_type": "code",
   "execution_count": 2,
   "id": "ac40ec7a",
   "metadata": {},
   "outputs": [],
   "source": [
    "#외부의 파일을 로드\n",
    "import mod #mod파일과 mod_test파일이 같은 폴더 내에 있어야함 -> 경로가 다르면 에러남\n"
   ]
  },
  {
   "cell_type": "code",
   "execution_count": 3,
   "id": "fd39b507",
   "metadata": {},
   "outputs": [
    {
     "data": {
      "text/plain": [
       "'모듈안에 있는 텍스트'"
      ]
     },
     "execution_count": 3,
     "metadata": {},
     "output_type": "execute_result"
    }
   ],
   "source": [
    "#모듈 안에 변수를 호출\n",
    "mod.test_vari"
   ]
  },
  {
   "cell_type": "code",
   "execution_count": 4,
   "id": "7113d12c",
   "metadata": {},
   "outputs": [
    {
     "data": {
      "text/plain": [
       "14"
      ]
     },
     "execution_count": 4,
     "metadata": {},
     "output_type": "execute_result"
    }
   ],
   "source": [
    "mod.func_1(10,4)"
   ]
  },
  {
   "cell_type": "code",
   "execution_count": 5,
   "id": "50e86d36",
   "metadata": {},
   "outputs": [],
   "source": [
    "user1 = mod.User('kim',30)"
   ]
  },
  {
   "cell_type": "code",
   "execution_count": 6,
   "id": "8916595f",
   "metadata": {},
   "outputs": [
    {
     "name": "stdout",
     "output_type": "stream",
     "text": [
      "입금완료 : 잔액은 10000입니다\n"
     ]
    }
   ],
   "source": [
    "user1.work('A')"
   ]
  },
  {
   "cell_type": "code",
   "execution_count": null,
   "id": "3f35c79c",
   "metadata": {},
   "outputs": [],
   "source": []
  }
 ],
 "metadata": {
  "kernelspec": {
   "display_name": "Python 3",
   "language": "python",
   "name": "python3"
  },
  "language_info": {
   "codemirror_mode": {
    "name": "ipython",
    "version": 3
   },
   "file_extension": ".py",
   "mimetype": "text/x-python",
   "name": "python",
   "nbconvert_exporter": "python",
   "pygments_lexer": "ipython3",
   "version": "3.13.7"
  }
 },
 "nbformat": 4,
 "nbformat_minor": 5
}
