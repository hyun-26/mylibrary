{
 "cells": [
  {
   "cell_type": "markdown",
   "id": "5c2578ee",
   "metadata": {},
   "source": [
    "#### 문자열에서 제공하는 내장 함수\n",
    "\n",
    "- upper() : 문자열을 모두 대문자로 변경\n",
    "- lower() : 문자열을 모두 소문자로 변경\n",
    "- swapcase() : 대문자를 소문자로, 소문자를 대문자로 변경\n",
    "- title() : 단어의 첫글자만 대문자로 변경\n",
    "- strip() : 기본적으로는 문자열의 시작과 끝의 존재하는 공백을 제거\n",
    "    - rstrip() : 문자열의 끝의 공백을 제거\n",
    "    - lstrip() : 문자열의 시작의 공백을 제거\n",
    "- replace() : 특정문자를 찾아서 다른 문자로 치환\n",
    "- split() : 특정문자를 찾아서 문자를 잘라주는 기능 -> 결과가 list로 출력됨\n"
   ]
  },
  {
   "cell_type": "code",
   "execution_count": 1,
   "id": "918b8012",
   "metadata": {},
   "outputs": [],
   "source": [
    "text_a = 'Apple'\n",
    "text_b = 'apple'\n"
   ]
  },
  {
   "cell_type": "code",
   "execution_count": 2,
   "id": "68f78741",
   "metadata": {},
   "outputs": [
    {
     "data": {
      "text/plain": [
       "False"
      ]
     },
     "execution_count": 2,
     "metadata": {},
     "output_type": "execute_result"
    }
   ],
   "source": [
    "text_a == text_b"
   ]
  },
  {
   "cell_type": "code",
   "execution_count": 8,
   "id": "cda1a105",
   "metadata": {},
   "outputs": [
    {
     "data": {
      "text/plain": [
       "'APPLE'"
      ]
     },
     "execution_count": 8,
     "metadata": {},
     "output_type": "execute_result"
    }
   ],
   "source": [
    "# text_a와 text_b를 비교했을때 같다 라는 결과를 만들려면\n",
    "# 두개의 데이터의 형태를 같게 만든다.\n",
    "text_a.upper() # ex) str.upper() -> . 의 의미 : 문자열(str) 안에있는 upper()라는 함수를 호출한다.\n",
    "               # 출력이 나온다는 의미 : text_a의 기본값 'Apple'은 바뀌지 않음 , \n",
    "               # 기본값도 'APPLE'로 바꾸려면 text_a = text_a.upper() ,\n",
    "               # text_a에 다시 저장하는 과정"
   ]
  },
  {
   "cell_type": "code",
   "execution_count": 9,
   "id": "0fedf50d",
   "metadata": {},
   "outputs": [],
   "source": [
    "text_a = text_a.upper()"
   ]
  },
  {
   "cell_type": "code",
   "execution_count": 10,
   "id": "0d5052ee",
   "metadata": {},
   "outputs": [],
   "source": [
    "text_b = text_b.upper()"
   ]
  },
  {
   "cell_type": "code",
   "execution_count": 11,
   "id": "7c0110d9",
   "metadata": {},
   "outputs": [
    {
     "data": {
      "text/plain": [
       "True"
      ]
     },
     "execution_count": 11,
     "metadata": {},
     "output_type": "execute_result"
    }
   ],
   "source": [
    "text_a == text_b"
   ]
  },
  {
   "cell_type": "code",
   "execution_count": 16,
   "id": "28fd4161",
   "metadata": {},
   "outputs": [],
   "source": [
    "text_c = \" Hello world \""
   ]
  },
  {
   "cell_type": "code",
   "execution_count": 17,
   "id": "76cd5c01",
   "metadata": {},
   "outputs": [
    {
     "data": {
      "text/plain": [
       "' hello world '"
      ]
     },
     "execution_count": 17,
     "metadata": {},
     "output_type": "execute_result"
    }
   ],
   "source": [
    "#lower\n",
    "text_c.lower()"
   ]
  },
  {
   "cell_type": "code",
   "execution_count": 18,
   "id": "23353492",
   "metadata": {},
   "outputs": [
    {
     "data": {
      "text/plain": [
       "' hELLO WORLD '"
      ]
     },
     "execution_count": 18,
     "metadata": {},
     "output_type": "execute_result"
    }
   ],
   "source": [
    "#swapcase()\n",
    "text_c.swapcase()"
   ]
  },
  {
   "cell_type": "code",
   "execution_count": 19,
   "id": "b85b1044",
   "metadata": {},
   "outputs": [
    {
     "data": {
      "text/plain": [
       "' Hello World '"
      ]
     },
     "execution_count": 19,
     "metadata": {},
     "output_type": "execute_result"
    }
   ],
   "source": [
    "text_c.title()"
   ]
  },
  {
   "cell_type": "code",
   "execution_count": null,
   "id": "22fa8516",
   "metadata": {},
   "outputs": [
    {
     "data": {
      "text/plain": [
       "False"
      ]
     },
     "execution_count": 20,
     "metadata": {},
     "output_type": "execute_result"
    }
   ],
   "source": [
    "#좌우의 공백이 다르기 때문에 False\n",
    "text_c == \"Hello world\"   "
   ]
  },
  {
   "cell_type": "code",
   "execution_count": 21,
   "id": "a0e4fb14",
   "metadata": {},
   "outputs": [
    {
     "data": {
      "text/plain": [
       "'Hello world'"
      ]
     },
     "execution_count": 21,
     "metadata": {},
     "output_type": "execute_result"
    }
   ],
   "source": [
    "text_c.strip()"
   ]
  },
  {
   "cell_type": "code",
   "execution_count": 22,
   "id": "db09c3bb",
   "metadata": {},
   "outputs": [
    {
     "data": {
      "text/plain": [
       "' Hello world'"
      ]
     },
     "execution_count": 22,
     "metadata": {},
     "output_type": "execute_result"
    }
   ],
   "source": [
    "text_c.rstrip()"
   ]
  },
  {
   "cell_type": "code",
   "execution_count": 23,
   "id": "12f98aa1",
   "metadata": {},
   "outputs": [
    {
     "data": {
      "text/plain": [
       "'Hello world '"
      ]
     },
     "execution_count": 23,
     "metadata": {},
     "output_type": "execute_result"
    }
   ],
   "source": [
    "text_c.lstrip()"
   ]
  },
  {
   "cell_type": "code",
   "execution_count": null,
   "id": "aa3d0716",
   "metadata": {},
   "outputs": [
    {
     "name": "stdout",
     "output_type": "stream",
     "text": [
      "Hello world \n",
      "Hello world\n"
     ]
    }
   ],
   "source": [
    "#print 해보면 뭐가 다른지 잘 모를 수 있음\n",
    "print(text_c.lstrip())\n",
    "print(text_c.strip())"
   ]
  },
  {
   "cell_type": "code",
   "execution_count": 26,
   "id": "07e6e259",
   "metadata": {},
   "outputs": [],
   "source": [
    "#문자열을 숫자열로 변환\n",
    "#금액을 숫자로 변경하여 계산\n",
    "price_1 = '$10.00'\n",
    "price_2 = '$20.00'"
   ]
  },
  {
   "cell_type": "code",
   "execution_count": 27,
   "id": "550ccddb",
   "metadata": {},
   "outputs": [
    {
     "data": {
      "text/plain": [
       "'$10.00$20.00'"
      ]
     },
     "execution_count": 27,
     "metadata": {},
     "output_type": "execute_result"
    }
   ],
   "source": [
    "price_1 + price_2"
   ]
  },
  {
   "cell_type": "code",
   "execution_count": 29,
   "id": "cf9bafe5",
   "metadata": {},
   "outputs": [],
   "source": [
    "#float(price_1) -> error -> '$'숫자로 변경이 불가능하기 때문에"
   ]
  },
  {
   "cell_type": "code",
   "execution_count": 33,
   "id": "6b0933ba",
   "metadata": {},
   "outputs": [
    {
     "data": {
      "text/plain": [
       "'10.00'"
      ]
     },
     "execution_count": 33,
     "metadata": {},
     "output_type": "execute_result"
    }
   ],
   "source": [
    "price_1.lstrip('$')"
   ]
  },
  {
   "cell_type": "code",
   "execution_count": 34,
   "id": "65470732",
   "metadata": {},
   "outputs": [
    {
     "data": {
      "text/plain": [
       "10.0"
      ]
     },
     "execution_count": 34,
     "metadata": {},
     "output_type": "execute_result"
    }
   ],
   "source": [
    "float(price_1.lstrip('$'))"
   ]
  },
  {
   "cell_type": "code",
   "execution_count": 32,
   "id": "e30f350e",
   "metadata": {},
   "outputs": [
    {
     "data": {
      "text/plain": [
       "30.0"
      ]
     },
     "execution_count": 32,
     "metadata": {},
     "output_type": "execute_result"
    }
   ],
   "source": [
    "#'$'를 제거하고 숫자로 변경\n",
    "float(price_1.lstrip('$')) + float(price_2.lstrip('$'))"
   ]
  },
  {
   "cell_type": "code",
   "execution_count": 35,
   "id": "1bda848c",
   "metadata": {},
   "outputs": [],
   "source": [
    "price_3 = \"1,000원\"\n",
    "price_4 = \"3,000원\""
   ]
  },
  {
   "cell_type": "code",
   "execution_count": 41,
   "id": "cd309379",
   "metadata": {},
   "outputs": [
    {
     "data": {
      "text/plain": [
       "'1,000'"
      ]
     },
     "execution_count": 41,
     "metadata": {},
     "output_type": "execute_result"
    }
   ],
   "source": [
    "#문자열 마지막의 '원'을 제거\n",
    "price_3.rstrip('원')# ',' 때문에 error"
   ]
  },
  {
   "cell_type": "code",
   "execution_count": 45,
   "id": "71b91e23",
   "metadata": {},
   "outputs": [
    {
     "data": {
      "text/plain": [
       "1000"
      ]
     },
     "execution_count": 45,
     "metadata": {},
     "output_type": "execute_result"
    }
   ],
   "source": [
    "#strip() 함수는 문자의 시작과 끝의 데이터를 제거하는 용도\n",
    "#문자열 사이에 있는 문자를 변경 X\n",
    "# replace() : 특정문자를 치환 -> 문자를 변경, 문자를 제거 (문자를 대체하는 것)\n",
    "# replace('특정문자','변경문자')\n",
    "int(price_3.replace(',','').rstrip('원'))"
   ]
  },
  {
   "cell_type": "code",
   "execution_count": 46,
   "id": "dc634bb4",
   "metadata": {},
   "outputs": [],
   "source": [
    "item_1 = '상품A'\n",
    "item_2 = '상품a'\n",
    "item_3 = '상 품 a'\n"
   ]
  },
  {
   "cell_type": "code",
   "execution_count": null,
   "id": "ed034b19",
   "metadata": {},
   "outputs": [
    {
     "data": {
      "text/plain": [
       "False"
      ]
     },
     "execution_count": 47,
     "metadata": {},
     "output_type": "execute_result"
    }
   ],
   "source": [
    "(item_1 == item_2) and (item_2 == item_3) #and 두개가 참일때만 True"
   ]
  },
  {
   "cell_type": "code",
   "execution_count": 49,
   "id": "6273f176",
   "metadata": {},
   "outputs": [],
   "source": [
    "#item_1을 기준으로 item_2, item_3의 데이터를 변경\n",
    "#item_2 -> 소문자를 대문자로 변경\n",
    "item_2 = item_2.upper()"
   ]
  },
  {
   "cell_type": "code",
   "execution_count": 51,
   "id": "e0cb9ca5",
   "metadata": {},
   "outputs": [],
   "source": [
    "#item_3 -> 문자열 사이에 존재하는 공백을 제거 -> 문자열을 대문자로 변경\n",
    "item_3 = item_3.upper()"
   ]
  },
  {
   "cell_type": "code",
   "execution_count": 53,
   "id": "b01e4bb3",
   "metadata": {},
   "outputs": [],
   "source": [
    "item_3 = item_3.replace(' ','') #한칸 띄우는 것 공백, 공백없는 것 빈칸 없애는 방법"
   ]
  },
  {
   "cell_type": "code",
   "execution_count": 54,
   "id": "4a768203",
   "metadata": {},
   "outputs": [
    {
     "data": {
      "text/plain": [
       "True"
      ]
     },
     "execution_count": 54,
     "metadata": {},
     "output_type": "execute_result"
    }
   ],
   "source": [
    "(item_1 == item_2) and (item_2 == item_3)"
   ]
  },
  {
   "cell_type": "code",
   "execution_count": null,
   "id": "a0cd0edf",
   "metadata": {},
   "outputs": [
    {
     "data": {
      "text/plain": [
       "['a', 'b', 'c', 'd']"
      ]
     },
     "execution_count": 55,
     "metadata": {},
     "output_type": "execute_result"
    }
   ],
   "source": [
    "#문자열을 나눠주는 함수 -> split()\n",
    "#공백을 기준으로 문자를 나눠주는 함수 -> 인자로 특정 문자를 입력하면 특정 문자로 문자를 나눠준다\n",
    "\n",
    "text_1 = 'a b c d'\n",
    "text_1.split() #결과가 리스트로 나옴"
   ]
  },
  {
   "cell_type": "code",
   "execution_count": 56,
   "id": "809442b3",
   "metadata": {},
   "outputs": [
    {
     "data": {
      "text/plain": [
       "['a', 'b', 'c']"
      ]
     },
     "execution_count": 56,
     "metadata": {},
     "output_type": "execute_result"
    }
   ],
   "source": [
    "text_2 = 'ammbmmc'\n",
    "text_2.split('mm')"
   ]
  },
  {
   "cell_type": "code",
   "execution_count": 58,
   "id": "9a58ec39",
   "metadata": {},
   "outputs": [],
   "source": [
    "#sql query문\n",
    "#query_3이 제일 많이 쓰는 방법\n",
    "\n",
    "query_1 = \"select * from table\"\n",
    "query_2 = \"SELECT * FROM table\"\n",
    "query_3 = \"\"\"   \n",
    "    INSERT INTO\n",
    "    table\n",
    "    VALUES\n",
    "    ('a')\n",
    "\"\"\"\n",
    "\n",
    "query_4 = \"\"\"\n",
    "    select\n",
    "    *\n",
    "    from\n",
    "    table\n",
    "\"\"\"\n"
   ]
  },
  {
   "cell_type": "code",
   "execution_count": 59,
   "id": "455b5faa",
   "metadata": {},
   "outputs": [
    {
     "data": {
      "text/plain": [
       "'select'"
      ]
     },
     "execution_count": 59,
     "metadata": {},
     "output_type": "execute_result"
    }
   ],
   "source": [
    "#query가 select문인가??\n",
    "find_word = 'select'\n",
    "\n",
    "query_1[ 0 : len(find_word) ]"
   ]
  },
  {
   "cell_type": "code",
   "execution_count": null,
   "id": "ccee91f2",
   "metadata": {},
   "outputs": [
    {
     "data": {
      "text/plain": [
       "False"
      ]
     },
     "execution_count": 61,
     "metadata": {},
     "output_type": "execute_result"
    }
   ],
   "source": [
    "query_2[ : len(find_word)] == find_word"
   ]
  },
  {
   "cell_type": "code",
   "execution_count": 62,
   "id": "87f42ae6",
   "metadata": {},
   "outputs": [
    {
     "data": {
      "text/plain": [
       "True"
      ]
     },
     "execution_count": 62,
     "metadata": {},
     "output_type": "execute_result"
    }
   ],
   "source": [
    "query_2[ : len(find_word)].lower() == find_word"
   ]
  },
  {
   "cell_type": "code",
   "execution_count": null,
   "id": "dff31bd5",
   "metadata": {},
   "outputs": [
    {
     "data": {
      "text/plain": [
       "'\\n    s'"
      ]
     },
     "execution_count": 63,
     "metadata": {},
     "output_type": "execute_result"
    }
   ],
   "source": [
    "query_4[ : len(find_word) ]   # 출력결과에선 빈 부분 -> 공백임"
   ]
  },
  {
   "cell_type": "code",
   "execution_count": 67,
   "id": "6ba10c0f",
   "metadata": {},
   "outputs": [
    {
     "data": {
      "text/plain": [
       "True"
      ]
     },
     "execution_count": 67,
     "metadata": {},
     "output_type": "execute_result"
    }
   ],
   "source": [
    "query_4.lstrip()[ : len(find_word) ] == find_word"
   ]
  },
  {
   "cell_type": "code",
   "execution_count": 71,
   "id": "88c1e2bd",
   "metadata": {},
   "outputs": [
    {
     "data": {
      "text/plain": [
       "True"
      ]
     },
     "execution_count": 71,
     "metadata": {},
     "output_type": "execute_result"
    }
   ],
   "source": [
    "query_1.split()[0] == find_word"
   ]
  },
  {
   "cell_type": "code",
   "execution_count": 73,
   "id": "f566dfb0",
   "metadata": {},
   "outputs": [
    {
     "data": {
      "text/plain": [
       "'select'"
      ]
     },
     "execution_count": 73,
     "metadata": {},
     "output_type": "execute_result"
    }
   ],
   "source": [
    "query_4.split()[0]"
   ]
  },
  {
   "cell_type": "code",
   "execution_count": 76,
   "id": "08c46c31",
   "metadata": {},
   "outputs": [
    {
     "data": {
      "text/plain": [
       "'select'"
      ]
     },
     "execution_count": 76,
     "metadata": {},
     "output_type": "execute_result"
    }
   ],
   "source": [
    "query_2.split()[0].lower()"
   ]
  },
  {
   "cell_type": "code",
   "execution_count": 77,
   "id": "e9635398",
   "metadata": {},
   "outputs": [
    {
     "data": {
      "text/plain": [
       "True"
      ]
     },
     "execution_count": 77,
     "metadata": {},
     "output_type": "execute_result"
    }
   ],
   "source": [
    "query_1.startswith(find_word)\n"
   ]
  },
  {
   "cell_type": "code",
   "execution_count": 81,
   "id": "68260e8b",
   "metadata": {},
   "outputs": [
    {
     "data": {
      "text/plain": [
       "True"
      ]
     },
     "execution_count": 81,
     "metadata": {},
     "output_type": "execute_result"
    }
   ],
   "source": [
    "query_2.lower().startswith(find_word)\n"
   ]
  },
  {
   "cell_type": "code",
   "execution_count": null,
   "id": "ef4f7bcd",
   "metadata": {},
   "outputs": [
    {
     "data": {
      "text/plain": [
       "True"
      ]
     },
     "execution_count": 82,
     "metadata": {},
     "output_type": "execute_result"
    }
   ],
   "source": [
    "query_2.lower().startswith(find_word)\n"
   ]
  },
  {
   "cell_type": "code",
   "execution_count": 83,
   "id": "136d347f",
   "metadata": {},
   "outputs": [
    {
     "data": {
      "text/plain": [
       "False"
      ]
     },
     "execution_count": 83,
     "metadata": {},
     "output_type": "execute_result"
    }
   ],
   "source": [
    "\n",
    "query_3.lstrip().startswith(find_word)"
   ]
  },
  {
   "cell_type": "code",
   "execution_count": 84,
   "id": "36ee1dec",
   "metadata": {},
   "outputs": [],
   "source": [
    "file_list = [\n",
    "    \"/csv/a.csv\",\n",
    "    \"/csv/b.txt\",\n",
    "    \"/csv/c.csv\",\n",
    "    \"/csv/d.json\"\n",
    "]"
   ]
  },
  {
   "cell_type": "code",
   "execution_count": 85,
   "id": "17827412",
   "metadata": {},
   "outputs": [
    {
     "data": {
      "text/plain": [
       "False"
      ]
     },
     "execution_count": 85,
     "metadata": {},
     "output_type": "execute_result"
    }
   ],
   "source": [
    "#file_list에서 확장자가 csv인 목록만 출력하자\n",
    "file_list[1].endswith('csv')"
   ]
  },
  {
   "cell_type": "code",
   "execution_count": 86,
   "id": "f69a8815",
   "metadata": {},
   "outputs": [
    {
     "name": "stdout",
     "output_type": "stream",
     "text": [
      "['/csv/a.csv', '/csv/c.csv']\n"
     ]
    }
   ],
   "source": [
    "#반복문을 이용하여 file_lsit에서 csv 확장인 파일만 새로운 목록을 만든다.\n",
    "#비어있는 리스트를 생성\n",
    "csv_list = []\n",
    "\n",
    "#for문 list의 원소를 확인\n",
    "#방법 1\n",
    "\n",
    "for i in range(len(file_list)):\n",
    "    #i에 들어오는 데이터의 의미 : index\n",
    "    #fiel_list에 i번째 항목이 csv로 끝나는가?\n",
    "    if file_list[i].endswith('csv'):\n",
    "        #확장자가 csv인 경우 실행되는 부분\n",
    "        csv_list.append(file_list[i])\n",
    "\n",
    "print(csv_list)\n",
    "\n",
    "\n",
    "\n",
    "#for i in file_list : \n",
    "    #i에 들어오는 데이터의 의미 : file_list의 원소\n",
    "    #if i.endswith('csv'):\n",
    "        #csv_list.append(i)\n",
    "        "
   ]
  },
  {
   "cell_type": "code",
   "execution_count": 87,
   "id": "e23701ee",
   "metadata": {},
   "outputs": [],
   "source": [
    "#함수\n",
    "#특정한 행동을 코드로 표현하고 이름을 붙이는 작업\n",
    "#특정 입력값을 통해서 연산을 하고 결과를 되돌려주는 작업\n",
    "#python에서 def 키워드를 이용해서 함수를 생성\n",
    "def func_1() : \n",
    "    #결과를 되돌려준다\n",
    "    return 'Hello'\n",
    "\n",
    "def func_2() :\n",
    "    print('Hello')"
   ]
  },
  {
   "cell_type": "code",
   "execution_count": null,
   "id": "7ad73e4b",
   "metadata": {},
   "outputs": [
    {
     "data": {
      "text/plain": [
       "'Hello'"
      ]
     },
     "execution_count": 88,
     "metadata": {},
     "output_type": "execute_result"
    }
   ],
   "source": [
    "#함수 호출\n",
    "#return과 print의 차이를 확인하기위해\n",
    "#값이 변수에 저장되어 있냐 없냐에 따라 다름\n",
    "#return을 해줘야 output(결과)이 생김\n",
    "#input이 있으려면 매개변수가 있어야함\n",
    "#print는 코드의 확인용\n",
    "func_1()\n"
   ]
  },
  {
   "cell_type": "code",
   "execution_count": 89,
   "id": "b5118a7e",
   "metadata": {},
   "outputs": [
    {
     "name": "stdout",
     "output_type": "stream",
     "text": [
      "Hello\n"
     ]
    }
   ],
   "source": [
    "func_2()"
   ]
  },
  {
   "cell_type": "code",
   "execution_count": 91,
   "id": "a5e78cd0",
   "metadata": {},
   "outputs": [],
   "source": [
    "res_1 = func_1()"
   ]
  },
  {
   "cell_type": "code",
   "execution_count": 92,
   "id": "e2f59692",
   "metadata": {},
   "outputs": [
    {
     "name": "stdout",
     "output_type": "stream",
     "text": [
      "Hello\n"
     ]
    }
   ],
   "source": [
    "res_2 = func_2()"
   ]
  },
  {
   "cell_type": "code",
   "execution_count": 93,
   "id": "ad578580",
   "metadata": {},
   "outputs": [
    {
     "data": {
      "text/plain": [
       "'Hello'"
      ]
     },
     "execution_count": 93,
     "metadata": {},
     "output_type": "execute_result"
    }
   ],
   "source": [
    "res_1"
   ]
  },
  {
   "cell_type": "code",
   "execution_count": 94,
   "id": "800cd65f",
   "metadata": {},
   "outputs": [],
   "source": [
    "res_2"
   ]
  },
  {
   "cell_type": "code",
   "execution_count": null,
   "id": "d69944c6",
   "metadata": {},
   "outputs": [
    {
     "ename": "TypeError",
     "evalue": "func_1() takes 0 positional arguments but 1 was given",
     "output_type": "error",
     "traceback": [
      "\u001b[31m---------------------------------------------------------------------------\u001b[39m",
      "\u001b[31mTypeError\u001b[39m                                 Traceback (most recent call last)",
      "\u001b[36mCell\u001b[39m\u001b[36m \u001b[39m\u001b[32mIn[95]\u001b[39m\u001b[32m, line 2\u001b[39m\n\u001b[32m      1\u001b[39m \u001b[38;5;66;03m#매개변수가 존재하지 않는 함수에 입력값을 사용해서 호출한다면?\u001b[39;00m\n\u001b[32m----> \u001b[39m\u001b[32m2\u001b[39m \u001b[43mfunc_1\u001b[49m\u001b[43m(\u001b[49m\u001b[33;43m'\u001b[39;49m\u001b[33;43ma\u001b[39;49m\u001b[33;43m'\u001b[39;49m\u001b[43m)\u001b[49m\n",
      "\u001b[31mTypeError\u001b[39m: func_1() takes 0 positional arguments but 1 was given"
     ]
    }
   ],
   "source": [
    "#매개변수가 존재하지 않는 함수에 입력값을 사용해서 호출한다면?\n",
    "#입력값을 저장할 수 있는 공간이 존재하지 않기때문에 에러가 발생\n",
    "func_1('a')"
   ]
  },
  {
   "cell_type": "code",
   "execution_count": 97,
   "id": "f263e93a",
   "metadata": {},
   "outputs": [],
   "source": [
    "#매개변수가 존재하는 함수 생성\n",
    "\n",
    "def func_3(a,b):\n",
    "    c = a + b\n",
    "    return c"
   ]
  },
  {
   "cell_type": "code",
   "execution_count": 98,
   "id": "ab43ca1a",
   "metadata": {},
   "outputs": [
    {
     "data": {
      "text/plain": [
       "15"
      ]
     },
     "execution_count": 98,
     "metadata": {},
     "output_type": "execute_result"
    }
   ],
   "source": [
    "func_3(10,5)\n",
    "#a=10\n",
    "#b=5\n",
    "#c=10+5\n",
    "#c를 되돌려준다."
   ]
  },
  {
   "cell_type": "code",
   "execution_count": 100,
   "id": "5c4de8f5",
   "metadata": {},
   "outputs": [],
   "source": [
    "#매개변수가 2개인 함수를 호출하면서 인자를 1개만 입력하는경우??\n",
    "#데이터가 입력되는 공간이 2개인데 데이터는 1개만 입력하면, \n",
    "# 나머지 하나의 공간에 데이터가 없으므로 에러\n",
    "\n",
    "#func_3(10)"
   ]
  },
  {
   "cell_type": "code",
   "execution_count": null,
   "id": "08b1eb86",
   "metadata": {},
   "outputs": [
    {
     "name": "stdout",
     "output_type": "stream",
     "text": [
      "a\n",
      "b\n",
      "c\n"
     ]
    }
   ],
   "source": [
    "#print() : 입력 데이터를 출력하는 기능\n",
    "#  * ->  인자의 개수가 가변일때 \n",
    "#sep 매개변수에 입력 데이터를 대입하려면 매개변수명 = data\n",
    "#첫번째 매개변수가 가변의 인자를 받는 형태이기때문에\n",
    "print('a','b','c',sep = '\\n')"
   ]
  },
  {
   "cell_type": "code",
   "execution_count": 107,
   "id": "ccb34bb5",
   "metadata": {},
   "outputs": [],
   "source": [
    "def func_4(a,b=5):\n",
    "    #매개변수는 2개 a,b\n",
    "    #   a는 함수를 호출할때 필수 입력 공간\n",
    "    #   b는 선택 입력 공간 (입력값을 넣고싶으면 넣고, 아닐땐 기본값 5 사용)\n",
    "\n",
    "    c = a ** b\n",
    "    return c"
   ]
  },
  {
   "cell_type": "code",
   "execution_count": null,
   "id": "a383e4a0",
   "metadata": {},
   "outputs": [
    {
     "data": {
      "text/plain": [
       "32"
      ]
     },
     "execution_count": 108,
     "metadata": {},
     "output_type": "execute_result"
    }
   ],
   "source": [
    "func_4(2)\n",
    "# a = 2\n",
    "# b = 5\n",
    "# c = 2 ** 5\n",
    "# 32를 되돌려준다."
   ]
  },
  {
   "cell_type": "code",
   "execution_count": null,
   "id": "e36d913b",
   "metadata": {},
   "outputs": [],
   "source": [
    "func_4(2,4) \n",
    "# a=2\n",
    "# b=5\n",
    "# b=4 -> b = 5에서 4로 변경시킴\n",
    "# c= 2 ** 4\n",
    "# 16을 되돌려준다."
   ]
  },
  {
   "cell_type": "markdown",
   "id": "e4be4f49",
   "metadata": {},
   "source": [
    "### 변수의 종류\n",
    "\n",
    "- 컴퓨터의 메모리에 데이터가 저장되는 공간에 이름을 붙이는 작업\n",
    "\n",
    "    -전역 변수\n",
    "        - 전역의 의미 -> 모든 영역\n",
    "        - 해당하는 파일 안에서 어디서든 사용이 가능한 변수\n",
    "        - globals() 함수를 호출하면 전역 변수의 목록이 확인 가능\n",
    "\n",
    "    - 지역 변수\n",
    "        - 지역의 의미 -> 특정 영역\n",
    "        - 함수나 클래스 안에서만 사용이 가능한 변수\n",
    "        - 함수에서 값을 되돌려주는 행동(return) 뒤에는 함수에서 사용된 변수들은 외부에서는 사용이 불가능"
   ]
  },
  {
   "cell_type": "code",
   "execution_count": 109,
   "id": "dc67d12f",
   "metadata": {},
   "outputs": [
    {
     "data": {
      "text/plain": [
       "{'__name__': '__main__',\n",
       " '__doc__': 'Automatically created module for IPython interactive environment',\n",
       " '__package__': None,\n",
       " '__loader__': None,\n",
       " '__spec__': None,\n",
       " '__builtin__': <module 'builtins' (built-in)>,\n",
       " '__builtins__': <module 'builtins' (built-in)>,\n",
       " '_ih': ['',\n",
       "  \"text_a = 'Apple'\\ntext_b = 'apple'\",\n",
       "  'text_a == text_b',\n",
       "  'text_b.title()',\n",
       "  'text_a == text_b',\n",
       "  '# text_a와 text_b를 비교했을때 같다 라는 결과를 만들려면\\n# 두개의 데이터의 형태를 같게 만든다.\\ntext_a.upper()',\n",
       "  'text_b = text_b.upper()',\n",
       "  'text_a == text_b',\n",
       "  \"# text_a와 text_b를 비교했을때 같다 라는 결과를 만들려면\\n# 두개의 데이터의 형태를 같게 만든다.\\ntext_a.upper() # ex) str.upper() -> . 의 의미 : 문자열(str) 안에있는 upper()라는 함수를 호출한다.\\n               # 출력이 나온다는 의미 : text_a의 기본값 'Apple'은 바뀌지 않음 , \\n               # 기본값도 'APPLE'로 바꾸려면 text_a = text_a.upper() ,\\n               # text_a에 다시 저장하는 과정\",\n",
       "  'text_a = text_a.upper()',\n",
       "  'text_b = text_b.upper()',\n",
       "  'text_a == text_b',\n",
       "  'text_c = \"Hello world\"',\n",
       "  '#lower\\ntext_c.lower()',\n",
       "  '#swapcase()\\ntext_c.swapcase()',\n",
       "  'text_c.title()',\n",
       "  'text_c = \" Hello world \"',\n",
       "  '#lower\\ntext_c.lower()',\n",
       "  '#swapcase()\\ntext_c.swapcase()',\n",
       "  'text_c.title()',\n",
       "  '#좌우의 공백을 제거하는 함수\\ntext_c == \"Hello world\"',\n",
       "  'text_c.strip()',\n",
       "  'text_c.rstrip()',\n",
       "  'text_c.lstrip()',\n",
       "  'print(text_c.lstrip())\\nprint(text_c.rstrip())',\n",
       "  'print(text_c.lstrip())\\nprint(text_c.strip())',\n",
       "  \"#문자열을 숫자열로 변환\\n#금액을 숫자로 변경하여 계산\\nprice_1 = '$10.00'\\nprice_2 = '$20.00'\",\n",
       "  'price_1 + price_2',\n",
       "  'float(price_1)',\n",
       "  \"#float(price_1) -> error -> '$'숫자로 변경이 불가능하기 때문에\",\n",
       "  \"#'$'를 제거하고 숫자로 변경\\nprice_1.lstrip('$')\",\n",
       "  \"#'$'를 제거하고 숫자로 변경\\nfloat(price_1.lstrip('$'))\",\n",
       "  \"#'$'를 제거하고 숫자로 변경\\nfloat(price_1.lstrip('$')) + float(price_2.lstrip('$'))\",\n",
       "  \"price_1.lstrip('$')\",\n",
       "  \"float(price_1.lstrip('$'))\",\n",
       "  'price_3 = \"1,000원\"\\nprice_4 = \"3,000원\"',\n",
       "  \"#문자열 마지막의 '원'을 제거\\nint(price_3.rstrip('원'))\",\n",
       "  \"#strip() 함수는 문자의 시작과 끝의 데이터를 제거하는 용도\\n#문자열 사이에 있는 문자를 변경 X\\n# replace() : 특정문자를 치환 -> 문자를 변경, 문자를 제거 (문자를 대체하는 것)\\n# replace('특정문자','변경문자')\\nprice_3.replace(',',',')\",\n",
       "  \"#문자열 마지막의 '원'을 제거\\nint(price_3.rstrip('원')) # ',' 때문에 error\",\n",
       "  \"#strip() 함수는 문자의 시작과 끝의 데이터를 제거하는 용도\\n#문자열 사이에 있는 문자를 변경 X\\n# replace() : 특정문자를 치환 -> 문자를 변경, 문자를 제거 (문자를 대체하는 것)\\n# replace('특정문자','변경문자')\\nprice_3.replace(',',',')\",\n",
       "  \"#문자열 마지막의 '원'을 제거\\niprice_3.rstrip('원')# ',' 때문에 error\",\n",
       "  \"#문자열 마지막의 '원'을 제거\\nprice_3.rstrip('원')# ',' 때문에 error\",\n",
       "  \"#strip() 함수는 문자의 시작과 끝의 데이터를 제거하는 용도\\n#문자열 사이에 있는 문자를 변경 X\\n# replace() : 특정문자를 치환 -> 문자를 변경, 문자를 제거 (문자를 대체하는 것)\\n# replace('특정문자','변경문자')\\nprice_3.replace(',',',')\",\n",
       "  \"#strip() 함수는 문자의 시작과 끝의 데이터를 제거하는 용도\\n#문자열 사이에 있는 문자를 변경 X\\n# replace() : 특정문자를 치환 -> 문자를 변경, 문자를 제거 (문자를 대체하는 것)\\n# replace('특정문자','변경문자')\\nprice_3.replace(',','')\",\n",
       "  \"#strip() 함수는 문자의 시작과 끝의 데이터를 제거하는 용도\\n#문자열 사이에 있는 문자를 변경 X\\n# replace() : 특정문자를 치환 -> 문자를 변경, 문자를 제거 (문자를 대체하는 것)\\n# replace('특정문자','변경문자')\\nprice_3.replace(',','').rstrip('원')\",\n",
       "  \"#strip() 함수는 문자의 시작과 끝의 데이터를 제거하는 용도\\n#문자열 사이에 있는 문자를 변경 X\\n# replace() : 특정문자를 치환 -> 문자를 변경, 문자를 제거 (문자를 대체하는 것)\\n# replace('특정문자','변경문자')\\nint(price_3.replace(',','').rstrip('원'))\",\n",
       "  \"item_1 = '상품A'\\nitem_2 = '상품a'\\nitem_3 = '상 품 a'\",\n",
       "  '(item_1 == item_2) and (item_2 == item_3)',\n",
       "  '#item_1을 기준으로 item_2, item_3의 데이터를 변경\\n#item_2 -> 소문자를 대문자로 변경\\nitem_2.upper()',\n",
       "  '#item_1을 기준으로 item_2, item_3의 데이터를 변경\\n#item_2 -> 소문자를 대문자로 변경\\nitem_2 = item_2.upper()',\n",
       "  '#item_3 -> 문자열 사이에 존재하는 공백을 제거 -> 문자열을 대문자로 변경\\nitem_3.upper()',\n",
       "  '#item_3 -> 문자열 사이에 존재하는 공백을 제거 -> 문자열을 대문자로 변경\\nitem_3 = item_3.upper()',\n",
       "  \"item_3.replace(' ','')\",\n",
       "  \"item_3 = item_3.replace(' ','') #한칸 띄우는 것 공백, 공백없는 것 빈칸 없애는 방법\",\n",
       "  '(item_1 == item_2) and (item_2 == item_3)',\n",
       "  \"#문자열을 나눠주는 함수 -> split()\\n#공백을 기준으로 문자를 나눠주는 함수 -> 인자로 특정 문자를 입력하면 특정 문자로 문자를 나눠준다\\n\\ntext_1 = 'a b c d'\\ntext_1.split()\",\n",
       "  \"text_2 = 'ammbmmc'\\ntext_2.split('mm')\",\n",
       "  \"#query가 select문인가??\\nfind_word = 'select'\\n\\nquery_1[ 0 : len(find_word) ]\",\n",
       "  '#sql query문\\n#query_3이 제일 많이 쓰는 방법\\n\\nquery_1 = \"select * from table\"\\nquery_2 = \"SELECT * FROM table\"\\nquery_3 = \"\"\"   \\n    INSERT INTO\\n    table\\n    VALUES\\n    (\\'a\\')\\n\"\"\"\\n\\nquery_4 = \"\"\"\\n    select\\n    *\\n    from\\n    table\\n\"\"\"',\n",
       "  \"#query가 select문인가??\\nfind_word = 'select'\\n\\nquery_1[ 0 : len(find_word) ]\",\n",
       "  'query_2[ : len(find_word)  == find_word]',\n",
       "  'query_2[ : len(find_word)] == find_word',\n",
       "  'query_2[ : len(find_word)].lower() == find_word',\n",
       "  'query_4[ : len(find_word) ]   ',\n",
       "  'query_4.lstrip[ : len(find_word)] == find_word',\n",
       "  'query_4.lstrip[ : len(find_word) ] == find_word',\n",
       "  'query_4.lstrip([ : len(find_word) ] == find_word',\n",
       "  'query_4.lstrip()[ : len(find_word) ] == find_word',\n",
       "  'query_1.split()',\n",
       "  'query_1.split()[0]',\n",
       "  'query_1.split()[0] == find_wprd',\n",
       "  'query_1.split()[0] == find_word',\n",
       "  'query_4.split()',\n",
       "  'query_4.split()[0]',\n",
       "  'query_2.split()',\n",
       "  'query_2.split().loser()',\n",
       "  'query_2.split()[0].lower()',\n",
       "  'query_1.startswith(find_word)',\n",
       "  'query_2.loawer(find_word)',\n",
       "  'query_2.lower(find_word)',\n",
       "  'query_2.lower()(find_word)',\n",
       "  'query_2.lower().startswith(find_word)',\n",
       "  'query_4.lstrip().startswith(find_word)',\n",
       "  'query_3.lstrip().startswith(find_word)',\n",
       "  'file_list = [\\n    \"/csv/a.csv\",\\n    \"/csv/b.txt\",\\n    \"/csv/c.csv\",\\n    \"/csv/d.json\"\\n]',\n",
       "  \"#file_list에서 확장자가 csv인 목록만 출력하자\\nfile_list[1].endswith('csv')\",\n",
       "  \"#반복문을 이용하여 file_lsit에서 csv 확장인 파일만 새로운 목록을 만든다.\\n#비어있는 리스트를 생성\\ncsv_list = []\\n\\n#for문 list의 원소를 확인\\n#방법 1\\n\\nfor i in range(len(file_list)):\\n    #i에 들어오는 데이터의 의미 : index\\n    #fiel_list에 i번째 항목이 csv로 끝나는가?\\n    if file_list[i].endswith('csv'):\\n        #확장자가 csv인 경우 실행되는 부분\\n        csv_list.append(file_list[i])\\n\\nprint(csv_list)\\n\\n\\n\\n#for i in file_list : \\n    #i에 들어오는 데이터의 의미 : file_list의 원소\\n    #if i.endswith('csv'):\\n        #csv_list.append(i)\",\n",
       "  \"#함수\\n#특정한 행동을 코드로 표현하고 이름을 붙이는 작업\\n#특정 입력값을 통해서 연산을 하고 결과를 되돌려주는 작업\\n#python에서 def 키워드를 이용해서 함수를 생성\\ndef func_1() : \\n    #결과를 되돌려준다\\n    return 'Hello'\\n\\ndef func_2() :\\n    print('Hello')\",\n",
       "  '#함수 호출\\nfunc_1()',\n",
       "  'func_2()',\n",
       "  'res_1 = func_1',\n",
       "  'res_1 = func_1()',\n",
       "  'res_2 = func_2()',\n",
       "  'res_1',\n",
       "  'res_2',\n",
       "  \"#매개변수가 존재하지 않는 함수에 입력값을 사용해서 호출한다면?\\nfunc_1('a')\",\n",
       "  'func_3(10,5)\\n#a=10\\n#b=5\\n#c=10+5\\n#c를 되돌려준다.',\n",
       "  '#매개변수가 존재하는 함수 생성\\n\\ndef func_3(a,b):\\n    c = a + b\\n    return c',\n",
       "  'func_3(10,5)\\n#a=10\\n#b=5\\n#c=10+5\\n#c를 되돌려준다.',\n",
       "  '#매개변수가 2개인 함수를 호출하면서 인자를 1개만 입력하는경우??\\nfunc_3(10)',\n",
       "  '#매개변수가 2개인 함수를 호출하면서 인자를 1개만 입력하는경우??\\n#데이터가 입력되는 공간이 2개인데 데이터는 1개만 입력하면, \\n# 나머지 하나의 공간에 데이터가 없으므로 에러\\n\\n#func_3(10)',\n",
       "  \"#print() : 입력 데이터를 출력하는 기능\\nprint('a')\",\n",
       "  \"#print() : 입력 데이터를 출력하는 기능\\n#  * ->  인자의 개수가 가변일때 \\nprint('a')\\n\\nprint('a','b','c')\",\n",
       "  \"#print() : 입력 데이터를 출력하는 기능\\n#  * ->  인자의 개수가 가변일때 \\nprint('a')\\n\\nprint('a','b','c','/n')\",\n",
       "  \"#print() : 입력 데이터를 출력하는 기능\\n#  * ->  인자의 개수가 가변일때 \\nprint('a')\\n\\nprint('a','b','c','\\\\n')\",\n",
       "  \"#print() : 입력 데이터를 출력하는 기능\\n#  * ->  인자의 개수가 가변일때 \\nprint('a')\\n\\nprint('a','b','c',sep = '\\\\n')\",\n",
       "  \"#print() : 입력 데이터를 출력하는 기능\\n#  * ->  인자의 개수가 가변일때 \\nprint('a','b','c',sep = '\\\\n')\",\n",
       "  'def func_4(a,b=5):\\n    #매개변수는 2개 a,b\\n    #   a는 함수를 호출할때 필수 입력 공간\\n    #   b는 선택 입력 공간 (입력값을 넣고싶으면 넣고, 아닐땐 기본값 5 사용)\\n\\n    c = a ** b\\n    return c',\n",
       "  'func_4(2)\\n# a = 2\\n# b = 5\\n# c = 2 ** 5\\n#32를 되돌려준다.',\n",
       "  '# 모든 영역에서 사용할 수 있는 변수의 목록 확인\\nglobals()'],\n",
       " '_oh': {2: False,\n",
       "  3: 'Apple',\n",
       "  4: False,\n",
       "  5: 'APPLE',\n",
       "  7: False,\n",
       "  8: 'APPLE',\n",
       "  11: True,\n",
       "  13: 'hello world',\n",
       "  14: 'hELLO WORLD',\n",
       "  15: 'Hello World',\n",
       "  17: ' hello world ',\n",
       "  18: ' hELLO WORLD ',\n",
       "  19: ' Hello World ',\n",
       "  20: False,\n",
       "  21: 'Hello world',\n",
       "  22: ' Hello world',\n",
       "  23: 'Hello world ',\n",
       "  27: '$10.00$20.00',\n",
       "  30: '10.00',\n",
       "  31: 10.0,\n",
       "  32: 30.0,\n",
       "  33: '10.00',\n",
       "  34: 10.0,\n",
       "  37: '1,000원',\n",
       "  39: '1,000원',\n",
       "  41: '1,000',\n",
       "  42: '1,000원',\n",
       "  43: '1000원',\n",
       "  44: '1000',\n",
       "  45: 1000,\n",
       "  47: False,\n",
       "  48: '상품A',\n",
       "  50: '상 품 A',\n",
       "  52: '상품A',\n",
       "  54: True,\n",
       "  55: ['a', 'b', 'c', 'd'],\n",
       "  56: ['a', 'b', 'c'],\n",
       "  59: 'select',\n",
       "  60: '',\n",
       "  61: False,\n",
       "  62: True,\n",
       "  63: '\\n    s',\n",
       "  67: True,\n",
       "  68: ['select', '*', 'from', 'table'],\n",
       "  69: 'select',\n",
       "  71: True,\n",
       "  72: ['select', '*', 'from', 'table'],\n",
       "  73: 'select',\n",
       "  74: ['SELECT', '*', 'FROM', 'table'],\n",
       "  76: 'select',\n",
       "  77: True,\n",
       "  81: True,\n",
       "  82: True,\n",
       "  83: False,\n",
       "  85: False,\n",
       "  88: 'Hello',\n",
       "  93: 'Hello',\n",
       "  98: 15,\n",
       "  108: 32},\n",
       " '_dh': [WindowsPath('c:/python/250828')],\n",
       " 'In': ['',\n",
       "  \"text_a = 'Apple'\\ntext_b = 'apple'\",\n",
       "  'text_a == text_b',\n",
       "  'text_b.title()',\n",
       "  'text_a == text_b',\n",
       "  '# text_a와 text_b를 비교했을때 같다 라는 결과를 만들려면\\n# 두개의 데이터의 형태를 같게 만든다.\\ntext_a.upper()',\n",
       "  'text_b = text_b.upper()',\n",
       "  'text_a == text_b',\n",
       "  \"# text_a와 text_b를 비교했을때 같다 라는 결과를 만들려면\\n# 두개의 데이터의 형태를 같게 만든다.\\ntext_a.upper() # ex) str.upper() -> . 의 의미 : 문자열(str) 안에있는 upper()라는 함수를 호출한다.\\n               # 출력이 나온다는 의미 : text_a의 기본값 'Apple'은 바뀌지 않음 , \\n               # 기본값도 'APPLE'로 바꾸려면 text_a = text_a.upper() ,\\n               # text_a에 다시 저장하는 과정\",\n",
       "  'text_a = text_a.upper()',\n",
       "  'text_b = text_b.upper()',\n",
       "  'text_a == text_b',\n",
       "  'text_c = \"Hello world\"',\n",
       "  '#lower\\ntext_c.lower()',\n",
       "  '#swapcase()\\ntext_c.swapcase()',\n",
       "  'text_c.title()',\n",
       "  'text_c = \" Hello world \"',\n",
       "  '#lower\\ntext_c.lower()',\n",
       "  '#swapcase()\\ntext_c.swapcase()',\n",
       "  'text_c.title()',\n",
       "  '#좌우의 공백을 제거하는 함수\\ntext_c == \"Hello world\"',\n",
       "  'text_c.strip()',\n",
       "  'text_c.rstrip()',\n",
       "  'text_c.lstrip()',\n",
       "  'print(text_c.lstrip())\\nprint(text_c.rstrip())',\n",
       "  'print(text_c.lstrip())\\nprint(text_c.strip())',\n",
       "  \"#문자열을 숫자열로 변환\\n#금액을 숫자로 변경하여 계산\\nprice_1 = '$10.00'\\nprice_2 = '$20.00'\",\n",
       "  'price_1 + price_2',\n",
       "  'float(price_1)',\n",
       "  \"#float(price_1) -> error -> '$'숫자로 변경이 불가능하기 때문에\",\n",
       "  \"#'$'를 제거하고 숫자로 변경\\nprice_1.lstrip('$')\",\n",
       "  \"#'$'를 제거하고 숫자로 변경\\nfloat(price_1.lstrip('$'))\",\n",
       "  \"#'$'를 제거하고 숫자로 변경\\nfloat(price_1.lstrip('$')) + float(price_2.lstrip('$'))\",\n",
       "  \"price_1.lstrip('$')\",\n",
       "  \"float(price_1.lstrip('$'))\",\n",
       "  'price_3 = \"1,000원\"\\nprice_4 = \"3,000원\"',\n",
       "  \"#문자열 마지막의 '원'을 제거\\nint(price_3.rstrip('원'))\",\n",
       "  \"#strip() 함수는 문자의 시작과 끝의 데이터를 제거하는 용도\\n#문자열 사이에 있는 문자를 변경 X\\n# replace() : 특정문자를 치환 -> 문자를 변경, 문자를 제거 (문자를 대체하는 것)\\n# replace('특정문자','변경문자')\\nprice_3.replace(',',',')\",\n",
       "  \"#문자열 마지막의 '원'을 제거\\nint(price_3.rstrip('원')) # ',' 때문에 error\",\n",
       "  \"#strip() 함수는 문자의 시작과 끝의 데이터를 제거하는 용도\\n#문자열 사이에 있는 문자를 변경 X\\n# replace() : 특정문자를 치환 -> 문자를 변경, 문자를 제거 (문자를 대체하는 것)\\n# replace('특정문자','변경문자')\\nprice_3.replace(',',',')\",\n",
       "  \"#문자열 마지막의 '원'을 제거\\niprice_3.rstrip('원')# ',' 때문에 error\",\n",
       "  \"#문자열 마지막의 '원'을 제거\\nprice_3.rstrip('원')# ',' 때문에 error\",\n",
       "  \"#strip() 함수는 문자의 시작과 끝의 데이터를 제거하는 용도\\n#문자열 사이에 있는 문자를 변경 X\\n# replace() : 특정문자를 치환 -> 문자를 변경, 문자를 제거 (문자를 대체하는 것)\\n# replace('특정문자','변경문자')\\nprice_3.replace(',',',')\",\n",
       "  \"#strip() 함수는 문자의 시작과 끝의 데이터를 제거하는 용도\\n#문자열 사이에 있는 문자를 변경 X\\n# replace() : 특정문자를 치환 -> 문자를 변경, 문자를 제거 (문자를 대체하는 것)\\n# replace('특정문자','변경문자')\\nprice_3.replace(',','')\",\n",
       "  \"#strip() 함수는 문자의 시작과 끝의 데이터를 제거하는 용도\\n#문자열 사이에 있는 문자를 변경 X\\n# replace() : 특정문자를 치환 -> 문자를 변경, 문자를 제거 (문자를 대체하는 것)\\n# replace('특정문자','변경문자')\\nprice_3.replace(',','').rstrip('원')\",\n",
       "  \"#strip() 함수는 문자의 시작과 끝의 데이터를 제거하는 용도\\n#문자열 사이에 있는 문자를 변경 X\\n# replace() : 특정문자를 치환 -> 문자를 변경, 문자를 제거 (문자를 대체하는 것)\\n# replace('특정문자','변경문자')\\nint(price_3.replace(',','').rstrip('원'))\",\n",
       "  \"item_1 = '상품A'\\nitem_2 = '상품a'\\nitem_3 = '상 품 a'\",\n",
       "  '(item_1 == item_2) and (item_2 == item_3)',\n",
       "  '#item_1을 기준으로 item_2, item_3의 데이터를 변경\\n#item_2 -> 소문자를 대문자로 변경\\nitem_2.upper()',\n",
       "  '#item_1을 기준으로 item_2, item_3의 데이터를 변경\\n#item_2 -> 소문자를 대문자로 변경\\nitem_2 = item_2.upper()',\n",
       "  '#item_3 -> 문자열 사이에 존재하는 공백을 제거 -> 문자열을 대문자로 변경\\nitem_3.upper()',\n",
       "  '#item_3 -> 문자열 사이에 존재하는 공백을 제거 -> 문자열을 대문자로 변경\\nitem_3 = item_3.upper()',\n",
       "  \"item_3.replace(' ','')\",\n",
       "  \"item_3 = item_3.replace(' ','') #한칸 띄우는 것 공백, 공백없는 것 빈칸 없애는 방법\",\n",
       "  '(item_1 == item_2) and (item_2 == item_3)',\n",
       "  \"#문자열을 나눠주는 함수 -> split()\\n#공백을 기준으로 문자를 나눠주는 함수 -> 인자로 특정 문자를 입력하면 특정 문자로 문자를 나눠준다\\n\\ntext_1 = 'a b c d'\\ntext_1.split()\",\n",
       "  \"text_2 = 'ammbmmc'\\ntext_2.split('mm')\",\n",
       "  \"#query가 select문인가??\\nfind_word = 'select'\\n\\nquery_1[ 0 : len(find_word) ]\",\n",
       "  '#sql query문\\n#query_3이 제일 많이 쓰는 방법\\n\\nquery_1 = \"select * from table\"\\nquery_2 = \"SELECT * FROM table\"\\nquery_3 = \"\"\"   \\n    INSERT INTO\\n    table\\n    VALUES\\n    (\\'a\\')\\n\"\"\"\\n\\nquery_4 = \"\"\"\\n    select\\n    *\\n    from\\n    table\\n\"\"\"',\n",
       "  \"#query가 select문인가??\\nfind_word = 'select'\\n\\nquery_1[ 0 : len(find_word) ]\",\n",
       "  'query_2[ : len(find_word)  == find_word]',\n",
       "  'query_2[ : len(find_word)] == find_word',\n",
       "  'query_2[ : len(find_word)].lower() == find_word',\n",
       "  'query_4[ : len(find_word) ]   ',\n",
       "  'query_4.lstrip[ : len(find_word)] == find_word',\n",
       "  'query_4.lstrip[ : len(find_word) ] == find_word',\n",
       "  'query_4.lstrip([ : len(find_word) ] == find_word',\n",
       "  'query_4.lstrip()[ : len(find_word) ] == find_word',\n",
       "  'query_1.split()',\n",
       "  'query_1.split()[0]',\n",
       "  'query_1.split()[0] == find_wprd',\n",
       "  'query_1.split()[0] == find_word',\n",
       "  'query_4.split()',\n",
       "  'query_4.split()[0]',\n",
       "  'query_2.split()',\n",
       "  'query_2.split().loser()',\n",
       "  'query_2.split()[0].lower()',\n",
       "  'query_1.startswith(find_word)',\n",
       "  'query_2.loawer(find_word)',\n",
       "  'query_2.lower(find_word)',\n",
       "  'query_2.lower()(find_word)',\n",
       "  'query_2.lower().startswith(find_word)',\n",
       "  'query_4.lstrip().startswith(find_word)',\n",
       "  'query_3.lstrip().startswith(find_word)',\n",
       "  'file_list = [\\n    \"/csv/a.csv\",\\n    \"/csv/b.txt\",\\n    \"/csv/c.csv\",\\n    \"/csv/d.json\"\\n]',\n",
       "  \"#file_list에서 확장자가 csv인 목록만 출력하자\\nfile_list[1].endswith('csv')\",\n",
       "  \"#반복문을 이용하여 file_lsit에서 csv 확장인 파일만 새로운 목록을 만든다.\\n#비어있는 리스트를 생성\\ncsv_list = []\\n\\n#for문 list의 원소를 확인\\n#방법 1\\n\\nfor i in range(len(file_list)):\\n    #i에 들어오는 데이터의 의미 : index\\n    #fiel_list에 i번째 항목이 csv로 끝나는가?\\n    if file_list[i].endswith('csv'):\\n        #확장자가 csv인 경우 실행되는 부분\\n        csv_list.append(file_list[i])\\n\\nprint(csv_list)\\n\\n\\n\\n#for i in file_list : \\n    #i에 들어오는 데이터의 의미 : file_list의 원소\\n    #if i.endswith('csv'):\\n        #csv_list.append(i)\",\n",
       "  \"#함수\\n#특정한 행동을 코드로 표현하고 이름을 붙이는 작업\\n#특정 입력값을 통해서 연산을 하고 결과를 되돌려주는 작업\\n#python에서 def 키워드를 이용해서 함수를 생성\\ndef func_1() : \\n    #결과를 되돌려준다\\n    return 'Hello'\\n\\ndef func_2() :\\n    print('Hello')\",\n",
       "  '#함수 호출\\nfunc_1()',\n",
       "  'func_2()',\n",
       "  'res_1 = func_1',\n",
       "  'res_1 = func_1()',\n",
       "  'res_2 = func_2()',\n",
       "  'res_1',\n",
       "  'res_2',\n",
       "  \"#매개변수가 존재하지 않는 함수에 입력값을 사용해서 호출한다면?\\nfunc_1('a')\",\n",
       "  'func_3(10,5)\\n#a=10\\n#b=5\\n#c=10+5\\n#c를 되돌려준다.',\n",
       "  '#매개변수가 존재하는 함수 생성\\n\\ndef func_3(a,b):\\n    c = a + b\\n    return c',\n",
       "  'func_3(10,5)\\n#a=10\\n#b=5\\n#c=10+5\\n#c를 되돌려준다.',\n",
       "  '#매개변수가 2개인 함수를 호출하면서 인자를 1개만 입력하는경우??\\nfunc_3(10)',\n",
       "  '#매개변수가 2개인 함수를 호출하면서 인자를 1개만 입력하는경우??\\n#데이터가 입력되는 공간이 2개인데 데이터는 1개만 입력하면, \\n# 나머지 하나의 공간에 데이터가 없으므로 에러\\n\\n#func_3(10)',\n",
       "  \"#print() : 입력 데이터를 출력하는 기능\\nprint('a')\",\n",
       "  \"#print() : 입력 데이터를 출력하는 기능\\n#  * ->  인자의 개수가 가변일때 \\nprint('a')\\n\\nprint('a','b','c')\",\n",
       "  \"#print() : 입력 데이터를 출력하는 기능\\n#  * ->  인자의 개수가 가변일때 \\nprint('a')\\n\\nprint('a','b','c','/n')\",\n",
       "  \"#print() : 입력 데이터를 출력하는 기능\\n#  * ->  인자의 개수가 가변일때 \\nprint('a')\\n\\nprint('a','b','c','\\\\n')\",\n",
       "  \"#print() : 입력 데이터를 출력하는 기능\\n#  * ->  인자의 개수가 가변일때 \\nprint('a')\\n\\nprint('a','b','c',sep = '\\\\n')\",\n",
       "  \"#print() : 입력 데이터를 출력하는 기능\\n#  * ->  인자의 개수가 가변일때 \\nprint('a','b','c',sep = '\\\\n')\",\n",
       "  'def func_4(a,b=5):\\n    #매개변수는 2개 a,b\\n    #   a는 함수를 호출할때 필수 입력 공간\\n    #   b는 선택 입력 공간 (입력값을 넣고싶으면 넣고, 아닐땐 기본값 5 사용)\\n\\n    c = a ** b\\n    return c',\n",
       "  'func_4(2)\\n# a = 2\\n# b = 5\\n# c = 2 ** 5\\n#32를 되돌려준다.',\n",
       "  '# 모든 영역에서 사용할 수 있는 변수의 목록 확인\\nglobals()'],\n",
       " 'Out': {2: False,\n",
       "  3: 'Apple',\n",
       "  4: False,\n",
       "  5: 'APPLE',\n",
       "  7: False,\n",
       "  8: 'APPLE',\n",
       "  11: True,\n",
       "  13: 'hello world',\n",
       "  14: 'hELLO WORLD',\n",
       "  15: 'Hello World',\n",
       "  17: ' hello world ',\n",
       "  18: ' hELLO WORLD ',\n",
       "  19: ' Hello World ',\n",
       "  20: False,\n",
       "  21: 'Hello world',\n",
       "  22: ' Hello world',\n",
       "  23: 'Hello world ',\n",
       "  27: '$10.00$20.00',\n",
       "  30: '10.00',\n",
       "  31: 10.0,\n",
       "  32: 30.0,\n",
       "  33: '10.00',\n",
       "  34: 10.0,\n",
       "  37: '1,000원',\n",
       "  39: '1,000원',\n",
       "  41: '1,000',\n",
       "  42: '1,000원',\n",
       "  43: '1000원',\n",
       "  44: '1000',\n",
       "  45: 1000,\n",
       "  47: False,\n",
       "  48: '상품A',\n",
       "  50: '상 품 A',\n",
       "  52: '상품A',\n",
       "  54: True,\n",
       "  55: ['a', 'b', 'c', 'd'],\n",
       "  56: ['a', 'b', 'c'],\n",
       "  59: 'select',\n",
       "  60: '',\n",
       "  61: False,\n",
       "  62: True,\n",
       "  63: '\\n    s',\n",
       "  67: True,\n",
       "  68: ['select', '*', 'from', 'table'],\n",
       "  69: 'select',\n",
       "  71: True,\n",
       "  72: ['select', '*', 'from', 'table'],\n",
       "  73: 'select',\n",
       "  74: ['SELECT', '*', 'FROM', 'table'],\n",
       "  76: 'select',\n",
       "  77: True,\n",
       "  81: True,\n",
       "  82: True,\n",
       "  83: False,\n",
       "  85: False,\n",
       "  88: 'Hello',\n",
       "  93: 'Hello',\n",
       "  98: 15,\n",
       "  108: 32},\n",
       " 'get_ipython': <bound method InteractiveShell.get_ipython of <ipykernel.zmqshell.ZMQInteractiveShell object at 0x0000025D96533380>>,\n",
       " 'exit': <IPython.core.autocall.ZMQExitAutocall at 0x25d965ccc20>,\n",
       " 'quit': <IPython.core.autocall.ZMQExitAutocall at 0x25d965ccc20>,\n",
       " 'open': <function _io.open(file, mode='r', buffering=-1, encoding=None, errors=None, newline=None, closefd=True, opener=None)>,\n",
       " '_': 32,\n",
       " '__': 15,\n",
       " '___': 'Hello',\n",
       " '__vsc_ipynb_file__': 'c:\\\\python\\\\250828\\\\03_base.ipynb',\n",
       " '_i': 'func_4(2)\\n# a = 2\\n# b = 5\\n# c = 2 ** 5\\n#32를 되돌려준다.',\n",
       " '_ii': 'def func_4(a,b=5):\\n    #매개변수는 2개 a,b\\n    #   a는 함수를 호출할때 필수 입력 공간\\n    #   b는 선택 입력 공간 (입력값을 넣고싶으면 넣고, 아닐땐 기본값 5 사용)\\n\\n    c = a ** b\\n    return c',\n",
       " '_iii': \"#print() : 입력 데이터를 출력하는 기능\\n#  * ->  인자의 개수가 가변일때 \\nprint('a','b','c',sep = '\\\\n')\",\n",
       " '_i1': \"text_a = 'Apple'\\ntext_b = 'apple'\",\n",
       " 'text_a': 'APPLE',\n",
       " 'text_b': 'APPLE',\n",
       " '_i2': 'text_a == text_b',\n",
       " '_2': False,\n",
       " '_i3': 'text_b.title()',\n",
       " '_3': 'Apple',\n",
       " '_i4': 'text_a == text_b',\n",
       " '_4': False,\n",
       " '_i5': '# text_a와 text_b를 비교했을때 같다 라는 결과를 만들려면\\n# 두개의 데이터의 형태를 같게 만든다.\\ntext_a.upper()',\n",
       " '_5': 'APPLE',\n",
       " '_i6': 'text_b = text_b.upper()',\n",
       " '_i7': 'text_a == text_b',\n",
       " '_7': False,\n",
       " '_i8': \"# text_a와 text_b를 비교했을때 같다 라는 결과를 만들려면\\n# 두개의 데이터의 형태를 같게 만든다.\\ntext_a.upper() # ex) str.upper() -> . 의 의미 : 문자열(str) 안에있는 upper()라는 함수를 호출한다.\\n               # 출력이 나온다는 의미 : text_a의 기본값 'Apple'은 바뀌지 않음 , \\n               # 기본값도 'APPLE'로 바꾸려면 text_a = text_a.upper() ,\\n               # text_a에 다시 저장하는 과정\",\n",
       " '_8': 'APPLE',\n",
       " '_i9': 'text_a = text_a.upper()',\n",
       " '_i10': 'text_b = text_b.upper()',\n",
       " '_i11': 'text_a == text_b',\n",
       " '_11': True,\n",
       " '_i12': 'text_c = \"Hello world\"',\n",
       " 'text_c': ' Hello world ',\n",
       " '_i13': '#lower\\ntext_c.lower()',\n",
       " '_13': 'hello world',\n",
       " '_i14': '#swapcase()\\ntext_c.swapcase()',\n",
       " '_14': 'hELLO WORLD',\n",
       " '_i15': 'text_c.title()',\n",
       " '_15': 'Hello World',\n",
       " '_i16': 'text_c = \" Hello world \"',\n",
       " '_i17': '#lower\\ntext_c.lower()',\n",
       " '_17': ' hello world ',\n",
       " '_i18': '#swapcase()\\ntext_c.swapcase()',\n",
       " '_18': ' hELLO WORLD ',\n",
       " '_i19': 'text_c.title()',\n",
       " '_19': ' Hello World ',\n",
       " '_i20': '#좌우의 공백을 제거하는 함수\\ntext_c == \"Hello world\"',\n",
       " '_20': False,\n",
       " '_i21': 'text_c.strip()',\n",
       " '_21': 'Hello world',\n",
       " '_i22': 'text_c.rstrip()',\n",
       " '_22': ' Hello world',\n",
       " '_i23': 'text_c.lstrip()',\n",
       " '_23': 'Hello world ',\n",
       " '_i24': 'print(text_c.lstrip())\\nprint(text_c.rstrip())',\n",
       " '_i25': 'print(text_c.lstrip())\\nprint(text_c.strip())',\n",
       " '_i26': \"#문자열을 숫자열로 변환\\n#금액을 숫자로 변경하여 계산\\nprice_1 = '$10.00'\\nprice_2 = '$20.00'\",\n",
       " 'price_1': '$10.00',\n",
       " 'price_2': '$20.00',\n",
       " '_i27': 'price_1 + price_2',\n",
       " '_27': '$10.00$20.00',\n",
       " '_i28': 'float(price_1)',\n",
       " '_i29': \"#float(price_1) -> error -> '$'숫자로 변경이 불가능하기 때문에\",\n",
       " '_i30': \"#'$'를 제거하고 숫자로 변경\\nprice_1.lstrip('$')\",\n",
       " '_30': '10.00',\n",
       " '_i31': \"#'$'를 제거하고 숫자로 변경\\nfloat(price_1.lstrip('$'))\",\n",
       " '_31': 10.0,\n",
       " '_i32': \"#'$'를 제거하고 숫자로 변경\\nfloat(price_1.lstrip('$')) + float(price_2.lstrip('$'))\",\n",
       " '_32': 30.0,\n",
       " '_i33': \"price_1.lstrip('$')\",\n",
       " '_33': '10.00',\n",
       " '_i34': \"float(price_1.lstrip('$'))\",\n",
       " '_34': 10.0,\n",
       " '_i35': 'price_3 = \"1,000원\"\\nprice_4 = \"3,000원\"',\n",
       " 'price_3': '1,000원',\n",
       " 'price_4': '3,000원',\n",
       " '_i36': \"#문자열 마지막의 '원'을 제거\\nint(price_3.rstrip('원'))\",\n",
       " '_i37': \"#strip() 함수는 문자의 시작과 끝의 데이터를 제거하는 용도\\n#문자열 사이에 있는 문자를 변경 X\\n# replace() : 특정문자를 치환 -> 문자를 변경, 문자를 제거 (문자를 대체하는 것)\\n# replace('특정문자','변경문자')\\nprice_3.replace(',',',')\",\n",
       " '_37': '1,000원',\n",
       " '_i38': \"#문자열 마지막의 '원'을 제거\\nint(price_3.rstrip('원')) # ',' 때문에 error\",\n",
       " '_i39': \"#strip() 함수는 문자의 시작과 끝의 데이터를 제거하는 용도\\n#문자열 사이에 있는 문자를 변경 X\\n# replace() : 특정문자를 치환 -> 문자를 변경, 문자를 제거 (문자를 대체하는 것)\\n# replace('특정문자','변경문자')\\nprice_3.replace(',',',')\",\n",
       " '_39': '1,000원',\n",
       " '_i40': \"#문자열 마지막의 '원'을 제거\\niprice_3.rstrip('원')# ',' 때문에 error\",\n",
       " '_i41': \"#문자열 마지막의 '원'을 제거\\nprice_3.rstrip('원')# ',' 때문에 error\",\n",
       " '_41': '1,000',\n",
       " '_i42': \"#strip() 함수는 문자의 시작과 끝의 데이터를 제거하는 용도\\n#문자열 사이에 있는 문자를 변경 X\\n# replace() : 특정문자를 치환 -> 문자를 변경, 문자를 제거 (문자를 대체하는 것)\\n# replace('특정문자','변경문자')\\nprice_3.replace(',',',')\",\n",
       " '_42': '1,000원',\n",
       " '_i43': \"#strip() 함수는 문자의 시작과 끝의 데이터를 제거하는 용도\\n#문자열 사이에 있는 문자를 변경 X\\n# replace() : 특정문자를 치환 -> 문자를 변경, 문자를 제거 (문자를 대체하는 것)\\n# replace('특정문자','변경문자')\\nprice_3.replace(',','')\",\n",
       " '_43': '1000원',\n",
       " '_i44': \"#strip() 함수는 문자의 시작과 끝의 데이터를 제거하는 용도\\n#문자열 사이에 있는 문자를 변경 X\\n# replace() : 특정문자를 치환 -> 문자를 변경, 문자를 제거 (문자를 대체하는 것)\\n# replace('특정문자','변경문자')\\nprice_3.replace(',','').rstrip('원')\",\n",
       " '_44': '1000',\n",
       " '_i45': \"#strip() 함수는 문자의 시작과 끝의 데이터를 제거하는 용도\\n#문자열 사이에 있는 문자를 변경 X\\n# replace() : 특정문자를 치환 -> 문자를 변경, 문자를 제거 (문자를 대체하는 것)\\n# replace('특정문자','변경문자')\\nint(price_3.replace(',','').rstrip('원'))\",\n",
       " '_45': 1000,\n",
       " '_i46': \"item_1 = '상품A'\\nitem_2 = '상품a'\\nitem_3 = '상 품 a'\",\n",
       " 'item_1': '상품A',\n",
       " 'item_2': '상품A',\n",
       " 'item_3': '상품A',\n",
       " '_i47': '(item_1 == item_2) and (item_2 == item_3)',\n",
       " '_47': False,\n",
       " '_i48': '#item_1을 기준으로 item_2, item_3의 데이터를 변경\\n#item_2 -> 소문자를 대문자로 변경\\nitem_2.upper()',\n",
       " '_48': '상품A',\n",
       " '_i49': '#item_1을 기준으로 item_2, item_3의 데이터를 변경\\n#item_2 -> 소문자를 대문자로 변경\\nitem_2 = item_2.upper()',\n",
       " '_i50': '#item_3 -> 문자열 사이에 존재하는 공백을 제거 -> 문자열을 대문자로 변경\\nitem_3.upper()',\n",
       " '_50': '상 품 A',\n",
       " '_i51': '#item_3 -> 문자열 사이에 존재하는 공백을 제거 -> 문자열을 대문자로 변경\\nitem_3 = item_3.upper()',\n",
       " '_i52': \"item_3.replace(' ','')\",\n",
       " '_52': '상품A',\n",
       " '_i53': \"item_3 = item_3.replace(' ','') #한칸 띄우는 것 공백, 공백없는 것 빈칸 없애는 방법\",\n",
       " '_i54': '(item_1 == item_2) and (item_2 == item_3)',\n",
       " '_54': True,\n",
       " '_i55': \"#문자열을 나눠주는 함수 -> split()\\n#공백을 기준으로 문자를 나눠주는 함수 -> 인자로 특정 문자를 입력하면 특정 문자로 문자를 나눠준다\\n\\ntext_1 = 'a b c d'\\ntext_1.split()\",\n",
       " 'text_1': 'a b c d',\n",
       " '_55': ['a', 'b', 'c', 'd'],\n",
       " '_i56': \"text_2 = 'ammbmmc'\\ntext_2.split('mm')\",\n",
       " 'text_2': 'ammbmmc',\n",
       " '_56': ['a', 'b', 'c'],\n",
       " '_i57': \"#query가 select문인가??\\nfind_word = 'select'\\n\\nquery_1[ 0 : len(find_word) ]\",\n",
       " 'find_word': 'select',\n",
       " '_i58': '#sql query문\\n#query_3이 제일 많이 쓰는 방법\\n\\nquery_1 = \"select * from table\"\\nquery_2 = \"SELECT * FROM table\"\\nquery_3 = \"\"\"   \\n    INSERT INTO\\n    table\\n    VALUES\\n    (\\'a\\')\\n\"\"\"\\n\\nquery_4 = \"\"\"\\n    select\\n    *\\n    from\\n    table\\n\"\"\"',\n",
       " 'query_1': 'select * from table',\n",
       " 'query_2': 'SELECT * FROM table',\n",
       " 'query_3': \"   \\n    INSERT INTO\\n    table\\n    VALUES\\n    ('a')\\n\",\n",
       " 'query_4': '\\n    select\\n    *\\n    from\\n    table\\n',\n",
       " '_i59': \"#query가 select문인가??\\nfind_word = 'select'\\n\\nquery_1[ 0 : len(find_word) ]\",\n",
       " '_59': 'select',\n",
       " '_i60': 'query_2[ : len(find_word)  == find_word]',\n",
       " '_60': '',\n",
       " '_i61': 'query_2[ : len(find_word)] == find_word',\n",
       " '_61': False,\n",
       " '_i62': 'query_2[ : len(find_word)].lower() == find_word',\n",
       " '_62': True,\n",
       " '_i63': 'query_4[ : len(find_word) ]   ',\n",
       " '_63': '\\n    s',\n",
       " '_i64': 'query_4.lstrip[ : len(find_word)] == find_word',\n",
       " '_i65': 'query_4.lstrip[ : len(find_word) ] == find_word',\n",
       " '_i66': 'query_4.lstrip([ : len(find_word) ] == find_word',\n",
       " '_i67': 'query_4.lstrip()[ : len(find_word) ] == find_word',\n",
       " '_67': True,\n",
       " '_i68': 'query_1.split()',\n",
       " '_68': ['select', '*', 'from', 'table'],\n",
       " '_i69': 'query_1.split()[0]',\n",
       " '_69': 'select',\n",
       " '_i70': 'query_1.split()[0] == find_wprd',\n",
       " '_i71': 'query_1.split()[0] == find_word',\n",
       " '_71': True,\n",
       " '_i72': 'query_4.split()',\n",
       " '_72': ['select', '*', 'from', 'table'],\n",
       " '_i73': 'query_4.split()[0]',\n",
       " '_73': 'select',\n",
       " '_i74': 'query_2.split()',\n",
       " '_74': ['SELECT', '*', 'FROM', 'table'],\n",
       " '_i75': 'query_2.split().loser()',\n",
       " '_i76': 'query_2.split()[0].lower()',\n",
       " '_76': 'select',\n",
       " '_i77': 'query_1.startswith(find_word)',\n",
       " '_77': True,\n",
       " '_i78': 'query_2.loawer(find_word)',\n",
       " '_i79': 'query_2.lower(find_word)',\n",
       " '_i80': 'query_2.lower()(find_word)',\n",
       " '_i81': 'query_2.lower().startswith(find_word)',\n",
       " '_81': True,\n",
       " '_i82': 'query_4.lstrip().startswith(find_word)',\n",
       " '_82': True,\n",
       " '_i83': '\\nquery_3.lstrip().startswith(find_word)',\n",
       " '_83': False,\n",
       " '_i84': 'file_list = [\\n    \"/csv/a.csv\",\\n    \"/csv/b.txt\",\\n    \"/csv/c.csv\",\\n    \"/csv/d.json\"\\n]',\n",
       " 'file_list': ['/csv/a.csv', '/csv/b.txt', '/csv/c.csv', '/csv/d.json'],\n",
       " '_i85': \"#file_list에서 확장자가 csv인 목록만 출력하자\\nfile_list[1].endswith('csv')\",\n",
       " '_85': False,\n",
       " '_i86': \"#반복문을 이용하여 file_lsit에서 csv 확장인 파일만 새로운 목록을 만든다.\\n#비어있는 리스트를 생성\\ncsv_list = []\\n\\n#for문 list의 원소를 확인\\n#방법 1\\n\\nfor i in range(len(file_list)):\\n    #i에 들어오는 데이터의 의미 : index\\n    #fiel_list에 i번째 항목이 csv로 끝나는가?\\n    if file_list[i].endswith('csv'):\\n        #확장자가 csv인 경우 실행되는 부분\\n        csv_list.append(file_list[i])\\n\\nprint(csv_list)\\n\\n\\n\\n#for i in file_list : \\n    #i에 들어오는 데이터의 의미 : file_list의 원소\\n    #if i.endswith('csv'):\\n        #csv_list.append(i)\\n        \",\n",
       " 'csv_list': ['/csv/a.csv', '/csv/c.csv'],\n",
       " 'i': 3,\n",
       " '_i87': \"#함수\\n#특정한 행동을 코드로 표현하고 이름을 붙이는 작업\\n#특정 입력값을 통해서 연산을 하고 결과를 되돌려주는 작업\\n#python에서 def 키워드를 이용해서 함수를 생성\\ndef func_1() : \\n    #결과를 되돌려준다\\n    return 'Hello'\\n\\ndef func_2() :\\n    print('Hello')\",\n",
       " 'func_1': <function __main__.func_1()>,\n",
       " 'func_2': <function __main__.func_2()>,\n",
       " '_i88': '#함수 호출\\nfunc_1()',\n",
       " '_88': 'Hello',\n",
       " '_i89': 'func_2()',\n",
       " '_i90': 'res_1 = func_1',\n",
       " 'res_1': 'Hello',\n",
       " '_i91': 'res_1 = func_1()',\n",
       " '_i92': 'res_2 = func_2()',\n",
       " 'res_2': None,\n",
       " '_i93': 'res_1',\n",
       " '_93': 'Hello',\n",
       " '_i94': 'res_2',\n",
       " '_i95': \"#매개변수가 존재하지 않는 함수에 입력값을 사용해서 호출한다면?\\nfunc_1('a')\",\n",
       " '_i96': 'func_3(10,5)\\n#a=10\\n#b=5\\n#c=10+5\\n#c를 되돌려준다.',\n",
       " '_i97': '#매개변수가 존재하는 함수 생성\\n\\ndef func_3(a,b):\\n    c = a + b\\n    return c',\n",
       " 'func_3': <function __main__.func_3(a, b)>,\n",
       " '_i98': 'func_3(10,5)\\n#a=10\\n#b=5\\n#c=10+5\\n#c를 되돌려준다.',\n",
       " '_98': 15,\n",
       " '_i99': '#매개변수가 2개인 함수를 호출하면서 인자를 1개만 입력하는경우??\\nfunc_3(10)',\n",
       " '_i100': '#매개변수가 2개인 함수를 호출하면서 인자를 1개만 입력하는경우??\\n#데이터가 입력되는 공간이 2개인데 데이터는 1개만 입력하면, \\n# 나머지 하나의 공간에 데이터가 없으므로 에러\\n\\n#func_3(10)',\n",
       " '_i101': \"#print() : 입력 데이터를 출력하는 기능\\nprint('a')\",\n",
       " '_i102': \"#print() : 입력 데이터를 출력하는 기능\\n#  * ->  인자의 개수가 가변일때 \\nprint('a')\\n\\nprint('a','b','c')\",\n",
       " '_i103': \"#print() : 입력 데이터를 출력하는 기능\\n#  * ->  인자의 개수가 가변일때 \\nprint('a')\\n\\nprint('a','b','c','/n')\",\n",
       " '_i104': \"#print() : 입력 데이터를 출력하는 기능\\n#  * ->  인자의 개수가 가변일때 \\nprint('a')\\n\\nprint('a','b','c','\\\\n')\",\n",
       " '_i105': \"#print() : 입력 데이터를 출력하는 기능\\n#  * ->  인자의 개수가 가변일때 \\nprint('a')\\n\\nprint('a','b','c',sep = '\\\\n')\",\n",
       " '_i106': \"#print() : 입력 데이터를 출력하는 기능\\n#  * ->  인자의 개수가 가변일때 \\nprint('a','b','c',sep = '\\\\n')\",\n",
       " '_i107': 'def func_4(a,b=5):\\n    #매개변수는 2개 a,b\\n    #   a는 함수를 호출할때 필수 입력 공간\\n    #   b는 선택 입력 공간 (입력값을 넣고싶으면 넣고, 아닐땐 기본값 5 사용)\\n\\n    c = a ** b\\n    return c',\n",
       " 'func_4': <function __main__.func_4(a, b=5)>,\n",
       " '_i108': 'func_4(2)\\n# a = 2\\n# b = 5\\n# c = 2 ** 5\\n#32를 되돌려준다.',\n",
       " '_108': 32,\n",
       " '_i109': '# 모든 영역에서 사용할 수 있는 변수의 목록 확인\\nglobals()'}"
      ]
     },
     "execution_count": 109,
     "metadata": {},
     "output_type": "execute_result"
    }
   ],
   "source": [
    "# 모든 영역에서 사용할 수 있는 변수의 목록 확인\n",
    "globals()"
   ]
  },
  {
   "cell_type": "code",
   "execution_count": 110,
   "id": "e98c8b6a",
   "metadata": {},
   "outputs": [
    {
     "data": {
      "text/plain": [
       "'APPLE'"
      ]
     },
     "execution_count": 110,
     "metadata": {},
     "output_type": "execute_result"
    }
   ],
   "source": [
    "text_a"
   ]
  },
  {
   "cell_type": "code",
   "execution_count": 111,
   "id": "895b2012",
   "metadata": {},
   "outputs": [
    {
     "data": {
      "text/plain": [
       "'APPLE'"
      ]
     },
     "execution_count": 111,
     "metadata": {},
     "output_type": "execute_result"
    }
   ],
   "source": [
    "globals()['text_a']"
   ]
  },
  {
   "cell_type": "code",
   "execution_count": 114,
   "id": "cb9b4824",
   "metadata": {},
   "outputs": [],
   "source": [
    "#반복문을 이용해서 전역변수를 생성\n",
    "for i in range(3,10,2):\n",
    "    #globals 함수를 이용해서 전역변수 생성\n",
    "    globals()[f'a{i}' ] = i"
   ]
  },
  {
   "cell_type": "code",
   "execution_count": 115,
   "id": "990a31d9",
   "metadata": {},
   "outputs": [
    {
     "data": {
      "text/plain": [
       "3"
      ]
     },
     "execution_count": 115,
     "metadata": {},
     "output_type": "execute_result"
    }
   ],
   "source": [
    "a3"
   ]
  },
  {
   "cell_type": "code",
   "execution_count": 116,
   "id": "4dd14059",
   "metadata": {},
   "outputs": [
    {
     "data": {
      "text/plain": [
       "5"
      ]
     },
     "execution_count": 116,
     "metadata": {},
     "output_type": "execute_result"
    }
   ],
   "source": [
    "a5"
   ]
  },
  {
   "cell_type": "code",
   "execution_count": 118,
   "id": "499d813d",
   "metadata": {},
   "outputs": [
    {
     "data": {
      "text/plain": [
       "7"
      ]
     },
     "execution_count": 118,
     "metadata": {},
     "output_type": "execute_result"
    }
   ],
   "source": [
    "a7"
   ]
  },
  {
   "cell_type": "code",
   "execution_count": 119,
   "id": "99e60f8a",
   "metadata": {},
   "outputs": [
    {
     "data": {
      "text/plain": [
       "9"
      ]
     },
     "execution_count": 119,
     "metadata": {},
     "output_type": "execute_result"
    }
   ],
   "source": [
    "a9"
   ]
  },
  {
   "cell_type": "code",
   "execution_count": 121,
   "id": "6b7df326",
   "metadata": {},
   "outputs": [],
   "source": [
    "#지역 변수 확인\n",
    "def func_5(input_a,input_b):\n",
    "    func_res = input_a + input_b\n",
    "    return func_res\n",
    "\n",
    "res_3 = func_5(20,1)"
   ]
  },
  {
   "cell_type": "code",
   "execution_count": 123,
   "id": "63f98065",
   "metadata": {},
   "outputs": [
    {
     "name": "stdout",
     "output_type": "stream",
     "text": [
      "21\n"
     ]
    }
   ],
   "source": [
    "print(res_3)\n",
    "#func_res, input_a 지역변수이므로 전역에서는 사용이 불가능\n",
    "#print(func_res)\n",
    "#print(input_a)"
   ]
  },
  {
   "cell_type": "code",
   "execution_count": 124,
   "id": "24155835",
   "metadata": {},
   "outputs": [
    {
     "name": "stdout",
     "output_type": "stream",
     "text": [
      "10 10 10\n"
     ]
    }
   ],
   "source": [
    "#변수 생성\n",
    "a = b = c = 10\n",
    "print(a,b,c)"
   ]
  },
  {
   "cell_type": "code",
   "execution_count": 125,
   "id": "6ab7ead0",
   "metadata": {},
   "outputs": [
    {
     "name": "stdout",
     "output_type": "stream",
     "text": [
      "3 A True\n"
     ]
    }
   ],
   "source": [
    "d,e,f = 3, 'A', True\n",
    "print(d,e,f)"
   ]
  },
  {
   "cell_type": "code",
   "execution_count": 131,
   "id": "82f47959",
   "metadata": {},
   "outputs": [],
   "source": [
    "#함수에서 적용 -> return 데이터가 2개 이상인 경우\n",
    "def func_6(a,b):\n",
    "    c = a+b\n",
    "    d = a-b\n",
    "    return c,d"
   ]
  },
  {
   "cell_type": "code",
   "execution_count": 132,
   "id": "9c3a7832",
   "metadata": {},
   "outputs": [
    {
     "data": {
      "text/plain": [
       "(13, 7)"
      ]
     },
     "execution_count": 132,
     "metadata": {},
     "output_type": "execute_result"
    }
   ],
   "source": [
    "func_6(10,3)"
   ]
  },
  {
   "cell_type": "code",
   "execution_count": 133,
   "id": "2742ae66",
   "metadata": {},
   "outputs": [
    {
     "data": {
      "text/plain": [
       "(13, 7)"
      ]
     },
     "execution_count": 133,
     "metadata": {},
     "output_type": "execute_result"
    }
   ],
   "source": [
    "res_4 = func_6(10,3)\n",
    "res_4"
   ]
  },
  {
   "cell_type": "code",
   "execution_count": 134,
   "id": "e6bf3a7b",
   "metadata": {},
   "outputs": [],
   "source": [
    "res_5, res_6 = func_6(10,3)"
   ]
  },
  {
   "cell_type": "code",
   "execution_count": 136,
   "id": "ac916fcd",
   "metadata": {},
   "outputs": [
    {
     "name": "stdout",
     "output_type": "stream",
     "text": [
      "13\n",
      "7\n"
     ]
    }
   ],
   "source": [
    "print(res_5)\n",
    "print(res_6)"
   ]
  },
  {
   "cell_type": "code",
   "execution_count": 140,
   "id": "ee6cdabe",
   "metadata": {},
   "outputs": [],
   "source": [
    "#인자의 개수가 가변인 경우\n",
    "#변수 3개 -> args, result, i\n",
    "def func_7( *args ) : \n",
    "    # args의 타입? -> tuple,list,dict 중 1개, dict는 key값을 넣어야하기 때문에 안됨\n",
    "    print(type(args))\n",
    "    # 인자들의 누적합 구해서 되돌려주는 기능\n",
    "    # 합계 초기값 지정\n",
    "    result = 0\n",
    "    #args의 원소의 개수만큼 반복 실행하는 반복문 생성\n",
    "    for i in args:\n",
    "        #i는 args의 원소들이 각각 대입\n",
    "        result += i\n",
    "        \n",
    "    return result\n",
    "\n"
   ]
  },
  {
   "cell_type": "code",
   "execution_count": 141,
   "id": "1a6184ef",
   "metadata": {},
   "outputs": [
    {
     "name": "stdout",
     "output_type": "stream",
     "text": [
      "<class 'tuple'>\n"
     ]
    },
    {
     "data": {
      "text/plain": [
       "15"
      ]
     },
     "execution_count": 141,
     "metadata": {},
     "output_type": "execute_result"
    }
   ],
   "source": [
    "func_7(1,2,3,4,5)"
   ]
  },
  {
   "cell_type": "code",
   "execution_count": 142,
   "id": "82a3adbc",
   "metadata": {},
   "outputs": [],
   "source": [
    "def func_8(args):\n",
    "    result = 0\n",
    "    for i in args:\n",
    "        result += i\n",
    "    return result"
   ]
  },
  {
   "cell_type": "code",
   "execution_count": 144,
   "id": "14569a36",
   "metadata": {},
   "outputs": [
    {
     "data": {
      "text/plain": [
       "15"
      ]
     },
     "execution_count": 144,
     "metadata": {},
     "output_type": "execute_result"
    }
   ],
   "source": [
    "func_8([1,2,3,4,5])"
   ]
  },
  {
   "cell_type": "code",
   "execution_count": 146,
   "id": "027ba840",
   "metadata": {},
   "outputs": [
    {
     "name": "stdout",
     "output_type": "stream",
     "text": [
      "<class 'tuple'>\n"
     ]
    },
    {
     "data": {
      "text/plain": [
       "15"
      ]
     },
     "execution_count": 146,
     "metadata": {},
     "output_type": "execute_result"
    }
   ],
   "source": [
    "#func_7() 함수를 호출하는데 입력 데이터가 리스트인 경우\n",
    "func_7(*[1,2,3,4,5])"
   ]
  },
  {
   "cell_type": "code",
   "execution_count": 147,
   "id": "80454760",
   "metadata": {},
   "outputs": [],
   "source": [
    "#인자의 개수가 가변인 매개변수와 개수가 1개인 매개변수가 존재하는 함수\n",
    "\n",
    "def func_9(*args, data):\n",
    "    result = 0\n",
    "    # data가 1이라면 누적합을 되돌려준다\n",
    "    if data == 1:\n",
    "        result=0\n",
    "        for i in args :\n",
    "            result += i\n",
    "\n",
    "\n",
    "    # data가 0이라면 누적곱을 되돌려준다\n",
    "    if data == 0 :\n",
    "        result = 1 #누적곱일때 초기값 무조건 1 \n",
    "        for i in args :\n",
    "            result += i\n",
    "    return result"
   ]
  },
  {
   "cell_type": "code",
   "execution_count": null,
   "id": "76703f9b",
   "metadata": {},
   "outputs": [
    {
     "data": {
      "text/plain": [
       "15"
      ]
     },
     "execution_count": 149,
     "metadata": {},
     "output_type": "execute_result"
    }
   ],
   "source": [
    "#func_9(1,2,3,4,5, 1) #인자의개수가 여러개인 경우 구분을 못 한다 -> error, 1 -> data에 지정해야함\n",
    "func_9(1,2,3,4,5, data = 1) "
   ]
  },
  {
   "cell_type": "code",
   "execution_count": 150,
   "id": "69e835e5",
   "metadata": {},
   "outputs": [],
   "source": [
    "# 매개변수에 기본값이 설정이 되어있는 함수\n",
    "def func_10(a,b = 2,c = 3):\n",
    "    #매개변수는 3개 : a는 필수입력 부분 / b,c는 선택 입력 부분\n",
    "    #인자의 개수가 1개, 2개, 3개 모두 호출이 가능\n",
    "    \n",
    "    result = (a+b) ** c\n",
    "    return result"
   ]
  },
  {
   "cell_type": "code",
   "execution_count": 152,
   "id": "bc4be6a7",
   "metadata": {},
   "outputs": [
    {
     "name": "stdout",
     "output_type": "stream",
     "text": [
      "125\n",
      "216\n",
      "4\n"
     ]
    }
   ],
   "source": [
    "print(func_10(3))\n",
    "print(func_10(5,1))\n",
    "print(func_10(3,1,1))"
   ]
  },
  {
   "cell_type": "code",
   "execution_count": 153,
   "id": "c7814539",
   "metadata": {},
   "outputs": [
    {
     "data": {
      "text/plain": [
       "25"
      ]
     },
     "execution_count": 153,
     "metadata": {},
     "output_type": "execute_result"
    }
   ],
   "source": [
    "#func_10에서 b매개변수는 기본값을 사용하고 c의 매개변수에는 새로운 입력값 대입\n",
    "func_10(3,c = 2)"
   ]
  },
  {
   "cell_type": "code",
   "execution_count": 155,
   "id": "bfc558a3",
   "metadata": {},
   "outputs": [],
   "source": [
    "#함수를 생성시 매개변수의 기본값을 설정하려면 \n",
    "# 가장 뒤의 매개변수부터 기본값을 설정\n",
    "# 중간의 매개변수에만 기본값을 설정하면 에러가 발생\n",
    "# def func_11(a, b=2, c):\n",
    "    # result = a+b+c \n",
    "    # return result"
   ]
  },
  {
   "cell_type": "markdown",
   "id": "8bea4a43",
   "metadata": {},
   "source": [
    "### 연습\n",
    "\n",
    "- 함수를 생성\n",
    "    - 매개변수 2개\n",
    "        - _datas : 인자의 개수가 가변인 매개변수\n",
    "        - _type : 기본값이 설정 ('max')\n",
    "    - _type이 'max'라면 _datas 중에 가장 큰 값을 되돌려준다\n",
    "    - _type이 'min'라면 _datas 중에 가장 작은 값을 되돌려준다\n",
    "    - _type이 'mean'이라면 _datas 들의 평균을 되돌려준다\n",
    "    - 위에 3가지의 경우가 아니라면 \"_type이 맞지 않습니다\"를 되돌려준다\n",
    "    "
   ]
  },
  {
   "cell_type": "code",
   "execution_count": 169,
   "id": "a67d4690",
   "metadata": {},
   "outputs": [],
   "source": [
    "def func_11(*_datas, _type = 'max') :\n",
    "\n",
    "    \n",
    "\n",
    "    if _type == 'max' :\n",
    "        return max(_datas)\n",
    "    \n",
    "    if _type == 'min' :\n",
    "        return min(_datas)\n",
    "    \n",
    "    if _type == 'mean' :\n",
    "        return sum(_data) / len(_datas)\n",
    "    \n",
    "    return \"type이 맞지 않습니다.\"\n",
    "        \n",
    "        \n",
    "        "
   ]
  },
  {
   "cell_type": "code",
   "execution_count": 170,
   "id": "db5e8eb1",
   "metadata": {},
   "outputs": [],
   "source": [
    "def func_12(*_datas, _type='max'):\n",
    "    \n",
    "    if _type == \"max\":\n",
    "        result = max(_datas)\n",
    "\n",
    "    elif _type == 'min':\n",
    "        result = min(_datas)\n",
    "    \n",
    "    elif _type == 'mean':\n",
    "        result = sum(_datas) / len(_datas)\n",
    "    \n",
    "    else:\n",
    "        result = \"_type이 맞지 않습니다\"\n",
    "\n",
    "    return result\n"
   ]
  },
  {
   "cell_type": "code",
   "execution_count": 174,
   "id": "40955550",
   "metadata": {},
   "outputs": [
    {
     "data": {
      "text/plain": [
       "5"
      ]
     },
     "execution_count": 174,
     "metadata": {},
     "output_type": "execute_result"
    }
   ],
   "source": [
    "func_11(1,2,3,4,5) #type의 기본값이 'max'이기 때문에 결과가 5가 나옴"
   ]
  },
  {
   "cell_type": "code",
   "execution_count": 171,
   "id": "5198408c",
   "metadata": {},
   "outputs": [
    {
     "data": {
      "text/plain": [
       "1"
      ]
     },
     "execution_count": 171,
     "metadata": {},
     "output_type": "execute_result"
    }
   ],
   "source": [
    "func_12(1,2,3,4,5, _type = 'min')"
   ]
  },
  {
   "cell_type": "code",
   "execution_count": 172,
   "id": "c748fc4c",
   "metadata": {},
   "outputs": [
    {
     "data": {
      "text/plain": [
       "3.0"
      ]
     },
     "execution_count": 172,
     "metadata": {},
     "output_type": "execute_result"
    }
   ],
   "source": [
    "func_12(1,2,3,4,5, _type = 'mean')"
   ]
  },
  {
   "cell_type": "code",
   "execution_count": 173,
   "id": "7349b34b",
   "metadata": {},
   "outputs": [
    {
     "data": {
      "text/plain": [
       "'_type이 맞지 않습니다'"
      ]
     },
     "execution_count": 173,
     "metadata": {},
     "output_type": "execute_result"
    }
   ],
   "source": [
    "func_12(1,2,3,4,5, _type ='sum')"
   ]
  },
  {
   "cell_type": "code",
   "execution_count": null,
   "id": "d4cca86f",
   "metadata": {},
   "outputs": [],
   "source": []
  }
 ],
 "metadata": {
  "kernelspec": {
   "display_name": "Python 3",
   "language": "python",
   "name": "python3"
  },
  "language_info": {
   "codemirror_mode": {
    "name": "ipython",
    "version": 3
   },
   "file_extension": ".py",
   "mimetype": "text/x-python",
   "name": "python",
   "nbconvert_exporter": "python",
   "pygments_lexer": "ipython3",
   "version": "3.13.7"
  }
 },
 "nbformat": 4,
 "nbformat_minor": 5
}
