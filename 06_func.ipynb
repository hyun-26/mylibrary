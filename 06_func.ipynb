{
 "cells": [
  {
   "cell_type": "code",
   "execution_count": null,
   "id": "d106ca05",
   "metadata": {},
   "outputs": [
    {
     "name": "stdout",
     "output_type": "stream",
     "text": [
      "[1, 4, 9, 16, 25]\n"
     ]
    }
   ],
   "source": [
    "#map() -> 1차원데이터를 각각 원소별 변환 필요할때 사용\n",
    "#map(함수, 1차원 데이터)\n",
    "#map()함수는 결과를 list()형태로 바꿔줘야 눈에 보임\n",
    "list_a = [1,2,3,4,5]\n",
    "#list_a에서 각각의 원소들에 제곱을 한 새로운 리스트를 생성해보자\n",
    "#case1\n",
    "#for문 이용\n",
    "new_list = []\n",
    "for i in list_a :\n",
    "    # i는? -> list_a의 원소들의 값\n",
    "    new_list.append(i ** 2)\n",
    "\n",
    "#for i in range(len(list_a))\n",
    "    # i는? -> list_a 의 위치 값 (0,1,2,3,4)\n",
    "    # new_list.append(\n",
    "    #     list_a[i] ** 2\n",
    "    # )\n",
    "\n",
    "print(new_list)"
   ]
  },
  {
   "cell_type": "code",
   "execution_count": 6,
   "id": "39922c8c",
   "metadata": {},
   "outputs": [
    {
     "name": "stdout",
     "output_type": "stream",
     "text": [
      "False True True True\n"
     ]
    }
   ],
   "source": [
    "#case2\n",
    "#while문 이용\n",
    "#while 조건식 :\n",
    "#조건식이 들어가는 부분은 bool 형태\n",
    "#bool형태가 아닌 데이터가 들어오면 강제로 bool형태로 변환\n",
    "\n",
    "print(\n",
    "    bool(0),\n",
    "    bool(1),\n",
    "    bool(10),\n",
    "    bool(-3)\n",
    ")\n"
   ]
  },
  {
   "cell_type": "code",
   "execution_count": 8,
   "id": "6f03294a",
   "metadata": {},
   "outputs": [
    {
     "name": "stdout",
     "output_type": "stream",
     "text": [
      "False True True\n"
     ]
    }
   ],
   "source": [
    "# 공백도 데이터다\n",
    "print(\n",
    "    bool(\"\"),\n",
    "    bool( \" \" ),\n",
    "    bool( \"asd\" ),\n",
    ")\n"
   ]
  },
  {
   "cell_type": "code",
   "execution_count": 7,
   "id": "5d84d1c7",
   "metadata": {},
   "outputs": [
    {
     "name": "stdout",
     "output_type": "stream",
     "text": [
      "False True\n"
     ]
    }
   ],
   "source": [
    "print(\n",
    "    bool( [] ),\n",
    "    bool( [1] )\n",
    ")\n"
   ]
  },
  {
   "cell_type": "code",
   "execution_count": 9,
   "id": "a64ca670",
   "metadata": {},
   "outputs": [
    {
     "data": {
      "text/plain": [
       "2"
      ]
     },
     "execution_count": 9,
     "metadata": {},
     "output_type": "execute_result"
    }
   ],
   "source": [
    "True + True"
   ]
  },
  {
   "cell_type": "code",
   "execution_count": 24,
   "id": "c3ad54b4",
   "metadata": {},
   "outputs": [
    {
     "name": "stdout",
     "output_type": "stream",
     "text": [
      "[1, 4, 9, 16, 25]\n"
     ]
    }
   ],
   "source": [
    "#while 조건식\n",
    "# ex_1 조건식은? -> 초기값을 지정하고 초기값이 list_a의 길이보다 작을때까지\n",
    "# ex_2 조건식은? -> 무한 -> 초기값이 list_a의 길이보다 같을때 반복문 강제 종료\n",
    "# ex_3          -> 에러가 발생한다면 반복문을 강제 종료\n",
    "\n",
    "list_a = [1,2,3,4,5]\n",
    "\n",
    "i=0\n",
    "new_list = []\n",
    "\n",
    "while (i < len(list_a)) :\n",
    "    # i는? -> list_a의 위치 값\n",
    "\n",
    "    new_list.append(list_a[i] ** 2)\n",
    "    #i를 1씩 증가 -> 무한루프 방지\n",
    "    i += 1  \n",
    "\n",
    "print(new_list)\n",
    "    "
   ]
  },
  {
   "cell_type": "code",
   "execution_count": 25,
   "id": "52fefdc2",
   "metadata": {},
   "outputs": [
    {
     "name": "stdout",
     "output_type": "stream",
     "text": [
      "[1, 4, 9, 16, 25, 1, 4, 9, 16, 25]\n"
     ]
    }
   ],
   "source": [
    "i=0\n",
    "while True:\n",
    "    \n",
    "    new_list.append(\n",
    "        list_a[i] ** 2\n",
    "    )\n",
    "    i += 1\n",
    "\n",
    "    if i >= len(list_a) :\n",
    "        break\n",
    "\n",
    "print(new_list)"
   ]
  },
  {
   "cell_type": "code",
   "execution_count": 31,
   "id": "0c8f71e9",
   "metadata": {},
   "outputs": [
    {
     "data": {
      "text/plain": [
       "[1, 4, 9, 16, 25]"
      ]
     },
     "execution_count": 31,
     "metadata": {},
     "output_type": "execute_result"
    }
   ],
   "source": [
    "new_list = []\n",
    "i=0\n",
    "\n",
    "while True:\n",
    "    #예외처리\n",
    "    try : \n",
    "        new_list.append(list_a[i] ** 2)\n",
    "        i += 1\n",
    "\n",
    "    except :\n",
    "    #try문 안에서 실행되는 코드가 에러가 발생한다면 반복문을 종료\n",
    "        break\n",
    "new_list\n"
   ]
  },
  {
   "cell_type": "code",
   "execution_count": null,
   "id": "77cb3974",
   "metadata": {},
   "outputs": [
    {
     "data": {
      "text/plain": [
       "[1, 4, 9, 16, 25]"
      ]
     },
     "execution_count": 33,
     "metadata": {},
     "output_type": "execute_result"
    }
   ],
   "source": [
    "#map() 함수를 이용\n",
    "#map() + 일반 함수\n",
    "\n",
    "def func_1(x):\n",
    "    result = x ** 2\n",
    "    return result\n",
    "\n",
    "#map() -> list_a의 데이터들은 각각 func_1 함수에 대입하여 새로운 결과를 \n",
    "list(\n",
    "    map(\n",
    "        func_1,list_a\n",
    ")\n",
    ")\n"
   ]
  },
  {
   "cell_type": "code",
   "execution_count": 34,
   "id": "242d7735",
   "metadata": {},
   "outputs": [
    {
     "data": {
      "text/plain": [
       "[1, 4, 9, 16, 25]"
      ]
     },
     "execution_count": 34,
     "metadata": {},
     "output_type": "execute_result"
    }
   ],
   "source": [
    "# lambda 함수 + map()\n",
    "# lambda 함수는 단순한 작업할때만 사용함\n",
    "# lambda 매개변수 : 매개변수 변환하는 코드( return이 필요 x )\n",
    "# lambda 에서는 매개변수를 일반적으로 x,y,z를 씀\n",
    "\n",
    "list( \n",
    "    map(\n",
    "        lambda x : x ** 2,\n",
    "        list_a\n",
    "    )\n",
    ")"
   ]
  },
  {
   "cell_type": "code",
   "execution_count": 37,
   "id": "67fd5654",
   "metadata": {},
   "outputs": [
    {
     "data": {
      "text/plain": [
       "[(1, 5), (2, 4), (3, 3), (4, 2), (5, 1)]"
      ]
     },
     "execution_count": 37,
     "metadata": {},
     "output_type": "execute_result"
    }
   ],
   "source": [
    "# map() 함수에는 첫번째 인자는 함수로 고정\n",
    "# 두번째 인자부터는 1차원 데이터의 가변의 매개변수\n",
    "# *가변 표시를 넣어주면 여러개의 데이터가 들어갈 수 있음\n",
    "\n",
    "list(\n",
    "    map(\n",
    "        lambda *x : x,\n",
    "        [1,2,3,4,5],\n",
    "        [5,4,3,2,1]\n",
    "    )\n",
    ")"
   ]
  },
  {
   "cell_type": "code",
   "execution_count": 38,
   "id": "392af7e0",
   "metadata": {},
   "outputs": [
    {
     "data": {
      "text/plain": [
       "[6, 6, 6, 6, 6]"
      ]
     },
     "execution_count": 38,
     "metadata": {},
     "output_type": "execute_result"
    }
   ],
   "source": [
    "list(\n",
    "    map(\n",
    "        lambda x, y : x + y,\n",
    "        [1,2,3,4,5],\n",
    "        [5,4,3,2,1]\n",
    "    )\n",
    ")"
   ]
  },
  {
   "cell_type": "code",
   "execution_count": 44,
   "id": "97b3751c",
   "metadata": {},
   "outputs": [
    {
     "name": "stdout",
     "output_type": "stream",
     "text": [
      "[6, 6, 6, 6, 6]\n"
     ]
    }
   ],
   "source": [
    "# 위의 map 함수가 하는 기능을 반복문으로 작성한다면?\n",
    "\n",
    "list_1 = [1,2,3,4,5]\n",
    "list_2 = [5,4,3,2,1]\n",
    "\n",
    "new_list = []\n",
    "i = 0\n",
    "\n",
    "for i in range(len(list_1)):\n",
    "    new_list.append(list_1[i] + list_2[i])\n",
    "\n",
    "print(new_list)\n"
   ]
  },
  {
   "cell_type": "code",
   "execution_count": 45,
   "id": "9de1588f",
   "metadata": {},
   "outputs": [
    {
     "data": {
      "text/plain": [
       "[6, 6, 6, 6, 6]"
      ]
     },
     "execution_count": 45,
     "metadata": {},
     "output_type": "execute_result"
    }
   ],
   "source": [
    "new_list = []\n",
    "for x, y in zip( list_1 , list_2):\n",
    "    new_list.append(x+y)\n",
    "\n",
    "new_list"
   ]
  },
  {
   "cell_type": "code",
   "execution_count": 47,
   "id": "49858558",
   "metadata": {},
   "outputs": [
    {
     "data": {
      "text/plain": [
       "[(1, 5), (2, 4), (3, 3), (4, 2), (5, 1)]"
      ]
     },
     "execution_count": 47,
     "metadata": {},
     "output_type": "execute_result"
    }
   ],
   "source": [
    "list(zip( list_1, list_2))"
   ]
  },
  {
   "cell_type": "code",
   "execution_count": 48,
   "id": "850168e6",
   "metadata": {},
   "outputs": [],
   "source": [
    "# map(), zip() 함수를 확인하면 0x....과 같은 출력 생성\n",
    "\n",
    "class A:\n",
    "    def __init__(self, _x):\n",
    "        self.x = _x\n",
    "        "
   ]
  },
  {
   "cell_type": "code",
   "execution_count": 49,
   "id": "67282aba",
   "metadata": {},
   "outputs": [],
   "source": [
    "class_a = A(10)"
   ]
  },
  {
   "cell_type": "code",
   "execution_count": 50,
   "id": "cb7443a6",
   "metadata": {},
   "outputs": [
    {
     "data": {
      "text/plain": [
       "<__main__.A at 0x13c187e2cf0>"
      ]
     },
     "execution_count": 50,
     "metadata": {},
     "output_type": "execute_result"
    }
   ],
   "source": [
    "# 일반적으로 생성된 클래스는 주소값 확인이 가능\n",
    "class_a"
   ]
  },
  {
   "cell_type": "code",
   "execution_count": 58,
   "id": "bdd1f70c",
   "metadata": {},
   "outputs": [],
   "source": [
    "class B:\n",
    "    def __init__ (self,x):\n",
    "        self.x = x\n",
    "    def __repr__(self):\n",
    "        return str(self.x)"
   ]
  },
  {
   "cell_type": "code",
   "execution_count": 59,
   "id": "83e375ff",
   "metadata": {},
   "outputs": [],
   "source": [
    "class_b = B(20)"
   ]
  },
  {
   "cell_type": "code",
   "execution_count": 60,
   "id": "b549aa3a",
   "metadata": {},
   "outputs": [
    {
     "data": {
      "text/plain": [
       "20"
      ]
     },
     "execution_count": 60,
     "metadata": {},
     "output_type": "execute_result"
    }
   ],
   "source": [
    "class_b"
   ]
  },
  {
   "cell_type": "markdown",
   "id": "7d599f26",
   "metadata": {},
   "source": [
    "### 연습\n",
    "\n",
    "- 함수(func_2) 생성\n",
    "    - 매개변수 1개 -> n(기본값이 존재x)\n",
    "    - n 팩터리얼의 값을 되돌려주는 함수\n",
    "\n",
    "    n x (n-1) x (n-2) x ... "
   ]
  },
  {
   "cell_type": "code",
   "execution_count": 61,
   "id": "5735295a",
   "metadata": {},
   "outputs": [],
   "source": [
    "# 함수 생성 -> 매개변수, 함수의 결과에 대한 힌트를 포함\n",
    "\n",
    "def func_2(n : int) -> int : \n",
    "\n",
    "    # 1부터 시작해서 자기자신까지 1씩 증가시키면서 누적곱\n",
    "    result = 1\n",
    "    for i in range(2,n+1,1):\n",
    "        result += i\n",
    "    return result"
   ]
  },
  {
   "cell_type": "code",
   "execution_count": 63,
   "id": "d5880969",
   "metadata": {},
   "outputs": [
    {
     "data": {
      "text/plain": [
       "15"
      ]
     },
     "execution_count": 63,
     "metadata": {},
     "output_type": "execute_result"
    }
   ],
   "source": [
    "func_2(5)"
   ]
  },
  {
   "cell_type": "code",
   "execution_count": 82,
   "id": "0e699d88",
   "metadata": {},
   "outputs": [],
   "source": [
    "def func_3(n : int) -> int:\n",
    "    result = n\n",
    "\n",
    "    for i in range(n-1,1,-1):\n",
    "        result *= i\n",
    "    return result"
   ]
  },
  {
   "cell_type": "code",
   "execution_count": 83,
   "id": "f037391a",
   "metadata": {},
   "outputs": [
    {
     "data": {
      "text/plain": [
       "720"
      ]
     },
     "execution_count": 83,
     "metadata": {},
     "output_type": "execute_result"
    }
   ],
   "source": [
    "func_3(6)"
   ]
  },
  {
   "cell_type": "markdown",
   "id": "e7368163",
   "metadata": {},
   "source": [
    "### 재귀 함수\n",
    "- 어떤 이벤트에서 자기 자신을 포함하고 다시 자기 자신을 사용하여 정이되는 것을 의미\n",
    "- 재귀를 효과적으로 사용하면 프로그램을 간결하고 효율성이 좋게 작성이 가능함"
   ]
  },
  {
   "cell_type": "code",
   "execution_count": 88,
   "id": "48fd94ff",
   "metadata": {},
   "outputs": [],
   "source": [
    "def func_4(n : int) -> int:\n",
    "\n",
    "\n",
    "\n",
    "    if n > 0 :\n",
    "        return n * func_4(n-1)\n",
    "    else :\n",
    "        return 1\n",
    "                        "
   ]
  },
  {
   "cell_type": "code",
   "execution_count": 89,
   "id": "0b3b24fd",
   "metadata": {},
   "outputs": [
    {
     "data": {
      "text/plain": [
       "120"
      ]
     },
     "execution_count": 89,
     "metadata": {},
     "output_type": "execute_result"
    }
   ],
   "source": [
    "func_4(5)"
   ]
  },
  {
   "cell_type": "code",
   "execution_count": 94,
   "id": "6f97002b",
   "metadata": {},
   "outputs": [],
   "source": [
    "#list에 내장된 reverse() 함수를 생성\n",
    "def list_reverse(_x):\n",
    "    # 가장 마지막의 데이터를 추출하여 새로운 리스트에 추가\n",
    "    result = []\n",
    "\n",
    "    for i in range(1, len(_x) +1 ):\n",
    "        result.append(\n",
    "            _x[-i]\n",
    "        )\n",
    "    return result"
   ]
  },
  {
   "cell_type": "code",
   "execution_count": 107,
   "id": "b5e9885b",
   "metadata": {},
   "outputs": [],
   "source": [
    "test_list = [1,2,3,4,5]"
   ]
  },
  {
   "cell_type": "code",
   "execution_count": 108,
   "id": "061228db",
   "metadata": {},
   "outputs": [
    {
     "data": {
      "text/plain": [
       "[5, 4, 3, 2, 1]"
      ]
     },
     "execution_count": 108,
     "metadata": {},
     "output_type": "execute_result"
    }
   ],
   "source": [
    "list_reverse(test_list)"
   ]
  },
  {
   "cell_type": "code",
   "execution_count": 113,
   "id": "e2905ee0",
   "metadata": {},
   "outputs": [],
   "source": [
    "def list_reverse2(_x):\n",
    "    #_x의 복사본 생성\n",
    "    result = _x.copy()\n",
    "    for i in range(len(result)//2):\n",
    "        result[i], result[-1-i] = result[-1-i], result[i]\n",
    "    return result"
   ]
  },
  {
   "cell_type": "code",
   "execution_count": 112,
   "id": "bb7bf905",
   "metadata": {},
   "outputs": [
    {
     "data": {
      "text/plain": [
       "[1, 2, 3, 4, 5]"
      ]
     },
     "execution_count": 112,
     "metadata": {},
     "output_type": "execute_result"
    }
   ],
   "source": [
    "list_reverse2(test_list)"
   ]
  },
  {
   "cell_type": "code",
   "execution_count": 114,
   "id": "2651a027",
   "metadata": {},
   "outputs": [
    {
     "data": {
      "text/plain": [
       "[5, 4, 3, 2, 1]"
      ]
     },
     "execution_count": 114,
     "metadata": {},
     "output_type": "execute_result"
    }
   ],
   "source": [
    "test_list"
   ]
  },
  {
   "cell_type": "markdown",
   "id": "0bc6b62c",
   "metadata": {},
   "source": [
    "#### 연습\n",
    "- find() 함수를 생성해보자\n",
    "    - 함수의 이름은 c_find()\n",
    "    - 매개변수 2개 (_data, _word)\n",
    "    - _data에서 _word의 위치를 출력하는 기능\n",
    "    - 찾는 _word가 여러개라면 여러개를 동시에 출력\n",
    "    - 찾는 _word가 존재하지 않는다면 () 출력\n",
    "\n",
    "\n"
   ]
  },
  {
   "cell_type": "code",
   "execution_count": 118,
   "id": "6d4bd282",
   "metadata": {},
   "outputs": [],
   "source": [
    "#find(), index() 함수를 모른다는 기준으로 함수 구성\n",
    "\n",
    "def c_find(_data,_word):\n",
    "    # index들이 저장될 공간을 설정\n",
    "\n",
    "    result = [] # 리스트\n",
    "    result2 = () # 튜플\n",
    "\n",
    "    for i in range(len(_data)):\n",
    "        \n",
    "        if _data[i] == _word:\n",
    "            #리스트 데이터에서 데이터를 추가할때\n",
    "            result.append(i)\n",
    "            #result2는 tuple에 데이터를 추가??\n",
    "            #tuple + tuple은 새로운 tuple 생성\n",
    "            # result2 += (i)\n",
    "    return result, result2"
   ]
  },
  {
   "cell_type": "code",
   "execution_count": 119,
   "id": "c547f222",
   "metadata": {},
   "outputs": [
    {
     "data": {
      "text/plain": [
       "([1, 2], ())"
      ]
     },
     "execution_count": 119,
     "metadata": {},
     "output_type": "execute_result"
    }
   ],
   "source": [
    "c_find('apple','p')"
   ]
  },
  {
   "cell_type": "code",
   "execution_count": 122,
   "id": "4da2803d",
   "metadata": {},
   "outputs": [
    {
     "data": {
      "text/plain": [
       "([0, 4], ())"
      ]
     },
     "execution_count": 122,
     "metadata": {},
     "output_type": "execute_result"
    }
   ],
   "source": [
    "c_find(\n",
    "    ['a','b','c','d','a'],\n",
    "    'a'\n",
    ")"
   ]
  },
  {
   "cell_type": "code",
   "execution_count": 123,
   "id": "4ba794dc",
   "metadata": {},
   "outputs": [
    {
     "data": {
      "text/plain": [
       "([], ())"
      ]
     },
     "execution_count": 123,
     "metadata": {},
     "output_type": "execute_result"
    }
   ],
   "source": [
    "c_find('apple','b')"
   ]
  },
  {
   "cell_type": "code",
   "execution_count": 135,
   "id": "00fb8962",
   "metadata": {},
   "outputs": [],
   "source": [
    "#find(), index() 함수를 모른다는 기준으로 함수 구성\n",
    "\n",
    "def c_find(_data,_word):\n",
    "    # index들이 저장될 공간을 설정\n",
    "\n",
    "    result = [] # 리스트\n",
    "    result2 = () # 튜플\n",
    "\n",
    "    for i in range(len(_data)):\n",
    "        #_data가 문자인가? -> 변수의 타입이 무엇인가\n",
    "\n",
    "        if type(_data) == str :\n",
    "            flag = _data[i : i + len(_word)] == _word\n",
    "        else:\n",
    "            flag = _data[i] == _word\n",
    "\n",
    "        \n",
    "        if flag :\n",
    "            #리스트 데이터에서 데이터를 추가할때\n",
    "            result.append(i)\n",
    "            #result2는 tuple에 데이터를 추가??\n",
    "            #tuple + tuple은 새로운 tuple 생성\n",
    "            result2 += (i,)\n",
    "    return result, result2"
   ]
  },
  {
   "cell_type": "code",
   "execution_count": 136,
   "id": "68df5856",
   "metadata": {},
   "outputs": [
    {
     "data": {
      "text/plain": [
       "([1, 2], (1, 2))"
      ]
     },
     "execution_count": 136,
     "metadata": {},
     "output_type": "execute_result"
    }
   ],
   "source": [
    "c_find('apple','p')"
   ]
  },
  {
   "cell_type": "code",
   "execution_count": 137,
   "id": "01850b31",
   "metadata": {},
   "outputs": [
    {
     "data": {
      "text/plain": [
       "([0, 4], (0, 4))"
      ]
     },
     "execution_count": 137,
     "metadata": {},
     "output_type": "execute_result"
    }
   ],
   "source": [
    "c_find(\n",
    "    ['a','b','c','d','a'],\n",
    "    'a'\n",
    ")"
   ]
  },
  {
   "cell_type": "code",
   "execution_count": 138,
   "id": "2c4518e6",
   "metadata": {},
   "outputs": [
    {
     "data": {
      "text/plain": [
       "([], ())"
      ]
     },
     "execution_count": 138,
     "metadata": {},
     "output_type": "execute_result"
    }
   ],
   "source": [
    "c_find('apple','b')"
   ]
  },
  {
   "cell_type": "markdown",
   "id": "e5cfb719",
   "metadata": {},
   "source": [
    "#### 연습\n",
    "- 소수를 구하는 함수를 생성하시오\n",
    "    - 매개변수 : 2개 (_start (기본값 2), _end (기본값 100))\n",
    "    - 소수란?\n",
    "        - 1과 자기 자신 이외에는 나누어 떨어지지 않는 수를 의미\n",
    "            - 조건 : 2부터 시작해서 (자기자신 -1) 까지 어떤 정수로도 나누어 떨어지지 않는다.\n",
    "    - _start부터 _end까지의 수를 반복하여 소수인 데이터를 비어있는 리스트에 추가한다.\n",
    "    - 소수의 리스트와 반복 횟수를 되돌려준다."
   ]
  },
  {
   "cell_type": "code",
   "execution_count": null,
   "id": "a7e9ec0b",
   "metadata": {},
   "outputs": [],
   "source": [
    "#함수 생성 매개변수(_start, _end) 2개 기본값 설정\n",
    "def prime_list(_start=2, _end = 100):\n",
    "    #반복횟수를 1씩 증가하기 위한 초기 값 0 설정\n",
    "    cnt=0\n",
    "    # 소수가 들어갈 비어있는 리스트를 생성\n",
    "    new_list1 = []\n",
    "    # 반복문을 이용하여 _start부터 _end + 1까지 반복\n",
    "    for i in range(_start, _end + 1):\n",
    "        #2부터 자기자신의 -1까지 반복을 하는 반복문 생성\n",
    "        for j in range(2,i):\n",
    "            #반복횟수를 1씩 증가\n",
    "            cnt += 1\n",
    "            #나눠서 나머지가 0인가 체크(조건문)\n",
    "            if i % j == 0:\n",
    "                #참이라면 반복문을 종료\n",
    "                break\n",
    "        # 조건문이 거짓이라면\n",
    "        else : \n",
    "            #소수 리스트에 추가\n",
    "            new_list1.append(i)\n",
    "            #소수의리스트와 반복횟수를 되돌려준다\n",
    "    return(new_list1,cnt)\n",
    "\n",
    "            \n"
   ]
  },
  {
   "cell_type": "code",
   "execution_count": 172,
   "id": "2076a373",
   "metadata": {},
   "outputs": [
    {
     "data": {
      "text/plain": [
       "([2,\n",
       "  3,\n",
       "  5,\n",
       "  7,\n",
       "  11,\n",
       "  13,\n",
       "  17,\n",
       "  19,\n",
       "  23,\n",
       "  29,\n",
       "  31,\n",
       "  37,\n",
       "  41,\n",
       "  43,\n",
       "  47,\n",
       "  53,\n",
       "  59,\n",
       "  61,\n",
       "  67,\n",
       "  71,\n",
       "  73,\n",
       "  79,\n",
       "  83,\n",
       "  89,\n",
       "  97],\n",
       " 1133)"
      ]
     },
     "execution_count": 172,
     "metadata": {},
     "output_type": "execute_result"
    }
   ],
   "source": [
    "prime_list()"
   ]
  },
  {
   "cell_type": "code",
   "execution_count": 12,
   "id": "4952e319",
   "metadata": {},
   "outputs": [],
   "source": [
    "#함수 생성 매개변수(_start, _end) 2개 기본값 설정\n",
    "# 개선 : 소수는 2를 제외한 짝수는 포함 X\n",
    "def prime_list(_start=2, _end = 100):\n",
    "    #반복횟수를 1씩 증가하기 위한 초기 값 0 설정\n",
    "    cnt=0\n",
    "    # 소수가 들어갈 비어있는 리스트를 생성\n",
    "    # _start=2라면 result는 -> [2]\n",
    "    if _start == 2:\n",
    "        new_list = [2]\n",
    "    else :\n",
    "        new_list = []\n",
    "    # 반복문을 이용하여 _start부터 _end + 1까지 반복\n",
    "    # 짝수는 2를 제외한 나머지는 소수가 될 수 없으므로 홀수만 반복 실행\n",
    "    # _start가 짝수라면 _start + 1\n",
    "    if _start % 2 == 0:\n",
    "        _start += 1\n",
    "\n",
    "    for i in range(_start, _end + 1, 2):\n",
    "        flag =1\n",
    "        #2부터 자기자신의 -1까지 반복을 하는 반복문 생성\n",
    "        for j in range(2,i):\n",
    "            #반복횟수를 1씩 증가\n",
    "            cnt += 1\n",
    "            #나눠서 나머지가 0인가 체크(조건문)\n",
    "            if i % j == 0:\n",
    "                #참이라면 반복문을 종료\n",
    "                flag=0\n",
    "                break\n",
    "        # 조건문이 거짓이라면\n",
    "        #else : \n",
    "        if flag:\n",
    "            #소수 리스트에 추가\n",
    "            new_list.append(i)\n",
    "            #소수의리스트와 반복횟수를 되돌려준다\n",
    "    return(new_list,cnt)\n",
    "\n",
    "            \n"
   ]
  },
  {
   "cell_type": "code",
   "execution_count": 14,
   "id": "7c9a9ead",
   "metadata": {},
   "outputs": [
    {
     "data": {
      "text/plain": [
       "([2,\n",
       "  3,\n",
       "  5,\n",
       "  7,\n",
       "  11,\n",
       "  13,\n",
       "  17,\n",
       "  19,\n",
       "  23,\n",
       "  29,\n",
       "  31,\n",
       "  37,\n",
       "  41,\n",
       "  43,\n",
       "  47,\n",
       "  53,\n",
       "  59,\n",
       "  61,\n",
       "  67,\n",
       "  71,\n",
       "  73,\n",
       "  79,\n",
       "  83,\n",
       "  89,\n",
       "  97],\n",
       " 1084)"
      ]
     },
     "execution_count": 14,
     "metadata": {},
     "output_type": "execute_result"
    }
   ],
   "source": [
    "prime_list()"
   ]
  },
  {
   "cell_type": "code",
   "execution_count": 179,
   "id": "5d6e1699",
   "metadata": {},
   "outputs": [
    {
     "name": "stdout",
     "output_type": "stream",
     "text": [
      "362\n",
      "[2, 3, 5, 7, 11, 13, 17, 19, 23, 29, 31, 37, 41, 43, 47, 53, 59, 61, 67, 71, 73, 79, 83, 89, 97]\n"
     ]
    }
   ],
   "source": [
    "#개선\n",
    "#홀수를 기준으로 반복 -> 이미 찾은 소수로 나눠서 나머지가 0이라면 소수x\n",
    "cnt = 0\n",
    "result = [2]\n",
    "\n",
    "for n in range(3,101,2):\n",
    "    # 이미 찾은 소수의 데이터로 반복하여 나눠준다\n",
    "    #for i in range(2,n)을 수정\n",
    "\n",
    "    for i in result :\n",
    "        cnt += 1\n",
    "        if n % i == 0 :\n",
    "            break\n",
    "    else:\n",
    "        result.append(n)\n",
    "\n",
    "print(cnt)\n",
    "print(result)"
   ]
  },
  {
   "cell_type": "code",
   "execution_count": null,
   "id": "5ce8c2f0",
   "metadata": {},
   "outputs": [],
   "source": []
  },
  {
   "cell_type": "code",
   "execution_count": null,
   "id": "933311ea",
   "metadata": {},
   "outputs": [],
   "source": []
  }
 ],
 "metadata": {
  "kernelspec": {
   "display_name": "base",
   "language": "python",
   "name": "python3"
  },
  "language_info": {
   "codemirror_mode": {
    "name": "ipython",
    "version": 3
   },
   "file_extension": ".py",
   "mimetype": "text/x-python",
   "name": "python",
   "nbconvert_exporter": "python",
   "pygments_lexer": "ipython3",
   "version": "3.12.4"
  }
 },
 "nbformat": 4,
 "nbformat_minor": 5
}
