{
 "cells": [
  {
   "cell_type": "markdown",
   "id": "f060426d",
   "metadata": {},
   "source": [
    "### class 선언\n",
    "    - class라는 키워드를 이용해서 class를 선언\n",
    "    - class의 이름은 일반적으로 단어의 첫글자를 대문자로 표기\n",
    "\n",
    "### class 생성\n",
    "    - 선언이 된 class를 특정 공간에 저장하는 과정(변수를 생성해서 class를 대입)\n",
    "    - 생성된 class안에는 변수와 함수가 존재 ( 장점 : 같은 변수명을 사용해도 각각 저장됨 )\n",
    "    \n",
    "### class 내부의 변수, 함수를 호출\n",
    "    - class가 저장되어있는 공간(변수명) + ~안에(.) + class에 존재하는 변수( 변수명 )나 함수( 함수명() ) 를 호출\n",
    "    - ex) class.func() , str.upper(), list.append()"
   ]
  },
  {
   "cell_type": "code",
   "execution_count": 5,
   "id": "5f059962",
   "metadata": {},
   "outputs": [],
   "source": [
    "#가장 기본적인 class 선언\n",
    "class Class_1 :\n",
    "    # 생성자 함수(초기화 함수)\n",
    "    # class 내부에 함수를 생성할때는 일반적으로 매개변수 self는 기본\n",
    "    # self : 자기자신(생성되는 class 공간)\n",
    "    # __init__ 함수는 class가 생성이 될때 한번 실행이 되는 함수\n",
    "    # 따로 호출할 필요가 없음\n",
    "\n",
    "    def __init__(self, _a, _b):\n",
    "    #class 내부에서 사용할 변수들을 저장하는 기능\n",
    "    # self.a -> self(자기자신) + .(안에) + a(변수명)\n",
    "        self.a = _a\n",
    "        self.b = _b\n",
    "    # __init__이라는 함수는 class 내부에서 사용할 데이터를 저장하는 기능이기에 return을 따로 만들지 않는다\n",
    "\n",
    "    def add_value(self):\n",
    "        result = self.a + self.b\n",
    "        return result\n"
   ]
  },
  {
   "cell_type": "code",
   "execution_count": 10,
   "id": "e6095c01",
   "metadata": {},
   "outputs": [],
   "source": [
    "#class 생성\n",
    "#Class_1 을 생성 -> __init함수 호출 -> __init__ 함수를 매개변수 3개 -> 입력값 3개 -> slef에는 변수의 위치가 자동으로 입력 -> 인자는 2개만 입력해야함\n",
    "test1 = Class_1(10,7)"
   ]
  },
  {
   "cell_type": "code",
   "execution_count": 8,
   "id": "644fb7fe",
   "metadata": {},
   "outputs": [],
   "source": [
    "#self라는 매개변수는 test라는 공간이기때문에 입력값을 3개로 입력하면 1이 저장될 수 있는 공간이 존재하지 않는다 -> 에러\n",
    "#test_2 = Class_1(10,7,1)"
   ]
  },
  {
   "cell_type": "code",
   "execution_count": 9,
   "id": "13045a98",
   "metadata": {},
   "outputs": [],
   "source": [
    "test2 = Class_1(20, 4)"
   ]
  },
  {
   "cell_type": "code",
   "execution_count": 12,
   "id": "edb34aac",
   "metadata": {},
   "outputs": [
    {
     "name": "stdout",
     "output_type": "stream",
     "text": [
      "10\n",
      "20\n",
      "7\n",
      "4\n"
     ]
    }
   ],
   "source": [
    "#Class 내부에 있는 변수를 호출\n",
    "# 생성이된 클래스의 위치(변수명) + 안에(.) + 변수명\n",
    "print(test.a)\n",
    "print(test2.a)\n",
    "\n",
    "print(test1.b)\n",
    "print(test2.b)"
   ]
  },
  {
   "cell_type": "code",
   "execution_count": 13,
   "id": "0a8b91d0",
   "metadata": {},
   "outputs": [
    {
     "data": {
      "text/plain": [
       "17"
      ]
     },
     "execution_count": 13,
     "metadata": {},
     "output_type": "execute_result"
    }
   ],
   "source": [
    "#class 내부에 있는 함수를 호출\n",
    "#생성이 된 클래스의 위치(변수명) + 안에(.) + 함수()\n",
    "#add_value() 함수를 호출\n",
    "test.add_value() # 인자가 필요없음 자동기입\n"
   ]
  },
  {
   "cell_type": "code",
   "execution_count": 14,
   "id": "acc947e4",
   "metadata": {},
   "outputs": [
    {
     "data": {
      "text/plain": [
       "24"
      ]
     },
     "execution_count": 14,
     "metadata": {},
     "output_type": "execute_result"
    }
   ],
   "source": [
    "test2.add_value()"
   ]
  },
  {
   "cell_type": "code",
   "execution_count": 17,
   "id": "16c79a32",
   "metadata": {},
   "outputs": [],
   "source": [
    "# 계산기 class 선언\n",
    "class Calculate:\n",
    "\n",
    "    #생성자 함수 -> 두개의 숫자 데이터를 저장하기 위한 기능\n",
    "    # 생성자 함수는 필수 X -> 초기의 데이터를 저장하는 것이 필요없을때\n",
    "    def __init__( self, _a,_b):\n",
    "        self.a = _a\n",
    "        self.b = _b\n",
    "\n",
    "    #두개의 데이터를 더한 뒤 되돌려주는 함수\n",
    "    def add(self):\n",
    "        result = self.a + self.b\n",
    "        return result\n",
    "\n",
    "    #두개의 데이터를 뺀뒤 되돌려주는 함수\n",
    "    def sub(self):\n",
    "        result = self.a - self.b\n",
    "        return result\n",
    "    \n",
    "    #두개의 데이터를 곱한뒤 되돌려주는 함수\n",
    "    def multi(self):\n",
    "        result = self.a * self.b\n",
    "        return result\n",
    "    \n",
    "    #두개의 데이터를 나눈 뒤 되돌려주는 함수\n",
    "    def dev(self):\n",
    "        result = self.a / self.b\n",
    "        return result\n",
    "    "
   ]
  },
  {
   "cell_type": "code",
   "execution_count": 18,
   "id": "40743141",
   "metadata": {},
   "outputs": [],
   "source": [
    "cal_1 = Calculate(20,4)\n",
    "cal_2 = Calculate(5,10)"
   ]
  },
  {
   "cell_type": "code",
   "execution_count": 19,
   "id": "0e89a555",
   "metadata": {},
   "outputs": [
    {
     "name": "stdout",
     "output_type": "stream",
     "text": [
      "24 16 80 5.0\n"
     ]
    }
   ],
   "source": [
    "print(cal_1.add(), cal_1.sub(), cal_1.multi(), cal_1.dev())"
   ]
  },
  {
   "cell_type": "code",
   "execution_count": 20,
   "id": "f4d464d6",
   "metadata": {},
   "outputs": [
    {
     "name": "stdout",
     "output_type": "stream",
     "text": [
      "15 -5 50 0.5\n"
     ]
    }
   ],
   "source": [
    "print(cal_2.add(), cal_2.sub(), cal_2.multi(), cal_2.dev())  # cal_1 -> cal_2로 일괄적으로 바꾸고 싶을때:\n",
    "                                                             # alt + 바꾸고싶은 단어 선택 -> 커서 생성 -> 단어 입력"
   ]
  },
  {
   "cell_type": "code",
   "execution_count": null,
   "id": "519d5c06",
   "metadata": {},
   "outputs": [],
   "source": [
    "# cal_1, cal_2의 함수들을 호출할때 출력이 나오는 의미 -> class 내부의 데이터가 변경되지 않는다"
   ]
  },
  {
   "cell_type": "code",
   "execution_count": 45,
   "id": "74ea3b57",
   "metadata": {},
   "outputs": [],
   "source": [
    "# class 내부의 변수에 데이터를 변경하는 class 선언\n",
    "class Class_2:\n",
    "    def __init__(self, _a):\n",
    "        self.a = _a\n",
    "\n",
    "    #self.a의 연산(더하기)하는 함수 -> 매개변수 2개 추가\n",
    "    def func_1(self, _val, _inplace = False):\n",
    "        #inplace = True라면 -> self.a에 _val를 더하고 self.a를 변경\n",
    "        if _inplace:\n",
    "            #self.a = self.a + _val\n",
    "            self.a += _val\n",
    "\n",
    "        #inplace = False라면 -> self.a에 _val를 더한 데이터를 되돌려줌\n",
    "        else:\n",
    "            result = self.a + _val\n",
    "            return result\n"
   ]
  },
  {
   "cell_type": "code",
   "execution_count": 46,
   "id": "060baf84",
   "metadata": {},
   "outputs": [],
   "source": [
    "test3 = Class_2(10)"
   ]
  },
  {
   "cell_type": "code",
   "execution_count": 47,
   "id": "1fd48a97",
   "metadata": {},
   "outputs": [
    {
     "data": {
      "text/plain": [
       "15"
      ]
     },
     "execution_count": 47,
     "metadata": {},
     "output_type": "execute_result"
    }
   ],
   "source": [
    "#test3내부에 있는 func_1 함수를 호출\n",
    "#해당 함수는 매개변수 3개 -> self(test3의 위치가 자동 입력).\n",
    "#                          _val(필수입력)\n",
    "#                          inplace( 기본값이 False )\n",
    "\n",
    "test3.func_1(5)"
   ]
  },
  {
   "cell_type": "code",
   "execution_count": 30,
   "id": "f3cb1147",
   "metadata": {},
   "outputs": [
    {
     "data": {
      "text/plain": [
       "10"
      ]
     },
     "execution_count": 30,
     "metadata": {},
     "output_type": "execute_result"
    }
   ],
   "source": [
    "test3.a"
   ]
  },
  {
   "cell_type": "code",
   "execution_count": 50,
   "id": "5cf12295",
   "metadata": {},
   "outputs": [],
   "source": [
    "#func_1() 호출하는데 inplace를 True로 변경\n",
    "test3.func_1(5,_inplace = True)"
   ]
  },
  {
   "cell_type": "code",
   "execution_count": 51,
   "id": "024d016c",
   "metadata": {},
   "outputs": [
    {
     "data": {
      "text/plain": [
       "15"
      ]
     },
     "execution_count": 51,
     "metadata": {},
     "output_type": "execute_result"
    }
   ],
   "source": [
    "test3.a"
   ]
  },
  {
   "cell_type": "code",
   "execution_count": 69,
   "id": "1406cb75",
   "metadata": {},
   "outputs": [],
   "source": [
    "#class 변수\n",
    "# 같은 class를 생성하는 경우 서로 공유하는 변수\n",
    "\n",
    "class Class_3:\n",
    "    # self 변수들의 생성위치 -> 함수 안에서 생성\n",
    "    # class 변수들의 생성위치 -> 함수 밖에서 생성\n",
    "    cnt = 0\n",
    "    users = []\n",
    "\n",
    "    #유저를 등록하는 함수\n",
    "    def add_user(self, _name):\n",
    "        # 유저가 등록됨에 따라 cnt는 1씩 증가\n",
    "        Class_3.cnt += 1\n",
    "\n",
    "        # 유저의 이름은 users에 추가\n",
    "        Class_3.users.append(_name)"
   ]
  },
  {
   "cell_type": "code",
   "execution_count": 71,
   "id": "fee9756f",
   "metadata": {},
   "outputs": [],
   "source": [
    "user1 = Class_3()\n",
    "user2 = Class_3()"
   ]
  },
  {
   "cell_type": "code",
   "execution_count": 72,
   "id": "9771be2a",
   "metadata": {},
   "outputs": [],
   "source": [
    "#user1에 add_user() 함수를 호출\n",
    "\n",
    "user1.add_user('kim')\n"
   ]
  },
  {
   "cell_type": "code",
   "execution_count": 73,
   "id": "030aedd2",
   "metadata": {},
   "outputs": [],
   "source": [
    "user2.add_user('park')"
   ]
  },
  {
   "cell_type": "code",
   "execution_count": 74,
   "id": "f1d1e396",
   "metadata": {},
   "outputs": [
    {
     "name": "stdout",
     "output_type": "stream",
     "text": [
      "2 ['kim', 'park']\n",
      "2 ['kim', 'park']\n"
     ]
    }
   ],
   "source": [
    "print(user1.cnt, user1.users)\n",
    "print(user2.cnt, user2.users)\n"
   ]
  },
  {
   "cell_type": "code",
   "execution_count": null,
   "id": "7e562077",
   "metadata": {},
   "outputs": [],
   "source": []
  }
 ],
 "metadata": {
  "kernelspec": {
   "display_name": "Python 3",
   "language": "python",
   "name": "python3"
  },
  "language_info": {
   "codemirror_mode": {
    "name": "ipython",
    "version": 3
   },
   "file_extension": ".py",
   "mimetype": "text/x-python",
   "name": "python",
   "nbconvert_exporter": "python",
   "pygments_lexer": "ipython3",
   "version": "3.13.7"
  }
 },
 "nbformat": 4,
 "nbformat_minor": 5
}
