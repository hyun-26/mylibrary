{
 "cells": [
  {
   "cell_type": "code",
   "execution_count": 1,
   "id": "d7440056",
   "metadata": {},
   "outputs": [],
   "source": [
    "a = 10"
   ]
  },
  {
   "cell_type": "code",
   "execution_count": 4,
   "id": "3bdc5d07",
   "metadata": {},
   "outputs": [],
   "source": [
    "# 변수 생성\n",
    "# 변수명 = 데이터\n",
    "a = 'test'\n",
    "b = 10\n",
    "#변수에 데이터를 대입 -> 출력 x\n"
   ]
  },
  {
   "cell_type": "code",
   "execution_count": null,
   "id": "ba57da65",
   "metadata": {},
   "outputs": [
    {
     "data": {
      "text/plain": [
       "'test'"
      ]
     },
     "execution_count": 5,
     "metadata": {},
     "output_type": "execute_result"
    }
   ],
   "source": [
    "a\n",
    "# 출력이 나오는 것은 -> 메모리의 데이터의 변화 X"
   ]
  },
  {
   "cell_type": "code",
   "execution_count": 6,
   "id": "e405a74e",
   "metadata": {},
   "outputs": [
    {
     "name": "stdout",
     "output_type": "stream",
     "text": [
      "test\n"
     ]
    }
   ],
   "source": [
    "print(a)"
   ]
  },
  {
   "cell_type": "code",
   "execution_count": 1,
   "id": "ba926720",
   "metadata": {},
   "outputs": [
    {
     "name": "stdout",
     "output_type": "stream",
     "text": [
      "13\n",
      "7\n",
      "30\n",
      "3.3333333333333335\n",
      "3\n",
      "1\n",
      "1000\n"
     ]
    }
   ],
   "source": [
    "# 산술연산자\n",
    "x = 10\n",
    "y = 3\n",
    "\n",
    "#사칙연산\n",
    "print(x+y) #13\n",
    "print(x-y) #7\n",
    "print(x*y) #30\n",
    "print(x/y) #3.3333333333333....\n",
    "# 나눈 값의 몫\n",
    "print(x//y) #3\n",
    "# 나눈 값의 나머지\n",
    "print(x % y) # 1\n",
    "#지수 승\n",
    "print(x ** y) #1000"
   ]
  },
  {
   "cell_type": "code",
   "execution_count": null,
   "id": "ecbef3aa",
   "metadata": {},
   "outputs": [],
   "source": [
    "# 대입연산자\n",
    "# 산술연산자 + 대입연산자(=)\n",
    "x+=3\n",
    "# x = x+3 여기서 x=10에서 13으로 바뀌고 기존 10 값은 사라짐\n",
    "# x에 3을 더해서 x에 저장한다\n"
   ]
  },
  {
   "cell_type": "code",
   "execution_count": null,
   "id": "a28d667f",
   "metadata": {},
   "outputs": [
    {
     "data": {
      "text/plain": [
       "16"
      ]
     },
     "execution_count": 9,
     "metadata": {},
     "output_type": "execute_result"
    }
   ],
   "source": [
    "x+3 #x 값은 13, +3 하면 출력값은 16"
   ]
  },
  {
   "cell_type": "code",
   "execution_count": null,
   "id": "cec689a9",
   "metadata": {},
   "outputs": [
    {
     "data": {
      "text/plain": [
       "13"
      ]
     },
     "execution_count": 10,
     "metadata": {},
     "output_type": "execute_result"
    }
   ],
   "source": [
    "x #여전히 x값은 13 ,16이라는 값을  x에 저장(대입)한 것은 아니기때문에"
   ]
  },
  {
   "cell_type": "code",
   "execution_count": 13,
   "id": "4e69734a",
   "metadata": {},
   "outputs": [],
   "source": [
    "x -= 2 #x가 13인 상태에서 실행, x는 11로 저장\n",
    "x *= 5 #x가 11인상태에서 실행, x가 55로 저장"
   ]
  },
  {
   "cell_type": "code",
   "execution_count": 14,
   "id": "50212526",
   "metadata": {},
   "outputs": [
    {
     "data": {
      "text/plain": [
       "265"
      ]
     },
     "execution_count": 14,
     "metadata": {},
     "output_type": "execute_result"
    }
   ],
   "source": [
    "x"
   ]
  },
  {
   "cell_type": "code",
   "execution_count": null,
   "id": "4af4db31",
   "metadata": {},
   "outputs": [
    {
     "name": "stdout",
     "output_type": "stream",
     "text": [
      "False\n",
      "True\n",
      "False\n"
     ]
    }
   ],
   "source": [
    "# 비교연산자 -> 결과 참 / 거짓\n",
    "data_1 = 100\n",
    "data_2 = 95\n",
    "print(data_1 == data_2) #100과 95가 같은가? -> 거짓\n",
    "print(data_1 != data_2) #100과 95가 다른가? -> 참\n",
    "data_3 = 'A'\n",
    "data_4 = 'a' \n",
    "print(data_3 == data_4) # 대문자 A 소문자 a가 다르다는 것은 무조건 기억"
   ]
  },
  {
   "cell_type": "code",
   "execution_count": 16,
   "id": "32498a79",
   "metadata": {},
   "outputs": [],
   "source": [
    "# 문자의 산술연산자 사용\n",
    "text_1 = 'test'\n",
    "text_2 = '10'\n",
    "text_3 = '20'"
   ]
  },
  {
   "cell_type": "code",
   "execution_count": 17,
   "id": "3b1200d1",
   "metadata": {},
   "outputs": [
    {
     "data": {
      "text/plain": [
       "'test10'"
      ]
     },
     "execution_count": 17,
     "metadata": {},
     "output_type": "execute_result"
    }
   ],
   "source": [
    "text_1 + text_2"
   ]
  },
  {
   "cell_type": "code",
   "execution_count": 19,
   "id": "3f238363",
   "metadata": {},
   "outputs": [
    {
     "data": {
      "text/plain": [
       "-10"
      ]
     },
     "execution_count": 19,
     "metadata": {},
     "output_type": "execute_result"
    }
   ],
   "source": [
    "#text_2 - text_3 -> 에러코드\n",
    " #문자에서는 -가 실행이되지 않는다\n",
    "#문자를 숫자형태로 변환하고 연산자를 사용해야함\n",
    "#int(str) : 문자데이터를 정수형 데이터로 변환하는 과정\n",
    "int(text_2) - int(text_3)\n"
   ]
  },
  {
   "cell_type": "code",
   "execution_count": 20,
   "id": "98cbfc39",
   "metadata": {},
   "outputs": [
    {
     "name": "stdout",
     "output_type": "stream",
     "text": [
      "a가 10보다 작다\n"
     ]
    }
   ],
   "source": [
    "# if 조건문\n",
    "# 참인 경우 실행하는 코드와 거짓인 경우 실행하는 코드를 작성 \n",
    "# 참 아니면 거짓인 경우의 코드 하나만 실행\n",
    "# if 뒤에 조건식 (bool의 형태 데이터) : \n",
    "#   실행할 코드(들여쓰기)\n",
    "# else:\n",
    "#   조건식이 거짓인 경우 실행할 코드(들여쓰기)\n",
    "a=5\n",
    "if a<10:\n",
    "    #a가 10보다 작은 경우 실행이 되는 부분\n",
    "    print(\"a가 10보다 작다\")\n",
    "else:\n",
    "    # a가 10보다 크거나 같은 경우 실행이 되는 부분\n",
    "    print(\"a는 10보다 크거나 같다\")"
   ]
  },
  {
   "cell_type": "code",
   "execution_count": 21,
   "id": "59c81791",
   "metadata": {},
   "outputs": [
    {
     "name": "stdout",
     "output_type": "stream",
     "text": [
      "a는 10보다 크거나 같다\n"
     ]
    }
   ],
   "source": [
    "a=11\n",
    "if a<10:\n",
    "    #a가 10보다 작은 경우 실행이 되는 부분\n",
    "    print(\"a가 10보다 작다\")\n",
    "else:\n",
    "    # a가 10보다 크거나 같은 경우 실행이 되는 부분\n",
    "    print(\"a는 10보다 크거나 같다\")"
   ]
  },
  {
   "cell_type": "code",
   "execution_count": null,
   "id": "27ca6064",
   "metadata": {},
   "outputs": [
    {
     "name": "stdout",
     "output_type": "stream",
     "text": [
      "A\n"
     ]
    }
   ],
   "source": [
    "# 조건식이 여러개인 경우\n",
    "score = int(\n",
    "    # input() : 실행할때마다 데이터를 입력하는 창이 생성되고 입력값을 받아온다 -> 문자\n",
    "    input(\"점수를 입력하시오: \")\n",
    ")\n",
    "\n",
    "#print(score)\n",
    "#score에 따라서 학점 출력\n",
    "#A : score가 90점 이상인 경우\n",
    "if score >= 90:\n",
    "    print('A')\n",
    "#B : score가 90점 미만 80점 이상인 경우\n",
    "if (score < 90) and (score >= 80) :\n",
    "    print('B')\n",
    "#C : score가 80점미만 70점 이상인 경우\n",
    "if (score < 80) and (score >= 70) :\n",
    "    print('C')\n",
    "#F : score가 70점 미만\n",
    "if (score <70) :\n",
    "    print('F')\n",
    "\n",
    "#else가 없고 if 조건식을 다 따로 썼기때문에 6개의 조건식을 모두 따져서 참인 식을 따짐, 가장 비효율적인 코드"
   ]
  },
  {
   "cell_type": "code",
   "execution_count": null,
   "id": "1da79171",
   "metadata": {},
   "outputs": [
    {
     "name": "stdout",
     "output_type": "stream",
     "text": [
      "A\n"
     ]
    }
   ],
   "source": [
    "if score >= 90 :\n",
    "    #score가 90점 이상\n",
    "    print('A')\n",
    "else:\n",
    "    #score가 90점 미만\n",
    "    if score >=80:\n",
    "        #score가 90점 미만이고 80점 이상인 경우\n",
    "        print('B')\n",
    "    else:\n",
    "        #score가 80점 미만\n",
    "        if score >= 70:\n",
    "            #score가 80점 미만 70점 이상\n",
    "            print('C')\n",
    "        else:\n",
    "            print('F')\n",
    "\n",
    "# 위의 코드와 차이점이 크지않음\n"
   ]
  },
  {
   "cell_type": "code",
   "execution_count": null,
   "id": "fee0d2a3",
   "metadata": {},
   "outputs": [
    {
     "name": "stdout",
     "output_type": "stream",
     "text": [
      "A\n"
     ]
    }
   ],
   "source": [
    "# if ~ elif ~ else문\n",
    "if score >=90:\n",
    "    print('A')\n",
    "elif score >=80:\n",
    "    #score가 90점 미만이고 score가 80점 이상인경우\n",
    "    print('B')\n",
    "elif score >= 70:\n",
    "    #score가 80점 미만이고 score가 70점 이상인경우\n",
    "    print('C')\n",
    "else:\n",
    "    print('F')\n",
    "\n"
   ]
  },
  {
   "cell_type": "code",
   "execution_count": null,
   "id": "3dec4629",
   "metadata": {},
   "outputs": [
    {
     "name": "stdout",
     "output_type": "stream",
     "text": [
      "[1, 2, 3, 4, 5, 6, 7, 8, 9]\n"
     ]
    }
   ],
   "source": [
    "#반복문\n",
    "#for문\n",
    "#for문 기본형태 -> for 변수명 in range(시작값,종료값,증가값)\n",
    "#range() -> 시작값부터 시작해서 증가값만큼 증가시키면서 \n",
    "#           종료값에서 종료해서 여러개의 데이터를 생성하는 기능(종료값은 포함 X)\n",
    "\n",
    "print(\n",
    "    list(range(1, 10, 1))\n",
    ")\n"
   ]
  },
  {
   "cell_type": "code",
   "execution_count": 32,
   "id": "9d580970",
   "metadata": {},
   "outputs": [
    {
     "name": "stdout",
     "output_type": "stream",
     "text": [
      "[1, 3, 5, 7, 9]\n"
     ]
    }
   ],
   "source": [
    "print(\n",
    "    list(range(1, 10, 2))\n",
    ")"
   ]
  },
  {
   "cell_type": "code",
   "execution_count": 33,
   "id": "b19cf819",
   "metadata": {},
   "outputs": [
    {
     "name": "stdout",
     "output_type": "stream",
     "text": [
      "1\n",
      "2\n",
      "3\n",
      "4\n"
     ]
    }
   ],
   "source": [
    "for i in range(1, 5, 1):\n",
    "    #1부터 4까지 i에 대입 : 4번 반복\n",
    "    print(i)"
   ]
  },
  {
   "cell_type": "code",
   "execution_count": null,
   "id": "168d1f87",
   "metadata": {},
   "outputs": [],
   "source": [
    "#range() : 시작값은 0이 기본값, 증가값은 1이 기본값\n",
    "# 320번 반복하는 반복문을 생성\n",
    "# for i in range(320)"
   ]
  },
  {
   "cell_type": "code",
   "execution_count": 34,
   "id": "16ba827d",
   "metadata": {},
   "outputs": [
    {
     "data": {
      "text/plain": [
       "55"
      ]
     },
     "execution_count": 34,
     "metadata": {},
     "output_type": "execute_result"
    }
   ],
   "source": [
    "#1부터 10까지의 합계\n",
    "1+2+3+4+5+6+7+8+9+10"
   ]
  },
  {
   "cell_type": "code",
   "execution_count": null,
   "id": "12a10b52",
   "metadata": {},
   "outputs": [
    {
     "name": "stdout",
     "output_type": "stream",
     "text": [
      "55\n"
     ]
    }
   ],
   "source": [
    "#특정공간(변수를 생성)에 초기값(0)을 지정하고 \n",
    "result = 0\n",
    "# 1부터 10까지의 데이터를 반복하여 초기값에 누적합\n",
    "for i in range (1,11,1):\n",
    "    #i에는 1부터 10까지의 데이터가 1씩 증가하면서 대입\n",
    "    #i를 result와 더하고 결과를 result에 대입\n",
    "    #result = result + i\n",
    "    result += i\n",
    "\n",
    "print(result)"
   ]
  },
  {
   "cell_type": "code",
   "execution_count": 41,
   "id": "7e3000ee",
   "metadata": {},
   "outputs": [
    {
     "name": "stdout",
     "output_type": "stream",
     "text": [
      "55\n"
     ]
    }
   ],
   "source": [
    "#특정공간(변수를 생성)에 초기값(0)을 지정하고 \n",
    "result = 0\n",
    "# 1부터 10까지의 데이터를 반복하여 초기값에 누적합\n",
    "for i in range (1,11,1):\n",
    "    #i에는 1부터 10까지의 데이터가 1씩 증가하면서 대입\n",
    "    #i를 result와 더하고 결과를 result에 대입\n",
    "    #result = result + i\n",
    "    result += i\n",
    "\n",
    "print(result)"
   ]
  },
  {
   "cell_type": "code",
   "execution_count": 42,
   "id": "0b7649ce",
   "metadata": {},
   "outputs": [
    {
     "name": "stdout",
     "output_type": "stream",
     "text": [
      "55\n"
     ]
    }
   ],
   "source": [
    "result = 0\n",
    "\n",
    "for i in range(10):\n",
    "    #i는 0부터 9까지 1씩 증가시키면서 대입\n",
    "    result = result + (i + 1)\n",
    "print(result)"
   ]
  },
  {
   "cell_type": "code",
   "execution_count": 43,
   "id": "f2d9737a",
   "metadata": {},
   "outputs": [
    {
     "name": "stdout",
     "output_type": "stream",
     "text": [
      "45\n"
     ]
    }
   ],
   "source": [
    "result = 0\n",
    "\n",
    "for i in range(10):\n",
    "    #i는 0부터 9까지 1씩 증가시키면서 대입\n",
    "    result = result + i\n",
    "print(result)"
   ]
  },
  {
   "cell_type": "code",
   "execution_count": 44,
   "id": "d3eb4f1c",
   "metadata": {},
   "outputs": [
    {
     "name": "stdout",
     "output_type": "stream",
     "text": [
      "1\n",
      "2\n",
      "3\n",
      "4\n",
      "5\n",
      "6\n",
      "7\n",
      "8\n",
      "9\n",
      "10\n"
     ]
    }
   ],
   "source": [
    "#while문\n",
    "#초기값 지정 (시작값을 지정)\n",
    "\n",
    "i = 1\n",
    "while i <= 10 :\n",
    "    #i가 10보다 작거나 같은 경우에는 반복 실행\n",
    "    print(i)\n",
    "    # i의 값이 거짓이 될 수 있는 코드 작성해줘야함(조건식이 10보다 큰 경우가 거짓), 아니면 무한반복(?)\n",
    "    # i의 값을 증가\n",
    "    i = i+1"
   ]
  },
  {
   "cell_type": "code",
   "execution_count": null,
   "id": "124887ae",
   "metadata": {},
   "outputs": [
    {
     "name": "stdout",
     "output_type": "stream",
     "text": [
      "55\n"
     ]
    }
   ],
   "source": [
    "#while문을 이용하여 1부터 10까지의 합계 구하기\n",
    "i = 1\n",
    "result = 0 \n",
    "\n",
    "while i <= 10:\n",
    "    # result에 i를 더하고 result에 결과를 대입\n",
    "    #첫번째 반복 : i(1), result(0) -> result = 0 + 1 -> result(1), i(1)\n",
    "    #두번째 반복 : i(2), result(1) -> result = 1 + 2 -> result(3), i(2)\n",
    "    result += i\n",
    "    #i에 1을 더하고 i에 대입\n",
    "    #첫번째 반복 : i(1) -> i = 1 + 1 -> i(2)\n",
    "    #두번째 반복 : i(2) -> i = 2 + 1 -> i(3)\n",
    "    i += 1\n",
    "    #반복 실행되는 코드가 없으므로 while문으로 되돌아간다.\n",
    "\n",
    "print(result)"
   ]
  },
  {
   "cell_type": "code",
   "execution_count": null,
   "id": "c3ab6677",
   "metadata": {},
   "outputs": [],
   "source": []
  },
  {
   "cell_type": "code",
   "execution_count": null,
   "id": "ab1e773b",
   "metadata": {},
   "outputs": [
    {
     "name": "stdout",
     "output_type": "stream",
     "text": [
      "65\n"
     ]
    }
   ],
   "source": [
    "result = 0\n",
    "i = 1\n",
    "\n",
    "while i <= 10:\n",
    "    # 위 코드와 순서가 다름\n",
    "    #첫번째 반복 : i(1) -> i = i + 1 -> i(2)\n",
    "    i +=1 \n",
    "    #첫번째 반복 : i(2), result(0) -> result = 0 + 2 -> result(2)\n",
    "    result += i\n",
    "\n",
    "print(result)"
   ]
  },
  {
   "cell_type": "code",
   "execution_count": 48,
   "id": "29fcc540",
   "metadata": {},
   "outputs": [
    {
     "name": "stdout",
     "output_type": "stream",
     "text": [
      "0\n",
      "반복문 종료\n"
     ]
    }
   ],
   "source": [
    "# break문 -> 반복문을 강제로 종료\n",
    "\n",
    "for i in range(10000):\n",
    "    print(i)\n",
    "    break\n",
    "\n",
    "print(\"반복문 종료\")"
   ]
  },
  {
   "cell_type": "code",
   "execution_count": null,
   "id": "15a7bc8f",
   "metadata": {},
   "outputs": [
    {
     "name": "stdout",
     "output_type": "stream",
     "text": [
      "7021\n",
      "118\n"
     ]
    }
   ],
   "source": [
    "#반복문 안에서 조건식을 이용하여 break를 이용\n",
    "# 1부터 시작해서 1씩 증가시킨 데이터를 누적합하였을때\n",
    "# 누적합의 값이 7000이 넘어가는 시점은 언제인가? 이 결과를 확인하기위해서 가장 간단한 것 부터 하나씩 확인하면서 결과 도출하는 연습 필요\n",
    "# -> result가 7000이상이되는 조건식 생성\n",
    "# case 1 (for문)\n",
    "# 누적합을 해줄 공간을 생성\n",
    "result = 0\n",
    "\n",
    "#1 공간에 넣느냐, #2 공간에 넣느냐에 따라 i가 몇인지 달라짐\n",
    "for i in range(1, 1000, 1):\n",
    "    #1\n",
    "    #if result >7000 :\n",
    "        #반복문을 종료\n",
    "        #break\n",
    "    #i를 result에 누적합을 해준다.\n",
    "    result += i\n",
    "    #2\n",
    "    if result >7000 :\n",
    "        #반복문을 종료\n",
    "        break\n",
    "\n",
    "print(result)\n",
    "#어디까지 더한건지 알고싶을때 i의 값 확인하면됌\n",
    "print(i)\n"
   ]
  },
  {
   "cell_type": "code",
   "execution_count": 56,
   "id": "d01fbadb",
   "metadata": {},
   "outputs": [
    {
     "name": "stdout",
     "output_type": "stream",
     "text": [
      "7021\n"
     ]
    }
   ],
   "source": [
    "result = 0\n",
    "for i in range(1, 119, 1):\n",
    "    result += i\n",
    "\n",
    "print(result)\n",
    "#1~118까지의 누적합"
   ]
  },
  {
   "cell_type": "code",
   "execution_count": 58,
   "id": "ff3632e2",
   "metadata": {},
   "outputs": [
    {
     "name": "stdout",
     "output_type": "stream",
     "text": [
      "7021\n",
      "118\n"
     ]
    }
   ],
   "source": [
    "result = 0\n",
    "\n",
    "#1 공간에 넣느냐, #2 공간에 넣느냐에 따라 i가 몇인지 달라짐\n",
    "for i in range(1, 1000, 1):\n",
    "    #118번째 반복 \n",
    "        #1에 조건식이 존재하는 경우 : result가 아직 7000미만 -> break 실행X\n",
    "        # i(118), result(6903) -> result = 6903 +118 -> result(7021)\n",
    "        #2에 조건식이 존재하는 경우 : result가 7000이상 -> break 실행 O\n",
    "    #119번째 반복:\n",
    "        #1에 조건식이 존재하는 경우 : result가 아직 7000미만 -> break 실행 O -> i(119), result(7021)\n",
    "        #2에 조건식이 존재하는 경우 : 해당 반복은 실행이 되지 않음, 이미 118번째 실행이 종료되었기 때문에\n",
    "\n",
    "\n",
    "    #1\n",
    "    #if result >7000 :\n",
    "        #반복문을 종료\n",
    "        #break\n",
    "    #i를 result에 누적합을 해준다.\n",
    "    result += i\n",
    "    #2\n",
    "    if result >7000 :\n",
    "        #반복문을 종료\n",
    "        break\n",
    "\n",
    "print(result)\n",
    "#어디까지 더한건지 알고싶을때 i의 값 확인하면됌\n",
    "print(i)"
   ]
  },
  {
   "cell_type": "code",
   "execution_count": null,
   "id": "7a52ba29",
   "metadata": {},
   "outputs": [
    {
     "name": "stdout",
     "output_type": "stream",
     "text": [
      "8515\n",
      "131\n"
     ]
    }
   ],
   "source": [
    "#시작값 지정\n",
    "i=1 \n",
    "#누적합의 초기 값을 지정\n",
    "result = 0\n",
    "#while 조건식 (반복횟수가 명확하지 않을때 -> 무한 반복)\n",
    "while True:\n",
    "#while조건식(누적합이 8400이상인 경우 반복문을 종료)\n",
    "\n",
    "while result <= 8400 :\n",
    "    #시작값을 누적합에 더하고 대입\n",
    "    result += i\n",
    "    #시작값을 증가\n",
    "    i += 1    \n",
    "\n",
    "#시작값과 누적합의 값을 출력\n",
    "print(result)\n",
    "print(i)"
   ]
  },
  {
   "cell_type": "code",
   "execution_count": 67,
   "id": "477de79e",
   "metadata": {},
   "outputs": [
    {
     "name": "stdout",
     "output_type": "stream",
     "text": [
      "130 8515\n"
     ]
    }
   ],
   "source": [
    "#시작값 지정\n",
    "i=1 \n",
    "#누적합의 초기 값을 지정\n",
    "result = 0\n",
    "#while 조건식 (반복횟수가 명확하지 않을때 -> 무한 반복)\n",
    "while True:\n",
    "#while조건식(누적합이 8400이상인 경우 반복문을 종료)\n",
    "    #1 위치 (반복 횟수 : 130번)\n",
    "    # i(131) -> 조건식이 참 -> break가 실행 -> result는 1부터 130까지 더해진 값\n",
    "\n",
    "    #시작값을 누적합에 더하고 대입\n",
    "    result += i\n",
    "\n",
    "    #2 위치 (반복 횟수 : 129번) (정답)\n",
    "    # i(130) -> 조건식이 참 -> break가 실행 -> result는 1부터 130까지 더해진 값\n",
    "    if result >= 8400:\n",
    "        break\n",
    "\n",
    "    #시작값을 증가\n",
    "    i += 1 \n",
    "\n",
    "    #3 위치 (반복 횟수 : 129번)\n",
    "    # i(130) -> result에 130 누적합 -> i를 1증가 -> 조건식이 참 -> break가 실행 -> result는 1부터 130까지 더해진 값\n",
    "\n",
    "#시작값과 누적합의 값을 출력\n",
    "print(i, result)"
   ]
  },
  {
   "cell_type": "code",
   "execution_count": 69,
   "id": "30e52658",
   "metadata": {},
   "outputs": [
    {
     "name": "stdout",
     "output_type": "stream",
     "text": [
      "0\n",
      "1\n",
      "2\n",
      "3\n",
      "4\n",
      "5\n",
      "6\n",
      "7\n",
      "8\n",
      "9\n"
     ]
    }
   ],
   "source": [
    "#continue : 반복문으로 되돌아간다 (반복실행할 코드가 끝나면 같은 행동)\n",
    "\n",
    "for i in range(10):\n",
    "\n",
    "    print(i)\n",
    "    continue"
   ]
  },
  {
   "cell_type": "code",
   "execution_count": null,
   "id": "0b821576",
   "metadata": {},
   "outputs": [],
   "source": [
    "for i in range(10):\n",
    "    continue #continue가 실행이 되면 밑의 반복 실행되는 코드 무시하고 반복문으로 돌아간다. 반복 횟수는 증가\n",
    "    print(i)\n",
    "    "
   ]
  },
  {
   "cell_type": "code",
   "execution_count": 71,
   "id": "de986ddc",
   "metadata": {},
   "outputs": [
    {
     "name": "stdout",
     "output_type": "stream",
     "text": [
      "9\n"
     ]
    }
   ],
   "source": [
    "for i in range(10):\n",
    "\n",
    "    continue\n",
    "print(i)"
   ]
  },
  {
   "cell_type": "code",
   "execution_count": 72,
   "id": "98b5857a",
   "metadata": {},
   "outputs": [
    {
     "name": "stdout",
     "output_type": "stream",
     "text": [
      "5050\n"
     ]
    }
   ],
   "source": [
    "#1부터 100까지 누적합 -> 5050\n",
    "result = 0\n",
    "for i in range(1,101,1):\n",
    "    result += i\n",
    "\n",
    "print(result)"
   ]
  },
  {
   "cell_type": "code",
   "execution_count": 80,
   "id": "7a621b0a",
   "metadata": {},
   "outputs": [
    {
     "name": "stdout",
     "output_type": "stream",
     "text": [
      "2550\n"
     ]
    }
   ],
   "source": [
    "result = 0\n",
    "\n",
    "for i in range(2,101,2):\n",
    "    result += i\n",
    "\n",
    "print(result)"
   ]
  },
  {
   "cell_type": "code",
   "execution_count": null,
   "id": "05ddc32c",
   "metadata": {},
   "outputs": [
    {
     "name": "stdout",
     "output_type": "stream",
     "text": [
      "2550\n"
     ]
    }
   ],
   "source": [
    "#1부터 100까지 누적합 -> 5050\n",
    "#1부터 100까지 짝수의 누적합\n",
    "result = 0\n",
    "\n",
    "for i in range(1,101,1):\n",
    "    # 조건식 짝수 이용\n",
    "    if (i % 2 == 0): # == 연산자인 이유? \n",
    "\n",
    "        result += i\n",
    "\n",
    "\n",
    "print(result)"
   ]
  },
  {
   "cell_type": "code",
   "execution_count": null,
   "id": "4c43dea3",
   "metadata": {},
   "outputs": [
    {
     "name": "stdout",
     "output_type": "stream",
     "text": [
      "2550\n"
     ]
    }
   ],
   "source": [
    "#1부터 100까지 누적합 -> 5050\n",
    "#1부터 100까지 짝수의 누적합\n",
    "result = 0\n",
    "\n",
    "for i in range(1,101,1):\n",
    "    # 조건식 홀수 이용\n",
    "    if (i % 2 == 1): \n",
    "        continue #조건식이 홀수이기때문에 반복문으로 돌아간다.\n",
    "    #else : continue가 있기 때문에 굳이 안써도 됌\n",
    "        result += i\n",
    "\n",
    "\n",
    "print(result)"
   ]
  }
 ],
 "metadata": {
  "kernelspec": {
   "display_name": "base",
   "language": "python",
   "name": "python3"
  },
  "language_info": {
   "codemirror_mode": {
    "name": "ipython",
    "version": 3
   },
   "file_extension": ".py",
   "mimetype": "text/x-python",
   "name": "python",
   "nbconvert_exporter": "python",
   "pygments_lexer": "ipython3",
   "version": "3.12.4"
  }
 },
 "nbformat": 4,
 "nbformat_minor": 5
}
