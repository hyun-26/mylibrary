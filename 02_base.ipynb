{
 "cells": [
  {
   "cell_type": "markdown",
   "id": "4be5ede9",
   "metadata": {},
   "source": [
    "### 자료형 데이터\n",
    "- 여러개의 데이터를 하나의 변수에 저장시키기 위한 형태\n",
    "\n",
    "- 자료형 데이터 중에 가장 기본적인 형태\n",
    "- ()를 이용해서 데이터를 생성\n",
    "- 한번 생성이 되면 수정이 불가능 (새로운 tuple을 생성)\n",
    "\n",
    "- list\n",
    "    - []를 이용하여 데이터를 생성\n",
    "    -tuple과는 다르게 각 원소들을 수정하거나 삭제, 추가 작업이 가능(리스트의 내부 함수를 이용)\n",
    "    -원소의 개수를 0개부터 생성이 가능(비어있는 리스트가 생성 -> 여러개의 데이터를 하나의 변수에 담을 준비 과정)\n",
    "\n",
    "- dict\n",
    "    - {}를 이용하여 데이터를 생성\n",
    "    - key : value의 형태로 데이터가 구성(list에서는 위치를 기준으로 데이터를 추출한다면 dict는 key를 기준으로 데이터를 추출)\n",
    "    - 원소의 개수는 0부터 생성이 가능"
   ]
  },
  {
   "cell_type": "code",
   "execution_count": 1,
   "id": "a8d1a5ff",
   "metadata": {},
   "outputs": [
    {
     "name": "stdout",
     "output_type": "stream",
     "text": [
      "(1, 'Hello')\n",
      "(3, 3.14)\n",
      "<class 'tuple'>\n"
     ]
    }
   ],
   "source": [
    "# tuple 데이터 생성\n",
    "# 원소마다 타입이 달라도 생성이 가능\n",
    "\n",
    "tuple_a = (1, 'Hello')\n",
    "tuple_b = (3,3.14)\n",
    "print(tuple_a)\n",
    "print(tuple_b)\n",
    "print(type(tuple_a))"
   ]
  },
  {
   "cell_type": "code",
   "execution_count": 3,
   "id": "f69bd37d",
   "metadata": {},
   "outputs": [
    {
     "name": "stdout",
     "output_type": "stream",
     "text": [
      "1\n",
      "3.14\n"
     ]
    }
   ],
   "source": [
    "# tuple에서 특정 위치의 데이터를 추출 (index 값은 0부터 시작)\n",
    "print(tuple_a[0]) #1\n",
    "print(tuple_b[1]) #3.14"
   ]
  },
  {
   "cell_type": "code",
   "execution_count": 4,
   "id": "6fcc407c",
   "metadata": {},
   "outputs": [
    {
     "data": {
      "text/plain": [
       "(1, 'Hello', 3, 3.14)"
      ]
     },
     "execution_count": 4,
     "metadata": {},
     "output_type": "execute_result"
    }
   ],
   "source": [
    "#tuple끼리의 합 -> 문자의 합과 같은 결과 -> 새로운 튜플이 생성\n",
    "tuple_a + tuple_b"
   ]
  },
  {
   "cell_type": "code",
   "execution_count": 7,
   "id": "97d40c33",
   "metadata": {},
   "outputs": [],
   "source": [
    "#tuple이랑 숫자의 합? -> 에러가 발생 -> tuple과 숫자데이터는 합이 불가능\n",
    "#tuple_b + 1\n",
    "\n"
   ]
  },
  {
   "cell_type": "code",
   "execution_count": 20,
   "id": "655bf7b9",
   "metadata": {},
   "outputs": [],
   "source": [
    "#list 형태의 데이터\n",
    "\n",
    "list_a = [30,20,50,10]\n",
    "list_b = ['abc','fi','be']"
   ]
  },
  {
   "cell_type": "code",
   "execution_count": 21,
   "id": "19ce3adf",
   "metadata": {},
   "outputs": [],
   "source": [
    "#list의 함수 중 정렬을 변경하는 함수를 사용\n",
    "#sort() : 기본적으로는 리스트의 원소들을 오름차순 정렬로 변경\n",
    "#reverse() : 리스트의 원소들을 역순으로 변경\n",
    "# 위의 2개 함수들은 list값이 변경 -> print() 함수를 이용하지않으면 출력 X\n",
    "\n",
    "list_a.sort()"
   ]
  },
  {
   "cell_type": "code",
   "execution_count": 22,
   "id": "6c34a842",
   "metadata": {},
   "outputs": [
    {
     "data": {
      "text/plain": [
       "[10, 20, 30, 50]"
      ]
     },
     "execution_count": 22,
     "metadata": {},
     "output_type": "execute_result"
    }
   ],
   "source": [
    "list_a"
   ]
  },
  {
   "cell_type": "code",
   "execution_count": 23,
   "id": "2efc7229",
   "metadata": {},
   "outputs": [],
   "source": [
    "# 내림차순 정렬? -> \n",
    "# 1. 오름차순 정렬 -> 순서를 역순으로 변경\n",
    "list_b.sort()\n",
    "list_b.reverse()"
   ]
  },
  {
   "cell_type": "code",
   "execution_count": 24,
   "id": "ff25b038",
   "metadata": {},
   "outputs": [
    {
     "data": {
      "text/plain": [
       "['fi', 'be', 'abc']"
      ]
     },
     "execution_count": 24,
     "metadata": {},
     "output_type": "execute_result"
    }
   ],
   "source": [
    "list_b"
   ]
  },
  {
   "cell_type": "code",
   "execution_count": 25,
   "id": "f9105f5a",
   "metadata": {},
   "outputs": [],
   "source": [
    "# sort() : 매개변수 reverse 존재 (기본값이 False - > 오름차순 정렬)\n",
    "#          reverse의 값을 True로 변경하면 내림차순 정렬\n",
    "list_a.sort(reverse=True)"
   ]
  },
  {
   "cell_type": "code",
   "execution_count": 26,
   "id": "b6176100",
   "metadata": {},
   "outputs": [
    {
     "data": {
      "text/plain": [
       "[50, 30, 20, 10]"
      ]
     },
     "execution_count": 26,
     "metadata": {},
     "output_type": "execute_result"
    }
   ],
   "source": [
    "list_a"
   ]
  },
  {
   "cell_type": "code",
   "execution_count": 27,
   "id": "92ca3a6d",
   "metadata": {},
   "outputs": [],
   "source": [
    "list_a.sort()"
   ]
  },
  {
   "cell_type": "code",
   "execution_count": 28,
   "id": "2d2c000c",
   "metadata": {},
   "outputs": [
    {
     "name": "stdout",
     "output_type": "stream",
     "text": [
      "[10, 20, 30, 50, 100]\n"
     ]
    }
   ],
   "source": [
    "# list의 원소를 추가하는 방법\n",
    "# 가장 마지막에 원소를 추가하는 방법 : append('data')\n",
    "# 특정 위치에 데이터를 대입 : insert ( index, 'data' )\n",
    "\n",
    "list_a.append(100)\n",
    "print(list_a)"
   ]
  },
  {
   "cell_type": "code",
   "execution_count": 29,
   "id": "4e812aa6",
   "metadata": {},
   "outputs": [
    {
     "name": "stdout",
     "output_type": "stream",
     "text": [
      "[10, 20, 5, 30, 50, 100]\n"
     ]
    }
   ],
   "source": [
    "list_a.insert(2,5) #list_a의 3번째 자리(index=[2])에 5를 삽입\n",
    "print(list_a)"
   ]
  },
  {
   "cell_type": "code",
   "execution_count": 1,
   "id": "23e5d191",
   "metadata": {},
   "outputs": [],
   "source": [
    "#list_a.update(2,10)  # list에 update() 라는 함수가 존재하지 않기 때문에 에러 발생"
   ]
  },
  {
   "cell_type": "code",
   "execution_count": 30,
   "id": "668f49d5",
   "metadata": {},
   "outputs": [
    {
     "name": "stdout",
     "output_type": "stream",
     "text": [
      "20\n",
      "[10, 15, 5, 30, 50, 100]\n"
     ]
    }
   ],
   "source": [
    "# list 내부의 데이터를 수정하는 방법??\n",
    "# 어떠한 데이터를 수정할 것인가?? -> 수정할 데이터를 선택\n",
    "# list_a에 있는 2번째의 위치의 데이터를 수정할 것이다.(index -> 1)\n",
    "print(list_a[1])\n",
    "#30을 15로 변경하고싶다.\n",
    "#-> 30의 데이터를 제거하고 15를 대입\n",
    "list_a[1] = 15\n",
    "print(list_a)"
   ]
  },
  {
   "cell_type": "code",
   "execution_count": 31,
   "id": "68918b33",
   "metadata": {},
   "outputs": [
    {
     "data": {
      "text/plain": [
       "100"
      ]
     },
     "execution_count": 31,
     "metadata": {},
     "output_type": "execute_result"
    }
   ],
   "source": [
    "# list에서 데이터를 삭제\n",
    "# 가장 마지막 데이터를 제거 : pop() 함수 사용\n",
    "# 특정 값의 데이터를 제거 : remove('제거할 data') 함수 사용\n",
    "# 특정 위치의 데이터를 제거 : del list[index]\n",
    "list_a.pop()\n"
   ]
  },
  {
   "cell_type": "code",
   "execution_count": 32,
   "id": "03f9660a",
   "metadata": {},
   "outputs": [
    {
     "data": {
      "text/plain": [
       "[10, 15, 5, 30, 50, 15]"
      ]
     },
     "execution_count": 32,
     "metadata": {},
     "output_type": "execute_result"
    }
   ],
   "source": [
    "list_a.append(15)\n",
    "list_a"
   ]
  },
  {
   "cell_type": "code",
   "execution_count": 33,
   "id": "c0645f6c",
   "metadata": {},
   "outputs": [],
   "source": [
    "# remove() 함수를 이용하여 list_a의 15라는 값을 제거\n",
    "list_a.remove(15)"
   ]
  },
  {
   "cell_type": "code",
   "execution_count": 34,
   "id": "1093094b",
   "metadata": {},
   "outputs": [
    {
     "data": {
      "text/plain": [
       "[10, 5, 30, 50, 15]"
      ]
     },
     "execution_count": 34,
     "metadata": {},
     "output_type": "execute_result"
    }
   ],
   "source": [
    "list_a"
   ]
  },
  {
   "cell_type": "code",
   "execution_count": 35,
   "id": "dbc6f30b",
   "metadata": {},
   "outputs": [],
   "source": [
    "#특정 위치의 데이터를 제거하는 del\n",
    "del list_a[3]"
   ]
  },
  {
   "cell_type": "code",
   "execution_count": 36,
   "id": "f13db510",
   "metadata": {},
   "outputs": [
    {
     "data": {
      "text/plain": [
       "[10, 5, 30, 15]"
      ]
     },
     "execution_count": 36,
     "metadata": {},
     "output_type": "execute_result"
    }
   ],
   "source": [
    "list_a"
   ]
  },
  {
   "cell_type": "code",
   "execution_count": 37,
   "id": "c28bc331",
   "metadata": {},
   "outputs": [
    {
     "name": "stdout",
     "output_type": "stream",
     "text": [
      "10\n",
      "10\n"
     ]
    }
   ],
   "source": [
    "# 복사본 생성? (백업)\n",
    "a = 10\n",
    "b = a\n",
    "print(a)\n",
    "print(b)"
   ]
  },
  {
   "cell_type": "code",
   "execution_count": 38,
   "id": "466260b8",
   "metadata": {},
   "outputs": [
    {
     "name": "stdout",
     "output_type": "stream",
     "text": [
      "11\n",
      "10\n"
     ]
    }
   ],
   "source": [
    "a += 1 # a = a+1\n",
    "print(a)\n",
    "print(b)"
   ]
  },
  {
   "cell_type": "code",
   "execution_count": 39,
   "id": "ce390d99",
   "metadata": {},
   "outputs": [],
   "source": [
    "list_clone = list_a"
   ]
  },
  {
   "cell_type": "code",
   "execution_count": 40,
   "id": "f1990d79",
   "metadata": {},
   "outputs": [
    {
     "name": "stdout",
     "output_type": "stream",
     "text": [
      "[10, 5, 30, 15]\n",
      "[10, 5, 30, 15]\n"
     ]
    }
   ],
   "source": [
    "print(list_a)\n",
    "print(list_clone)\n"
   ]
  },
  {
   "cell_type": "code",
   "execution_count": 41,
   "id": "ca581c64",
   "metadata": {},
   "outputs": [
    {
     "data": {
      "text/plain": [
       "15"
      ]
     },
     "execution_count": 41,
     "metadata": {},
     "output_type": "execute_result"
    }
   ],
   "source": [
    "#list_clone을 수정\n",
    "list_clone.pop()"
   ]
  },
  {
   "cell_type": "code",
   "execution_count": 42,
   "id": "9a58b0ae",
   "metadata": {},
   "outputs": [
    {
     "name": "stdout",
     "output_type": "stream",
     "text": [
      "[10, 5, 30]\n",
      "[10, 5, 30]\n"
     ]
    }
   ],
   "source": [
    "print(list_a)\n",
    "print(list_clone)"
   ]
  },
  {
   "cell_type": "code",
   "execution_count": 43,
   "id": "bd41a58b",
   "metadata": {},
   "outputs": [
    {
     "data": {
      "text/plain": [
       "[10, 5, 30]"
      ]
     },
     "execution_count": 43,
     "metadata": {},
     "output_type": "execute_result"
    }
   ],
   "source": [
    "#list = list -> 같은 위치의 데이터를 의미\n",
    "# 실제 복사본을 생성하려면 copy() 함수를 의미\n",
    "list_a.copy()"
   ]
  },
  {
   "cell_type": "code",
   "execution_count": 44,
   "id": "037bc566",
   "metadata": {},
   "outputs": [],
   "source": [
    "list_clone2 = list_a.copy()"
   ]
  },
  {
   "cell_type": "code",
   "execution_count": 45,
   "id": "25c3930d",
   "metadata": {},
   "outputs": [],
   "source": [
    "list_clone2.append(1)"
   ]
  },
  {
   "cell_type": "code",
   "execution_count": 46,
   "id": "de6def7b",
   "metadata": {},
   "outputs": [
    {
     "name": "stdout",
     "output_type": "stream",
     "text": [
      "[10, 5, 30]\n",
      "[10, 5, 30]\n",
      "[10, 5, 30, 1]\n"
     ]
    }
   ],
   "source": [
    "print(list_a)\n",
    "print(list_clone)\n",
    "print(list_clone2)"
   ]
  },
  {
   "cell_type": "code",
   "execution_count": null,
   "id": "4848f3ec",
   "metadata": {},
   "outputs": [],
   "source": [
    "# list에서 정렬을 변경하고 원본 데이터는 그대로 유지\n",
    "# sorted(list 이름 )\n",
    "sort_list_a = sorted(list_a)"
   ]
  },
  {
   "cell_type": "code",
   "execution_count": 48,
   "id": "fc722382",
   "metadata": {},
   "outputs": [
    {
     "name": "stdout",
     "output_type": "stream",
     "text": [
      "[10, 5, 30]\n",
      "[5, 10, 30]\n"
     ]
    }
   ],
   "source": [
    "print(list_a)\n",
    "print(sort_list_a)"
   ]
  },
  {
   "cell_type": "code",
   "execution_count": 49,
   "id": "5aafd275",
   "metadata": {},
   "outputs": [
    {
     "data": {
      "text/plain": [
       "[10, 5, 30, 'fi', 'be', 'abc']"
      ]
     },
     "execution_count": 49,
     "metadata": {},
     "output_type": "execute_result"
    }
   ],
   "source": [
    "# list 간의 합\n",
    "list_a + list_b"
   ]
  },
  {
   "cell_type": "code",
   "execution_count": null,
   "id": "e6967fb0",
   "metadata": {},
   "outputs": [
    {
     "ename": "TypeError",
     "evalue": "can only concatenate list (not \"int\") to list",
     "output_type": "error",
     "traceback": [
      "\u001b[31m---------------------------------------------------------------------------\u001b[39m",
      "\u001b[31mTypeError\u001b[39m                                 Traceback (most recent call last)",
      "\u001b[36mCell\u001b[39m\u001b[36m \u001b[39m\u001b[32mIn[57]\u001b[39m\u001b[32m, line 2\u001b[39m\n\u001b[32m      1\u001b[39m \u001b[38;5;66;03m# list와 숫자의 합?\u001b[39;00m\n\u001b[32m----> \u001b[39m\u001b[32m2\u001b[39m \u001b[43mlist_a\u001b[49m\u001b[43m \u001b[49m\u001b[43m+\u001b[49m\u001b[43m \u001b[49m\u001b[32;43m1\u001b[39;49m\n",
      "\u001b[31mTypeError\u001b[39m: can only concatenate list (not \"int\") to list"
     ]
    }
   ],
   "source": [
    "# list와 숫자의 합? -> 에러가 발생 -> list도 단일 데이터와의 합은 문제 발생\n",
    "list_a + 1"
   ]
  },
  {
   "cell_type": "code",
   "execution_count": null,
   "id": "3596e184",
   "metadata": {},
   "outputs": [
    {
     "data": {
      "text/plain": [
       "1"
      ]
     },
     "execution_count": 50,
     "metadata": {},
     "output_type": "execute_result"
    }
   ],
   "source": [
    "# 데이터를 찾는 함수\n",
    "# index(data) : 특정 데이터의 첫번째(index=[1]) 위치를 출력 \n",
    "list_a.index(5)"
   ]
  },
  {
   "cell_type": "code",
   "execution_count": 63,
   "id": "6ac3e237",
   "metadata": {},
   "outputs": [],
   "source": [
    "# index() 함수를 이용해서 없는 데이터를 찾는 경우? -> 에러가 발생\n",
    "# list_a.index(10)"
   ]
  },
  {
   "cell_type": "code",
   "execution_count": 64,
   "id": "d7e8dc19",
   "metadata": {},
   "outputs": [],
   "source": [
    "# 2차원 데이터 : 리스트 안에 리스트, 리스트 안에 튜플, 튜플 아에 리스트, 딕셔너리 안에 리스트, 리스트 안에 딕셔너리\n",
    "\n",
    "list_c = [\n",
    "    [10,20],\n",
    "    [30,40],\n",
    "    [50,60]\n",
    "]"
   ]
  },
  {
   "cell_type": "code",
   "execution_count": 65,
   "id": "217e5652",
   "metadata": {},
   "outputs": [
    {
     "data": {
      "text/plain": [
       "[30, 40]"
      ]
     },
     "execution_count": 65,
     "metadata": {},
     "output_type": "execute_result"
    }
   ],
   "source": [
    "# 2차원 데이터에서 특정위치 하나를 선택하면 -> 1차원 데이터 변경\n",
    "list_c[1] # list_c에서 2번째 위치의 데이터를 추출\n"
   ]
  },
  {
   "cell_type": "code",
   "execution_count": null,
   "id": "46c9fbaa",
   "metadata": {},
   "outputs": [
    {
     "name": "stdout",
     "output_type": "stream",
     "text": [
      "[30, 40]\n",
      "30\n"
     ]
    }
   ],
   "source": [
    "#list_c에서 30이라는 데이터를 추출\n",
    "# list_c 30은 2번째 위치의 원소 안에 포함\n",
    "print(list_c[1])\n",
    "# 2번째 위치의 원소에서 첫번째 위치의 데이터가 30\n",
    "print(list_c[1][0])"
   ]
  },
  {
   "cell_type": "code",
   "execution_count": null,
   "id": "70297eee",
   "metadata": {},
   "outputs": [],
   "source": [
    "#딕셔너리\n",
    "dict_a = {\n",
    "    'name' : 'test',\n",
    "    'age' : 20,\n",
    "    'phone' : '01012345678'\n",
    "}"
   ]
  },
  {
   "cell_type": "code",
   "execution_count": null,
   "id": "b082ab68",
   "metadata": {},
   "outputs": [
    {
     "ename": "KeyError",
     "evalue": "0",
     "output_type": "error",
     "traceback": [
      "\u001b[31m---------------------------------------------------------------------------\u001b[39m",
      "\u001b[31mKeyError\u001b[39m                                  Traceback (most recent call last)",
      "\u001b[36mCell\u001b[39m\u001b[36m \u001b[39m\u001b[32mIn[68]\u001b[39m\u001b[32m, line 1\u001b[39m\n\u001b[32m----> \u001b[39m\u001b[32m1\u001b[39m \u001b[43mdict_a\u001b[49m\u001b[43m[\u001b[49m\u001b[32;43m0\u001b[39;49m\u001b[43m]\u001b[49m\n",
      "\u001b[31mKeyError\u001b[39m: 0"
     ]
    }
   ],
   "source": [
    "# 딕셔너리는 위치를 기준으로 하는 list와 달리 key를 기준으로 데이터를 추출\n",
    "# dict_a[0] --> 0이라는 키값에 대응이 되는 value를 출력한다 \n",
    "# -> 0이라는 key가 존재하지 않기 때문에 에러 발생\n",
    "dict_a[0]"
   ]
  },
  {
   "cell_type": "code",
   "execution_count": 69,
   "id": "e1771a4f",
   "metadata": {},
   "outputs": [
    {
     "data": {
      "text/plain": [
       "'test'"
      ]
     },
     "execution_count": 69,
     "metadata": {},
     "output_type": "execute_result"
    }
   ],
   "source": [
    "dict_a['name']"
   ]
  },
  {
   "cell_type": "code",
   "execution_count": 70,
   "id": "80984b4a",
   "metadata": {},
   "outputs": [],
   "source": [
    "dict_b = {\n",
    "    'age' : 20,\n",
    "    'name' : 'test2',\n",
    "    'phone' : '01012345678'\n",
    "}"
   ]
  },
  {
   "cell_type": "code",
   "execution_count": 71,
   "id": "2bcb32e8",
   "metadata": {},
   "outputs": [
    {
     "data": {
      "text/plain": [
       "'test2'"
      ]
     },
     "execution_count": 71,
     "metadata": {},
     "output_type": "execute_result"
    }
   ],
   "source": [
    "dict_b['name']"
   ]
  },
  {
   "cell_type": "code",
   "execution_count": 74,
   "id": "9aaf5c14",
   "metadata": {},
   "outputs": [],
   "source": [
    "#데이터를 추가하려면 -> key : value를 추가\n",
    "# 추가 기능과 수정 기능의 코드 차이가 거의 없다.\n",
    "# 추가 -> 새로운 key = data\n",
    "# 수정 -> 기존 key = data\n",
    "# dict_a에 loc 라는 키 값으로 value = seoul 데이터를 추가\n",
    "dict_a['loc'] = 'Seoul'"
   ]
  },
  {
   "cell_type": "code",
   "execution_count": 75,
   "id": "e00f09e3",
   "metadata": {},
   "outputs": [
    {
     "data": {
      "text/plain": [
       "{'name': 'test', 'age': 20, 'phone': '01012345678', 'loc': 'Seoul'}"
      ]
     },
     "execution_count": 75,
     "metadata": {},
     "output_type": "execute_result"
    }
   ],
   "source": [
    "dict_a"
   ]
  },
  {
   "cell_type": "code",
   "execution_count": null,
   "id": "363352b7",
   "metadata": {},
   "outputs": [],
   "source": [
    "#기존의 키 값을 선택하고 데이터를 대입하면 \n",
    "# 기존의 value는 제거되고 새로운 value가 추가(데이터 수정)\n",
    "dict_a['age'] = 30"
   ]
  },
  {
   "cell_type": "code",
   "execution_count": 78,
   "id": "ad950d99",
   "metadata": {},
   "outputs": [
    {
     "data": {
      "text/plain": [
       "{'name': 'test', 'age': 30, 'phone': '01012345678', 'loc': 'Seoul'}"
      ]
     },
     "execution_count": 78,
     "metadata": {},
     "output_type": "execute_result"
    }
   ],
   "source": [
    "dict_a"
   ]
  },
  {
   "cell_type": "code",
   "execution_count": null,
   "id": "45795a8d",
   "metadata": {},
   "outputs": [],
   "source": [
    "# dict에서 데이터를 제거 (del 함수) -> key와 value가 모두 삭제\n",
    "del dict_a['name']"
   ]
  },
  {
   "cell_type": "code",
   "execution_count": 80,
   "id": "cabe17b2",
   "metadata": {},
   "outputs": [
    {
     "data": {
      "text/plain": [
       "{'age': 30, 'phone': '01012345678', 'loc': 'Seoul'}"
      ]
     },
     "execution_count": 80,
     "metadata": {},
     "output_type": "execute_result"
    }
   ],
   "source": [
    "dict_a"
   ]
  },
  {
   "cell_type": "code",
   "execution_count": 84,
   "id": "772c883f",
   "metadata": {},
   "outputs": [],
   "source": [
    "# 데이터를 수집하는 경우\n",
    "# open api(data api) 사용하는 경우\n",
    "# 리스트안에 딕셔너리이거나 딕셔너리 안에 리스트인 경우가 많다\n",
    "\n",
    "sample_data = {\n",
    "    'name' : [ 'kim','park','lee'],\n",
    "    'age'  : [ '20', '25', '30'],\n",
    "    'gender' : ['F', 'M', 'F']\n",
    "}"
   ]
  },
  {
   "cell_type": "code",
   "execution_count": 85,
   "id": "c4165f9b",
   "metadata": {},
   "outputs": [
    {
     "data": {
      "text/plain": [
       "['F', 'M', 'F']"
      ]
     },
     "execution_count": 85,
     "metadata": {},
     "output_type": "execute_result"
    }
   ],
   "source": [
    "# sample_data에서 'M'을 추출하려면?\n",
    "# sample_data의 타입? -> dict이므로 'M'이 위치한 key는 -> 'gender'\n",
    "sample_data['gender']"
   ]
  },
  {
   "cell_type": "code",
   "execution_count": 104,
   "id": "325437ac",
   "metadata": {},
   "outputs": [
    {
     "data": {
      "text/plain": [
       "'M'"
      ]
     },
     "execution_count": 104,
     "metadata": {},
     "output_type": "execute_result"
    }
   ],
   "source": [
    "# 위의 결과에서 나온 1차원 데이터에서 'M'은 몇번쨰 위치? -> 1\n",
    "sample_data['gender'][1]"
   ]
  },
  {
   "cell_type": "code",
   "execution_count": 94,
   "id": "71cb62fa",
   "metadata": {},
   "outputs": [],
   "source": [
    "sample_data2 = [\n",
    "    {\n",
    "        'name' : 'kim',\n",
    "        'age' : 20,\n",
    "        'gender' : 'F'\n",
    "    },\n",
    "    {\n",
    "        'name' : 'park',\n",
    "        'age' : 25,\n",
    "        'gender' : 'M'\n",
    "    },\n",
    "    {\n",
    "        'name' : 'lee',\n",
    "        'age' : 30,\n",
    "        'gender' : 'F'\n",
    "    },\n",
    "]"
   ]
  },
  {
   "cell_type": "code",
   "execution_count": 98,
   "id": "71d11b6d",
   "metadata": {},
   "outputs": [
    {
     "data": {
      "text/plain": [
       "{'name': 'park', 'age': 25, 'gender': 'M'}"
      ]
     },
     "execution_count": 98,
     "metadata": {},
     "output_type": "execute_result"
    }
   ],
   "source": [
    "#sample_data2에서 'park'이라는 데이터를 추출하려면?\n",
    "# sample_data2에서 2번째 위치에 'park'데이터가 존재 -> index 1\n",
    "sample_data2[1]"
   ]
  },
  {
   "cell_type": "code",
   "execution_count": 100,
   "id": "878f8e90",
   "metadata": {},
   "outputs": [
    {
     "data": {
      "text/plain": [
       "'park'"
      ]
     },
     "execution_count": 100,
     "metadata": {},
     "output_type": "execute_result"
    }
   ],
   "source": [
    "#sample_data2[1]은 데이터의 타입이 dict이고, 'park'라는 데이터는 'name'이라는 'key'에 존재\n",
    "sample_data2[1]['name']"
   ]
  },
  {
   "cell_type": "code",
   "execution_count": null,
   "id": "e21ae001",
   "metadata": {},
   "outputs": [
    {
     "name": "stdout",
     "output_type": "stream",
     "text": [
      "['kim']\n"
     ]
    }
   ],
   "source": [
    "# sample_data2에서 이름들을 따로 새로운 리스트를 생성\n",
    "# 이름들을 저장할 수 있는 공간을 생성 -> 변수에 여러개의 이름이 저장 -> 리스트나 딕셔너리형태로 만들어주는 것이 좋음\n",
    "\n",
    "name_list = [] #실행할때마다 비워줌\n",
    "#sample_data2에서 첫번째 원소의 'name'값을 추출하여 name_list에 추가\n",
    "\n",
    "name = sample_data2[0]['name']\n",
    "name_list.append(name)\n",
    "print(name_list)"
   ]
  },
  {
   "cell_type": "code",
   "execution_count": 125,
   "id": "607e2bb5",
   "metadata": {},
   "outputs": [
    {
     "name": "stdout",
     "output_type": "stream",
     "text": [
      "['kim', 'park']\n",
      "['kim', 'park', 'lee']\n"
     ]
    }
   ],
   "source": [
    "#sample_data2에서 두번째,세번째 원소의 'name'값을 추출하여 name_list에 추가\n",
    "\n",
    "name = sample_data2[1]['name']\n",
    "name_list.append(name)\n",
    "print(name_list)\n",
    "\n",
    "name = sample_data2[2]['name']\n",
    "name_list.append(name)\n",
    "print(name_list)\n",
    "\n"
   ]
  },
  {
   "cell_type": "code",
   "execution_count": null,
   "id": "755ec25f",
   "metadata": {},
   "outputs": [
    {
     "name": "stdout",
     "output_type": "stream",
     "text": [
      "['kim', 'park', 'lee']\n"
     ]
    }
   ],
   "source": [
    "# 반복문을 이용하여 name_list 생성\n",
    "# 새로운 빈 리스트를 생성\n",
    "\n",
    "#name_list2 = []\n",
    "#for i in range(3):\n",
    "#   name = sample_data2[0]['name']\n",
    "#   name_list2.append(name)\n",
    "#   name = sample_data2[1]['name']\n",
    "#   name_list2.append(name)\n",
    "#   name = sample_data2[2]['name']\n",
    "#   name_list2.append(name)\n",
    "\n",
    "name_list2 = []\n",
    "\n",
    "for i in range(3):\n",
    "    name = sample_data2[i]['name']\n",
    "    name_list2.append(name)\n",
    "\n",
    "print(name_list2)\n",
    "    "
   ]
  },
  {
   "cell_type": "code",
   "execution_count": null,
   "id": "0b5f222a",
   "metadata": {},
   "outputs": [
    {
     "name": "stdout",
     "output_type": "stream",
     "text": [
      "['lee']\n"
     ]
    }
   ],
   "source": [
    "# name_list2 = [] 의 위치를 잘 생각해야함\n",
    "# 반복될때마다 빈리스트가 저장되기 때문에 마지막에 추가된 'lee'만 출력됌\n",
    "for i in range(3):\n",
    "    name_list2 = []\n",
    "    name = sample_data2[i]['name']\n",
    "    name_list2.append(name)\n",
    "\n",
    "print(name_list2)"
   ]
  },
  {
   "cell_type": "code",
   "execution_count": 130,
   "id": "8edac9a3",
   "metadata": {},
   "outputs": [
    {
     "data": {
      "text/plain": [
       "3"
      ]
     },
     "execution_count": 130,
     "metadata": {},
     "output_type": "execute_result"
    }
   ],
   "source": [
    "len(sample_data2)"
   ]
  },
  {
   "cell_type": "code",
   "execution_count": null,
   "id": "7e016412",
   "metadata": {},
   "outputs": [
    {
     "name": "stdout",
     "output_type": "stream",
     "text": [
      "10\n",
      "40\n",
      "20\n",
      "30\n",
      "10\n",
      "40\n",
      "20\n",
      "30\n"
     ]
    }
   ],
   "source": [
    "list_a = [10,40,20,30]\n",
    "\n",
    "\n",
    "for i in list_a:\n",
    "    #i -> list_a의 각 원소들이 대입\n",
    "    print(i)\n",
    "\n",
    "for i in range(len(list_a)):\n",
    "    #i -> list_a의 위치값 대입\n",
    "    print(list_a[i])\n",
    "\n"
   ]
  },
  {
   "cell_type": "code",
   "execution_count": 132,
   "id": "baaed46a",
   "metadata": {},
   "outputs": [
    {
     "name": "stdout",
     "output_type": "stream",
     "text": [
      "{'name': 'kim', 'age': 20, 'gender': 'F'}\n"
     ]
    }
   ],
   "source": [
    "for i in sample_data2:\n",
    "    # i는 ??? -> \n",
    "    print(i)\n",
    "    break"
   ]
  },
  {
   "cell_type": "code",
   "execution_count": null,
   "id": "f63c94cf",
   "metadata": {},
   "outputs": [
    {
     "name": "stdout",
     "output_type": "stream",
     "text": [
      "{'name': 'kim', 'age': 20, 'gender': 'F'}\n",
      "kim\n",
      "{'name': 'park', 'age': 25, 'gender': 'M'}\n",
      "park\n",
      "{'name': 'lee', 'age': 30, 'gender': 'F'}\n",
      "lee\n"
     ]
    }
   ],
   "source": [
    "for i in sample_data2:\n",
    "    # i는 ??? -> sample_data2에 있는 원소들(dict)\n",
    "    print(i)\n",
    "    #i에서 name이라고 하는 key의 value를 추출\n",
    "    print(i['name'])"
   ]
  },
  {
   "cell_type": "code",
   "execution_count": 136,
   "id": "2e7a238a",
   "metadata": {},
   "outputs": [
    {
     "name": "stdout",
     "output_type": "stream",
     "text": [
      "{'name': 'kim', 'age': 20, 'gender': 'F'}\n",
      "kim\n",
      "{'name': 'park', 'age': 25, 'gender': 'M'}\n",
      "park\n",
      "{'name': 'lee', 'age': 30, 'gender': 'F'}\n",
      "lee\n",
      "['kim', 'park', 'lee']\n"
     ]
    }
   ],
   "source": [
    "name_list3 = []\n",
    "\n",
    "for i in sample_data2:\n",
    "    # i는 ??? -> sample_data2에 있는 원소들(dict)\n",
    "    print(i)\n",
    "    #i에서 name이라고 하는 key의 value를 추출\n",
    "    print(i['name'])\n",
    "    name_list3.append(i['name'])\n",
    "\n",
    "print(name_list3)"
   ]
  },
  {
   "cell_type": "code",
   "execution_count": 137,
   "id": "93330ae9",
   "metadata": {},
   "outputs": [
    {
     "name": "stdout",
     "output_type": "stream",
     "text": [
      "['kim', 'park', 'lee']\n"
     ]
    }
   ],
   "source": [
    "name_list3 = []\n",
    "\n",
    "for i in sample_data2:\n",
    "    # i는 ??? -> sample_data2에 있는 원소들(dict)\n",
    "    #print(i)\n",
    "    #i에서 name이라고 하는 key의 value를 추출\n",
    "    #print(i['name'])\n",
    "    name_list3.append(i['name'])\n",
    "\n",
    "print(name_list3)"
   ]
  },
  {
   "cell_type": "code",
   "execution_count": 139,
   "id": "ae7b08d1",
   "metadata": {},
   "outputs": [
    {
     "name": "stdout",
     "output_type": "stream",
     "text": [
      "name\n",
      "['kim', 'park', 'lee']\n",
      "age\n",
      "['20', '25', '30']\n",
      "gender\n",
      "['F', 'M', 'F']\n"
     ]
    }
   ],
   "source": [
    "# dict 형태의 데이터를 가지고 반복문을 이용한다면?\n",
    "\n",
    "for i in sample_data:\n",
    "    #i는 ??? -> print를 해봐라 -> dict 데이터에서 key 값 대입\n",
    "    print(i)\n",
    "    print(sample_data[i])"
   ]
  },
  {
   "cell_type": "code",
   "execution_count": 143,
   "id": "86f230b9",
   "metadata": {},
   "outputs": [],
   "source": [
    "#sort() -> 리스트 각각의 원소들을 비교하여 가장 작은 데이터를 처음으로 \n",
    "#          가장 큰 데이터를 마지막으로하여 정렬을 변경하는 함수\n",
    "\n",
    "sample_list = [30,10,50,7]\n",
    "#sample_list에서 가장 작은 데이터를 담아줄 수 있는 새로운 빈 리스트 필요\n",
    "\n",
    "sort_list = []\n",
    "\n",
    "#sample_list의 길이만큼 반복을 하는 반복문을 생성\n",
    "for i in range(0,len(sample_list)):                               #반복횟수 : 4번\n",
    "    #첫번째 원소의 데이터를 최솟값으로 지정\n",
    "    min_value = sample_list[0]\n",
    "    #두번째 원소[1]부터 마지막 원소(len)까지 min_value랑 비교해서 작은 데이터를 min_value에 대입\n",
    "    for j in range(1,len(sample_list)):                           #반복횟수 : 3번\n",
    "        #min_value와 sample_list[j] 데이터를 비교하여 작은 값을 찾는다.\n",
    "        if min_value > sample_list[j]:\n",
    "            #min_value가 리스트의 원소보다 크다면 실행이 되는 부분\n",
    "            min_value = sample_list[j]\n",
    "    # print(min_value)\n",
    "    sort_list.append(min_value)\n",
    "    # sample_list에서 최솟값으로 지정된 데이터를 sample_list 에서 제거\n",
    "    sample_list.remove(min_value)\n"
   ]
  },
  {
   "cell_type": "code",
   "execution_count": 145,
   "id": "2638d855",
   "metadata": {},
   "outputs": [
    {
     "data": {
      "text/plain": [
       "[7, 10, 30, 50]"
      ]
     },
     "execution_count": 145,
     "metadata": {},
     "output_type": "execute_result"
    }
   ],
   "source": [
    "sort_list"
   ]
  },
  {
   "cell_type": "code",
   "execution_count": null,
   "id": "f9e485eb",
   "metadata": {},
   "outputs": [
    {
     "name": "stdout",
     "output_type": "stream",
     "text": [
      "7\n",
      "10\n",
      "30\n",
      "50\n",
      "[7, 10, 30, 50]\n"
     ]
    }
   ],
   "source": [
    "#min 함수와 max 함수 이용해서 위의 값 도출\n",
    "\n",
    "sample_list = [30,10,50,7]\n",
    "sort_list = []\n",
    "\n",
    "for i in range(len(sample_list)):\n",
    "    #반복할때마다 sample_list의 가장 작은 데이터를 찾는다 -> min()\n",
    "    min_value = min(sample_list)\n",
    "    print(min_value)\n",
    "\n",
    "    sort_list.append(min_value)\n",
    "\n",
    "    #sample_list에서 min_value제거\n",
    "    sample_list.remove(min_value)\n",
    "\n",
    "print(sort_list)"
   ]
  },
  {
   "cell_type": "code",
   "execution_count": null,
   "id": "55261edc",
   "metadata": {},
   "outputs": [
    {
     "data": {
      "text/plain": [
       "[7, 10, 30, 50]"
      ]
     },
     "execution_count": 148,
     "metadata": {},
     "output_type": "execute_result"
    }
   ],
   "source": [
    "#위의 과정을 기능하는 함수 sorted\n",
    "sample_list = [30,10,50,7]\n",
    "sorted(sample_list)"
   ]
  },
  {
   "cell_type": "code",
   "execution_count": null,
   "id": "544bfb85",
   "metadata": {},
   "outputs": [],
   "source": []
  }
 ],
 "metadata": {
  "kernelspec": {
   "display_name": "base",
   "language": "python",
   "name": "python3"
  },
  "language_info": {
   "codemirror_mode": {
    "name": "ipython",
    "version": 3
   },
   "file_extension": ".py",
   "mimetype": "text/x-python",
   "name": "python",
   "nbconvert_exporter": "python",
   "pygments_lexer": "ipython3",
   "version": "3.12.4"
  }
 },
 "nbformat": 4,
 "nbformat_minor": 5
}
